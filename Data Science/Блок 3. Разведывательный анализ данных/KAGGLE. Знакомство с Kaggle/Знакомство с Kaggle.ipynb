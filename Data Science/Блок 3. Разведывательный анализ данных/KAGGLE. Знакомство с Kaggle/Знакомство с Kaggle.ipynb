{
 "cells": [
  {
   "cell_type": "markdown",
   "metadata": {},
   "source": [
    "Профессия Data Science  \n",
    "Блок 3. Разведывательный анализ данных  \n",
    "**KAGGLE. Знакомство с Kaggle**\n",
    "\n",
    "---\n",
    "\n",
    "## **✍ Оглавление:**\n",
    "\n",
    "2. Основы Kaggle\n",
    "\n",
    "---\n",
    "\n",
    "## **2. Основы Kaggle**\n",
    "\n",
    "**Kaggle** — международная платформа для проведения соревнований по анализу данных на основе реальных задач от различных компаний."
   ]
  }
 ],
 "metadata": {
  "language_info": {
   "name": "python"
  }
 },
 "nbformat": 4,
 "nbformat_minor": 2
}
