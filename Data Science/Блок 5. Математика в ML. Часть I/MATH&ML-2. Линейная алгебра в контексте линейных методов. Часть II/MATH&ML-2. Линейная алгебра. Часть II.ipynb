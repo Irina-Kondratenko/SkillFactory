{
 "cells": [
  {
   "cell_type": "markdown",
   "metadata": {},
   "source": [
    "Профессия Data Science  \n",
    "Блок 5. Математика в ML. Часть I  \n",
    "**MATH&ML-2. Линейная алгебра в контексте линейных методов. Часть II**\n",
    "\n",
    "---\n",
    "\n",
    "## **✍ Оглавление:**"
   ]
  }
 ],
 "metadata": {
  "language_info": {
   "name": "python"
  }
 },
 "nbformat": 4,
 "nbformat_minor": 2
}
