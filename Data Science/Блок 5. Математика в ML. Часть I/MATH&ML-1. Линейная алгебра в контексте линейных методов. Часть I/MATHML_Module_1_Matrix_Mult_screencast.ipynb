{
 "cells": [
  {
   "cell_type": "code",
   "execution_count": 41,
   "metadata": {
    "collapsed": true
   },
   "outputs": [],
   "source": [
    "import numpy as np"
   ]
  },
  {
   "cell_type": "code",
   "execution_count": 42,
   "metadata": {
    "collapsed": true
   },
   "outputs": [],
   "source": [
    "# произведение матриц\n",
    "A=np.random.randint(5, 12, (3,3))\n",
    "B=np.random.randint(-2, 4, (3,3))"
   ]
  },
  {
   "cell_type": "code",
   "execution_count": 43,
   "metadata": {
    "collapsed": false
   },
   "outputs": [
    {
     "data": {
      "text/plain": [
       "array([[10,  8,  5],\n",
       "       [ 7,  6,  5],\n",
       "       [11, 10,  8]])"
      ]
     },
     "execution_count": 43,
     "metadata": {},
     "output_type": "execute_result"
    }
   ],
   "source": [
    "A"
   ]
  },
  {
   "cell_type": "code",
   "execution_count": 44,
   "metadata": {
    "collapsed": false
   },
   "outputs": [
    {
     "data": {
      "text/plain": [
       "array([[ 2,  3,  3],\n",
       "       [ 2, -1,  0],\n",
       "       [-2,  2, -2]])"
      ]
     },
     "execution_count": 44,
     "metadata": {},
     "output_type": "execute_result"
    }
   ],
   "source": [
    "B"
   ]
  },
  {
   "cell_type": "code",
   "execution_count": 45,
   "metadata": {
    "collapsed": false
   },
   "outputs": [
    {
     "data": {
      "text/plain": [
       "array([[ 20,  24,  15],\n",
       "       [ 14,  -6,   0],\n",
       "       [-22,  20, -16]])"
      ]
     },
     "execution_count": 45,
     "metadata": {},
     "output_type": "execute_result"
    }
   ],
   "source": [
    "# Поэлементное умножение\n",
    "A*B"
   ]
  },
  {
   "cell_type": "code",
   "execution_count": 46,
   "metadata": {
    "collapsed": false
   },
   "outputs": [
    {
     "name": "stdout",
     "output_type": "stream",
     "text": [
      "[[26 32 20]\n",
      " [16 25 11]\n",
      " [26 39 17]]\n"
     ]
    }
   ],
   "source": [
    "# тип np.matrix\n",
    "A_m=np.matrix(A)\n",
    "B_m=np.matrix(B)\n",
    "print(A_m*B_m)"
   ]
  },
  {
   "cell_type": "code",
   "execution_count": 47,
   "metadata": {
    "collapsed": false
   },
   "outputs": [
    {
     "data": {
      "text/plain": [
       "array([[26, 32, 20],\n",
       "       [16, 25, 11],\n",
       "       [26, 39, 17]])"
      ]
     },
     "execution_count": 47,
     "metadata": {},
     "output_type": "execute_result"
    }
   ],
   "source": [
    "# Матричное умножение\n",
    "np.dot(A,B)"
   ]
  },
  {
   "cell_type": "code",
   "execution_count": 48,
   "metadata": {
    "collapsed": false
   },
   "outputs": [
    {
     "data": {
      "text/plain": [
       "array([[26, 32, 20],\n",
       "       [16, 25, 11],\n",
       "       [26, 39, 17]])"
      ]
     },
     "execution_count": 48,
     "metadata": {},
     "output_type": "execute_result"
    }
   ],
   "source": [
    "# Матричное умножение\n",
    "A@B"
   ]
  },
  {
   "cell_type": "code",
   "execution_count": 49,
   "metadata": {
    "collapsed": false
   },
   "outputs": [
    {
     "data": {
      "text/plain": [
       "array([[ 74,  64,  49],\n",
       "       [ 13,  10,   5],\n",
       "       [-28, -24, -16]])"
      ]
     },
     "execution_count": 49,
     "metadata": {},
     "output_type": "execute_result"
    }
   ],
   "source": [
    "# Порядок умножения AB != BA\n",
    "B@A"
   ]
  },
  {
   "cell_type": "code",
   "execution_count": 50,
   "metadata": {
    "collapsed": false
   },
   "outputs": [
    {
     "name": "stdout",
     "output_type": "stream",
     "text": [
      "A:\n",
      " [[ 6  8  7 10  5]\n",
      " [ 5  8  6  6 11]\n",
      " [ 8  8  6 10 11]]\n",
      "B:\n",
      " [[ 0  2]\n",
      " [-1 -2]\n",
      " [-2 -1]\n",
      " [-2 -1]\n",
      " [ 2 -2]]\n"
     ]
    }
   ],
   "source": [
    "# Умножение прямоугольных матриц возможно не в любом порядке\n",
    "A=np.random.randint(5, 12, (3,5))\n",
    "B=np.random.randint(-2, 4, (5,2))\n",
    "print('A:\\n',A)\n",
    "print('B:\\n',B)"
   ]
  },
  {
   "cell_type": "code",
   "execution_count": 51,
   "metadata": {
    "collapsed": false
   },
   "outputs": [
    {
     "data": {
      "text/plain": [
       "array([[-32, -31],\n",
       "       [-10, -40],\n",
       "       [-18, -38]])"
      ]
     },
     "execution_count": 51,
     "metadata": {},
     "output_type": "execute_result"
    }
   ],
   "source": [
    "# Умножение прямоугольных матриц возможно не в любом порядке\n",
    "A@B"
   ]
  },
  {
   "cell_type": "code",
   "execution_count": 52,
   "metadata": {
    "collapsed": false
   },
   "outputs": [
    {
     "ename": "ValueError",
     "evalue": "matmul: Input operand 1 has a mismatch in its core dimension 0, with gufunc signature (n?,k),(k,m?)->(n?,m?) (size 3 is different from 2)",
     "output_type": "error",
     "traceback": [
      "\u001b[1;31m---------------------------------------------------------------------------\u001b[0m",
      "\u001b[1;31mValueError\u001b[0m                                Traceback (most recent call last)",
      "\u001b[1;32mc:\\GitHub\\SkillFactory\\Data Science\\Блок 5. Математика в ML. Часть I\\MATH&ML-1. Линейная алгебра в контексте линейных методов. Часть I\\MATHML_Module_1_Matrix_Mult_screencast.ipynb Cell 12\u001b[0m line \u001b[0;36m2\n\u001b[0;32m      <a href='vscode-notebook-cell:/c%3A/GitHub/SkillFactory/Data%20Science/%D0%91%D0%BB%D0%BE%D0%BA%205.%20%D0%9C%D0%B0%D1%82%D0%B5%D0%BC%D0%B0%D1%82%D0%B8%D0%BA%D0%B0%20%D0%B2%20ML.%20%D0%A7%D0%B0%D1%81%D1%82%D1%8C%20I/MATH%26ML-1.%20%D0%9B%D0%B8%D0%BD%D0%B5%D0%B9%D0%BD%D0%B0%D1%8F%20%D0%B0%D0%BB%D0%B3%D0%B5%D0%B1%D1%80%D0%B0%20%D0%B2%20%D0%BA%D0%BE%D0%BD%D1%82%D0%B5%D0%BA%D1%81%D1%82%D0%B5%20%D0%BB%D0%B8%D0%BD%D0%B5%D0%B9%D0%BD%D1%8B%D1%85%20%D0%BC%D0%B5%D1%82%D0%BE%D0%B4%D0%BE%D0%B2.%20%D0%A7%D0%B0%D1%81%D1%82%D1%8C%20I/MATHML_Module_1_Matrix_Mult_screencast.ipynb#X45sZmlsZQ%3D%3D?line=0'>1</a>\u001b[0m \u001b[39m# Умножение прямоугольных матриц возможно не в любом порядке\u001b[39;00m\n\u001b[1;32m----> <a href='vscode-notebook-cell:/c%3A/GitHub/SkillFactory/Data%20Science/%D0%91%D0%BB%D0%BE%D0%BA%205.%20%D0%9C%D0%B0%D1%82%D0%B5%D0%BC%D0%B0%D1%82%D0%B8%D0%BA%D0%B0%20%D0%B2%20ML.%20%D0%A7%D0%B0%D1%81%D1%82%D1%8C%20I/MATH%26ML-1.%20%D0%9B%D0%B8%D0%BD%D0%B5%D0%B9%D0%BD%D0%B0%D1%8F%20%D0%B0%D0%BB%D0%B3%D0%B5%D0%B1%D1%80%D0%B0%20%D0%B2%20%D0%BA%D0%BE%D0%BD%D1%82%D0%B5%D0%BA%D1%81%D1%82%D0%B5%20%D0%BB%D0%B8%D0%BD%D0%B5%D0%B9%D0%BD%D1%8B%D1%85%20%D0%BC%D0%B5%D1%82%D0%BE%D0%B4%D0%BE%D0%B2.%20%D0%A7%D0%B0%D1%81%D1%82%D1%8C%20I/MATHML_Module_1_Matrix_Mult_screencast.ipynb#X45sZmlsZQ%3D%3D?line=1'>2</a>\u001b[0m B\u001b[39m@A\u001b[39;49m\n",
      "\u001b[1;31mValueError\u001b[0m: matmul: Input operand 1 has a mismatch in its core dimension 0, with gufunc signature (n?,k),(k,m?)->(n?,m?) (size 3 is different from 2)"
     ]
    }
   ],
   "source": [
    "# Умножение прямоугольных матриц возможно не в любом порядке\n",
    "B@A"
   ]
  },
  {
   "cell_type": "code",
   "execution_count": null,
   "metadata": {
    "collapsed": false
   },
   "outputs": [],
   "source": [
    "# размер произведения матриц\n",
    "print('shape of A:', np.shape(A))\n",
    "print('shape of B:', np.shape(B))\n",
    "print('shape of AB:', np.shape(A@B))"
   ]
  },
  {
   "cell_type": "code",
   "execution_count": null,
   "metadata": {
    "collapsed": false
   },
   "outputs": [],
   "source": [
    "# умножение на специальные матрицы\n",
    "A=np.random.randint(-4, 4, (4,4))\n",
    "D=np.diag([1,2,0,-1])\n",
    "print('A:\\n',A)\n",
    "print('D:\\n',D)\n",
    "print('AD:\\n',A@D)\n",
    "print('DA:\\n',D@A)"
   ]
  },
  {
   "cell_type": "code",
   "execution_count": null,
   "metadata": {
    "collapsed": false
   },
   "outputs": [],
   "source": [
    "# умножение на одномерный массив numpy\n",
    "A=np.array([[1,0,1],[1,1,1]])\n",
    "b=np.array([-3,4,5])\n",
    "A@b"
   ]
  },
  {
   "cell_type": "code",
   "execution_count": null,
   "metadata": {
    "collapsed": false
   },
   "outputs": [],
   "source": [
    "b@A"
   ]
  },
  {
   "cell_type": "code",
   "execution_count": null,
   "metadata": {
    "collapsed": false
   },
   "outputs": [],
   "source": [
    "# матрица Грама ортогональной системы векторов\n",
    "x=np.array([1,1,1])\n",
    "y=np.array([1,0,-1])\n",
    "z=np.array([-1,2,-1])\n",
    "A=np.array([x,y,z])\n",
    "print (A, type(A))"
   ]
  },
  {
   "cell_type": "code",
   "execution_count": null,
   "metadata": {
    "collapsed": false
   },
   "outputs": [],
   "source": [
    "# матрица Грама ортогональной системы векторов\n",
    "A@A.T"
   ]
  },
  {
   "cell_type": "code",
   "execution_count": null,
   "metadata": {
    "collapsed": false
   },
   "outputs": [],
   "source": [
    "# матрица Грама ортонормированной системы векторов\n",
    "x_norm=x/np.linalg.norm(x)\n",
    "y_norm=y/np.linalg.norm(y)\n",
    "z_norm=z/np.linalg.norm(z)\n",
    "A_norm=np.array([x_norm,y_norm,z_norm])\n",
    "print (A_norm, type(A_norm))"
   ]
  },
  {
   "cell_type": "code",
   "execution_count": null,
   "metadata": {
    "collapsed": false
   },
   "outputs": [],
   "source": [
    "# матрица Грама ортонормированной системы векторов\n",
    "A_norm@A_norm.T"
   ]
  },
  {
   "cell_type": "code",
   "execution_count": null,
   "metadata": {
    "collapsed": false
   },
   "outputs": [],
   "source": [
    "# ортонормированные системы рулят! :)\n",
    "np.round(A_norm@A_norm.T,1)"
   ]
  }
 ],
 "metadata": {
  "kernelspec": {
   "display_name": "Python 3",
   "language": "python",
   "name": "python3"
  },
  "language_info": {
   "codemirror_mode": {
    "name": "ipython",
    "version": 3
   },
   "file_extension": ".py",
   "mimetype": "text/x-python",
   "name": "python",
   "nbconvert_exporter": "python",
   "pygments_lexer": "ipython3",
   "version": "3.9.10"
  }
 },
 "nbformat": 4,
 "nbformat_minor": 2
}
