{
 "cells": [
  {
   "attachments": {
    "image.png": {
     "image/png": "[encoded data removed]"
    }
   },
   "cell_type": "markdown",
   "metadata": {},
   "source": [
    "Профессия Data Science  \n",
    "Блок 5. Математика в ML. Часть I  \n",
    "**MATH&ML-1. Линейная алгебра в контексте линейных методов. Часть I**\n",
    "\n",
    "---\n",
    "\n",
    "## **✍ Оглавление:**\n",
    "\n",
    "1. Введение\n",
    "2. Основные понятия линейной алгебры: векторы и действия над ними\n",
    "\n",
    "---\n",
    "\n",
    "## **1. Введение**\n",
    "\n",
    "**Линейная алгебра** — это раздел алгебры, который изучает объекты линейной природы, векторы и векторные пространства, матрицы и линейные операторы, которые они порождают, и системы линейных уравнений.\n",
    "\n",
    "**<center> ОСНОВЫ МАТЕМАТИЧЕСКОГО ЯЗЫКА: КВАНТОРЫ. ЧАСТЬ I </center>**\n",
    "\n",
    "Для начала познакомимся с *кванторами и символами*, позволяющими записывать математические формулировки:\n",
    "\n",
    "- Символ **Ɐ** читается как «для любого» и называется квантором всеобщности. Он заменяет собой слова «любой», «всякий», «для любого» и т. п.\n",
    "- Символ **∃** читается как «существует» и называется квантором существования, а  читается как «существует единственный» и называется квантором существования и единственности.   заменяет слова «существует», «найдётся» и т. п.\n",
    "- Знак импликации **→** (или ) воспринимается как замена слов «следует», «влечёт», «вытекает», «имеет место», «выполняется».\n",
    "- Знак равносильности или эквивалентности **↔** (или ) заменяет словосочетания «тогда и только тогда, когда», «в том и только том случае, когда», «если и только если».\n",
    "- Двоеточие : в математических формулах читается как «такой, что».\n",
    "Вертикальная черта | означает «при условии, что».\n",
    "\n",
    "## **2. Основные понятия линейной алгебры: векторы и действия над ними**\n",
    "\n",
    "**вектор** — это отрезок, соединяющий две точки в пространстве и имеющий направление. Например, вектор **AB**, представленный на рисунке ниже, соединяет две точки, А и B. Направление вектора указывается от точки А к точке B.\n",
    "\n",
    "![image.png](attachment:image.png)\n",
    "\n",
    "В строгом математическом смысле под вектором понимается часть некоторого векторного пространства с множеством различных свойств.\n",
    "\n",
    "В Python тоже есть своё понятие вектора, например это одномерный numpy-массив или список из чисел.\n",
    "\n",
    "Давайте введём наиболее общее определение, которое подойдёт ко всем случаям.\n",
    "\n",
    "**Вектор** — это набор чисел, записанных в определённом порядке (в столбец или в строку).\n",
    "\n",
    "**БАЗОВЫЕ ОПЕРАЦИИ С ВЕКТОРАМИ**\n",
    "\n",
    "Внутри любого векторного пространства должны быть определены следующие операции с векторами:\n",
    "\n",
    "Сложение/вычитание векторов. Результат — вектор.\n",
    "Умножение вектора на скаляр (число). Результат — вектор.\n",
    "Линейная комбинация векторов. Результат — вектор.\n",
    "\n",
    "**Сложение/вычитание векторов**\n",
    "\n",
    "Сложение векторов происходит поэлементно: первая координата складывается с первой, вторая — со второй и так далее.\n"
   ]
  },
  {
   "cell_type": "code",
   "execution_count": null,
   "metadata": {},
   "outputs": [],
   "source": [
    "a = np.array([10, 8, 5, 1])\n",
    "b = np.array([5, 15, 9, 7])\n",
    "a + b\n",
    "## array([15, 23, 14,  8])\n",
    "a - b\n",
    "## array([ 5, -7, -4, -6])"
   ]
  },
  {
   "cell_type": "markdown",
   "metadata": {},
   "source": [
    "**Умножение вектора на скаляр**\n",
    "\n",
    "Умножение вектора на число также происходит поэлементно, то есть каждая координата вектора умножается на заданное число."
   ]
  },
  {
   "cell_type": "code",
   "execution_count": null,
   "metadata": {},
   "outputs": [],
   "source": [
    "a = np.array([120, 45, 68])\n",
    "omega = 0.2\n",
    "c = a * omega\n",
    "c\n",
    "## array([24. ,  9. , 13.6])"
   ]
  }
 ],
 "metadata": {
  "language_info": {
   "name": "python"
  }
 },
 "nbformat": 4,
 "nbformat_minor": 2
}
