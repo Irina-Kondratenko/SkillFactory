{
 "cells": [
  {
   "cell_type": "markdown",
   "metadata": {},
   "source": [
    "Профессия Data Science  \n",
    "Блок 2. Подгрузка данных  \n",
    "**SQL-2. Агрегатные функции**\n",
    "\n",
    "---\n",
    "\n",
    "## **Оглавление:**\n",
    "\n",
    "1. Знакомимся с данными\n",
    "2. \n",
    "3. \n",
    "4. \n",
    "---\n",
    "\n",
    "## **1. Знакомимся с данными**"
   ]
  }
 ],
 "metadata": {
  "language_info": {
   "name": "python"
  }
 },
 "nbformat": 4,
 "nbformat_minor": 2
}
