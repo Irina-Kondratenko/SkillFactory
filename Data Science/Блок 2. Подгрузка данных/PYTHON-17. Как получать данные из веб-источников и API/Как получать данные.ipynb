{
 "cells": [
  {
   "cell_type": "markdown",
   "metadata": {},
   "source": [
    "Профессия Data Science  \n",
    "Блок 2. Подгрузка данных  \n",
    "PYTHON-17. Как получать данные из веб-источников и API\n",
    "\n",
    "\n",
    "## Оглавление:\n",
    "\n",
    "2. [Веб-запросы](#Веб-запросы)  \n",
    "3. [Библиотека requests](#Библиотека-requests)  \n",
    "4. [Парсинг сайтов](#Парсинг-сайтов)\n",
    "\n",
    "\n",
    "\n",
    "## Веб-запросы\n",
    "\n",
    "**Процесс получения/извлечения информации** с веб-ресурсов в интернете называется **web-scraping** (рус. веб-скрейпинг/веб-скрапинг). Веб-скрапинг может быть проделан вручную пользователем компьютера, однако этот термин обычно связывают с автоматизированными процессами, реализованными с помощью кода.\n",
    "\n",
    "Для того чтобы веб-скрапинг был возможен, необходимо подключение компьютера, который будет задействован в этом процессе, к сети Интернет.\n",
    "\n",
    "**Интернет** — это глобальная информационная сеть, которая позволяет компьютерам по всему миру обмениваться информацией. Один компьютер (называемый клиентом) отправляет запрос в определённом формате другому компьютеру (называемому сервером) и получает ответ (текст, изображение, видео и т. д.).\n",
    "\n",
    "*Клиент и сервер* взаимодействуют между собой, обмениваясь одиночными сообщениями (не потоком данных) посредством сетевых протоколов, которые формализуют общение между ними. В настоящее время повсеместно используемый протокол в интернете, позволяющий клиенту получать различные ресурсы (например, HTML-документы), — это протокол HTTP.\n",
    "\n",
    "**Запрос, отправляемый клиентом с использованием протокола HTTP, состоит из нескольких элементов:**\n",
    "\n",
    "- адрес, по которому идёт обращение (например, www.google.com);\n",
    "техническая информация, например метод запроса;\n",
    "- дополнительные данные, например если загружается (передаётся) изображение.\n",
    "Адрес — это URL, Uniform Resource Locator (с англ. Унифицированный Указатель Ресурса).\n",
    "\n",
    "**Ответ, в свою очередь, состоит из следующих элементов:**\n",
    "\n",
    "- код статуса ответа: например, 200 («успешно»), 404 («не найден») и т. д. (более полный список кодов статуса ответа можете посмотреть, перейдя по ссылке);\n",
    "- текст в запрошенном формате (HTML, XML, JSON и т. д.) или мультимедийные файлы;\n",
    "- прочая техническая информация.\n",
    "\n",
    "**МЕТОДЫ ЗАПРОСОВ В ПРОТОКОЛЕ HTTP**\n",
    "\n",
    "Для того чтобы указать серверу на то, какое действие мы хотим произвести с ресурсом, в протоколе HTTP используются так называемые методы. В HTTP существует несколько методов, которые описывают действия с ресурсами. Чаще всего используются GET и POST.\n",
    "\n",
    "**GET — ПОЛУЧЕНИЕ РЕСУРСА**\n",
    "\n",
    "Метод GET запрашивает информацию из указанного источника и не может влиять на его содержимое. Запрос доступен для кэширования данных (то есть для сохранения, восстановления и дальнейшего использования) и добавления в закладки. Длина запроса ограничена (максимальная длина — 2048 символов).\n",
    "\n",
    "Пример GET-запроса, отправляемого через адресную строку браузера:\n",
    "\n",
    " http://site.ru/page.php?name=dima&age=27\n",
    "\n",
    "**POST — СОЗДАНИЕ РЕСУРСА**\n",
    "\n",
    "Метод POST используется для отправки данных, которые могут оказывать влияние на содержимое ресурса. В отличие от метода GET, запросы POST не могут быть кэшированы, они не остаются в истории браузера и их нельзя добавить в закладки. Длина запроса POST не ограничивается."
   ]
  },
  {
   "cell_type": "markdown",
   "metadata": {},
   "source": [
    "[Вернуться к оглавлению](#Оглавление)"
   ]
  },
  {
   "cell_type": "markdown",
   "metadata": {},
   "source": [
    "## Библиотека requests\n",
    "\n",
    "Познакомимся с библиотекой requests, решив простую задачу — получить значения курсов валют. Курс валют — полезная и регулярно обновляемая информация, но каждый раз в ручном режиме получать информацию о курсе интересующей валюты трудоёмко.\n",
    "\n",
    "Разработаем код, так называемый **скрипт** (англ. script, рус. сценарий), — небольшую программу, которая содержит последовательность действий для автоматического выполнения задачи.\n",
    "\n",
    "С помощью скрипта мы будем в удобном виде выгружать информацию по курсам валют с заранее выбранного сайта.\n",
    "\n",
    "Используем метод get() из библиотеки requests, передав ему соответствующий URL —  https://www.cbr-xml-daily.ru/daily_json.js:"
   ]
  },
  {
   "cell_type": "code",
   "execution_count": 36,
   "metadata": {},
   "outputs": [
    {
     "name": "stdout",
     "output_type": "stream",
     "text": [
      "<Response [200]>\n"
     ]
    }
   ],
   "source": [
    "import requests # Импортируем библиотеку requests\n",
    "url = 'https://www.cbr-xml-daily.ru/daily_json.js'\n",
    "# Определяем значение URL страницы для запроса\n",
    "response = requests.get(url)\n",
    "# Делаем GET-запрос к ресурсу и результат ответа сохраняем в переменной response\n",
    "# Проверим ответ сервера — содержимое переменной response:\n",
    "print(response) # Выводим значение response на экран как объект"
   ]
  },
  {
   "cell_type": "markdown",
   "metadata": {},
   "source": [
    "Мы получили объект ответа Response, который содержит всю нужную нам информацию. По умолчанию в квадратных скобках на экран выводится код статуса ответа. В данном случае он равен 200 — то есть запрос был корректным и сервер отдал нам нужную информацию. Значение кода статуса 404 означало бы, что страница по указанному адресу не найдена, а значение 403 — что синтаксис GET-запроса неверный.\n",
    "\n",
    "Код ответа в виде числовой переменной можно получить с помощью метода status_code:"
   ]
  },
  {
   "cell_type": "code",
   "execution_count": 37,
   "metadata": {},
   "outputs": [
    {
     "name": "stdout",
     "output_type": "stream",
     "text": [
      "200\n"
     ]
    }
   ],
   "source": [
    "print(response.status_code)\n",
    "# Выводим числовое значение response на экран"
   ]
  },
  {
   "cell_type": "code",
   "execution_count": 38,
   "metadata": {},
   "outputs": [
    {
     "name": "stdout",
     "output_type": "stream",
     "text": [
      "<Response [200]>\n"
     ]
    }
   ],
   "source": [
    "import requests # Импортируем библиотеку requests\n",
    "url = 'https://www.cbr-xml-daily.ru/daily.xml'\n",
    "# Определяем значение URL страницы для запроса\n",
    "response = requests.get(url)\n",
    "# Делаем GET-запрос к ресурсу и результат ответа сохраняем в переменной response\n",
    "# Проверим ответ сервера — содержимое переменной response:\n",
    "print(response) # Выводим значение response на экран как объект"
   ]
  },
  {
   "cell_type": "markdown",
   "metadata": {},
   "source": [
    "### РАБОТАЕМ С ОТВЕТОМ\n",
    "\n",
    "Мы сделали запрос и получили корректный ответ (код статуса — 200). Дальнейшую работу производим с результатом запроса к ресурсу Курсы валют ЦБ РФ в XML и JSON.\n",
    "\n",
    "?Как получить доступ ко всей информации, которую содержит ответ?\n",
    "\n",
    "Текст ответа хранится в атрибуте text. Выведем значение атрибута на экран и посмотрим на его содержимое:"
   ]
  },
  {
   "cell_type": "code",
   "execution_count": 39,
   "metadata": {},
   "outputs": [
    {
     "name": "stdout",
     "output_type": "stream",
     "text": [
      "<?xml version=\"1.0\" encoding=\"windows-1251\"?><ValCurs Date=\"28.05.2024\" name=\"Foreign Currency Market\"><Valute ID=\"R01010\"><NumCode>036</NumCode><CharCode>AUD</CharCode><Nominal>1</Nominal><Name>Àâñòðàëèéñêèé äîëëàð</Name><Value>58,8338</Value><VunitRate>58,8338</VunitRate></Valute><Valute ID=\"R01020A\"><NumCode>944</NumCode><CharCode>AZN</CharCode><Nominal>1</Nominal><Name>Àçåðáàéäæàíñêèé ìàíàò</Name><Value>52,1678</Value><VunitRate>52,1678</VunitRate></Valute><Valute ID=\"R01035\"><NumCode>826</NumCode><CharCode>GBP</CharCode><Nominal>1</Nominal><Name>Ôóíò ñòåðëèíãîâ Ñîåäèíåííîãî êîðîëåâñòâà</Name><Value>112,7366</Value><VunitRate>112,7366</VunitRate></Valute><Valute ID=\"R01060\"><NumCode>051</NumCode><CharCode>AMD</CharCode><Nominal>100</Nominal><Name>Àðìÿíñêèõ äðàìîâ</Name><Value>22,8552</Value><VunitRate>0,228552</VunitRate></Valute><Valute ID=\"R01090B\"><NumCode>933</NumCode><CharCode>BYN</CharCode><Nominal>1</Nominal><Name>Áåëîðóññêèé ðóáëü</Name><Value>27,9579</Value><VunitRate>27,9579</VunitRate></Valute><Valute ID=\"R01100\"><NumCode>975</NumCode><CharCode>BGN</CharCode><Nominal>1</Nominal><Name>Áîëãàðñêèé ëåâ</Name><Value>49,2165</Value><VunitRate>49,2165</VunitRate></Valute><Valute ID=\"R01115\"><NumCode>986</NumCode><CharCode>BRL</CharCode><Nominal>1</Nominal><Name>Áðàçèëüñêèé ðåàë</Name><Value>17,2188</Value><VunitRate>17,2188</VunitRate></Valute><Valute ID=\"R01135\"><NumCode>348</NumCode><CharCode>HUF</CharCode><Nominal>100</Nominal><Name>Âåíãåðñêèõ ôîðèíòîâ</Name><Value>25,0212</Value><VunitRate>0,250212</VunitRate></Valute><Valute ID=\"R01150\"><NumCode>704</NumCode><CharCode>VND</CharCode><Nominal>10000</Nominal><Name>Âüåòíàìñêèõ äîíãîâ</Name><Value>36,5441</Value><VunitRate>0,00365441</VunitRate></Valute><Valute ID=\"R01200\"><NumCode>344</NumCode><CharCode>HKD</CharCode><Nominal>1</Nominal><Name>Ãîíêîíãñêèé äîëëàð</Name><Value>11,3787</Value><VunitRate>11,3787</VunitRate></Valute><Valute ID=\"R01210\"><NumCode>981</NumCode><CharCode>GEL</CharCode><Nominal>1</Nominal><Name>Ãðóçèíñêèé ëàðè</Name><Value>32,5498</Value><VunitRate>32,5498</VunitRate></Valute><Valute ID=\"R01215\"><NumCode>208</NumCode><CharCode>DKK</CharCode><Nominal>1</Nominal><Name>Äàòñêàÿ êðîíà</Name><Value>12,8847</Value><VunitRate>12,8847</VunitRate></Valute><Valute ID=\"R01230\"><NumCode>784</NumCode><CharCode>AED</CharCode><Nominal>1</Nominal><Name>Äèðõàì ÎÀÝ</Name><Value>24,1485</Value><VunitRate>24,1485</VunitRate></Valute><Valute ID=\"R01235\"><NumCode>840</NumCode><CharCode>USD</CharCode><Nominal>1</Nominal><Name>Äîëëàð ÑØÀ</Name><Value>88,6852</Value><VunitRate>88,6852</VunitRate></Valute><Valute ID=\"R01239\"><NumCode>978</NumCode><CharCode>EUR</CharCode><Nominal>1</Nominal><Name>Åâðî</Name><Value>96,3034</Value><VunitRate>96,3034</VunitRate></Valute><Valute ID=\"R01240\"><NumCode>818</NumCode><CharCode>EGP</CharCode><Nominal>10</Nominal><Name>Åãèïåòñêèõ ôóíòîâ</Name><Value>18,7979</Value><VunitRate>1,87979</VunitRate></Valute><Valute ID=\"R01270\"><NumCode>356</NumCode><CharCode>INR</CharCode><Nominal>10</Nominal><Name>Èíäèéñêèõ ðóïèé</Name><Value>10,6742</Value><VunitRate>1,06742</VunitRate></Valute><Valute ID=\"R01280\"><NumCode>360</NumCode><CharCode>IDR</CharCode><Nominal>10000</Nominal><Name>Èíäîíåçèéñêèõ ðóïèé</Name><Value>55,4456</Value><VunitRate>0,00554456</VunitRate></Valute><Valute ID=\"R01335\"><NumCode>398</NumCode><CharCode>KZT</CharCode><Nominal>100</Nominal><Name>Êàçàõñòàíñêèõ òåíãå</Name><Value>20,0120</Value><VunitRate>0,20012</VunitRate></Valute><Valute ID=\"R01350\"><NumCode>124</NumCode><CharCode>CAD</CharCode><Nominal>1</Nominal><Name>Êàíàäñêèé äîëëàð</Name><Value>64,8616</Value><VunitRate>64,8616</VunitRate></Valute><Valute ID=\"R01355\"><NumCode>634</NumCode><CharCode>QAR</CharCode><Nominal>1</Nominal><Name>Êàòàðñêèé ðèàë</Name><Value>24,3641</Value><VunitRate>24,3641</VunitRate></Valute><Valute ID=\"R01370\"><NumCode>417</NumCode><CharCode>KGS</CharCode><Nominal>10</Nominal><Name>Êèðãèçñêèõ ñîìîâ</Name><Value>10,0877</Value><VunitRate>1,00877</VunitRate></Valute><Valute ID=\"R01375\"><NumCode>156</NumCode><CharCode>CNY</CharCode><Nominal>1</Nominal><Name>Êèòàéñêèé þàíü</Name><Value>12,1903</Value><VunitRate>12,1903</VunitRate></Valute><Valute ID=\"R01500\"><NumCode>498</NumCode><CharCode>MDL</CharCode><Nominal>10</Nominal><Name>Ìîëäàâñêèõ ëååâ</Name><Value>50,0390</Value><VunitRate>5,0039</VunitRate></Valute><Valute ID=\"R01530\"><NumCode>554</NumCode><CharCode>NZD</CharCode><Nominal>1</Nominal><Name>Íîâîçåëàíäñêèé äîëëàð</Name><Value>54,3507</Value><VunitRate>54,3507</VunitRate></Valute><Valute ID=\"R01535\"><NumCode>578</NumCode><CharCode>NOK</CharCode><Nominal>10</Nominal><Name>Íîðâåæñêèõ êðîí</Name><Value>83,6298</Value><VunitRate>8,36298</VunitRate></Valute><Valute ID=\"R01565\"><NumCode>985</NumCode><CharCode>PLN</CharCode><Nominal>1</Nominal><Name>Ïîëüñêèé çëîòûé</Name><Value>22,6261</Value><VunitRate>22,6261</VunitRate></Valute><Valute ID=\"R01585F\"><NumCode>946</NumCode><CharCode>RON</CharCode><Nominal>1</Nominal><Name>Ðóìûíñêèé ëåé</Name><Value>19,3509</Value><VunitRate>19,3509</VunitRate></Valute><Valute ID=\"R01589\"><NumCode>960</NumCode><CharCode>XDR</CharCode><Nominal>1</Nominal><Name>ÑÄÐ (ñïåöèàëüíûå ïðàâà çàèìñòâîâàíèÿ)</Name><Value>117,3624</Value><VunitRate>117,3624</VunitRate></Valute><Valute ID=\"R01625\"><NumCode>702</NumCode><CharCode>SGD</CharCode><Nominal>1</Nominal><Name>Ñèíãàïóðñêèé äîëëàð</Name><Value>65,7073</Value><VunitRate>65,7073</VunitRate></Valute><Valute ID=\"R01670\"><NumCode>972</NumCode><CharCode>TJS</CharCode><Nominal>10</Nominal><Name>Òàäæèêñêèõ ñîìîíè</Name><Value>82,0127</Value><VunitRate>8,20127</VunitRate></Valute><Valute ID=\"R01675\"><NumCode>764</NumCode><CharCode>THB</CharCode><Nominal>10</Nominal><Name>Òàèëàíäñêèõ áàòîâ</Name><Value>24,2256</Value><VunitRate>2,42256</VunitRate></Valute><Valute ID=\"R01700J\"><NumCode>949</NumCode><CharCode>TRY</CharCode><Nominal>10</Nominal><Name>Òóðåöêèõ ëèð</Name><Value>27,5641</Value><VunitRate>2,75641</VunitRate></Valute><Valute ID=\"R01710A\"><NumCode>934</NumCode><CharCode>TMT</CharCode><Nominal>1</Nominal><Name>Íîâûé òóðêìåíñêèé ìàíàò</Name><Value>25,3386</Value><VunitRate>25,3386</VunitRate></Valute><Valute ID=\"R01717\"><NumCode>860</NumCode><CharCode>UZS</CharCode><Nominal>10000</Nominal><Name>Óçáåêñêèõ ñóìîâ</Name><Value>69,8051</Value><VunitRate>0,00698051</VunitRate></Valute><Valute ID=\"R01720\"><NumCode>980</NumCode><CharCode>UAH</CharCode><Nominal>10</Nominal><Name>Óêðàèíñêèõ ãðèâåí</Name><Value>22,1076</Value><VunitRate>2,21076</VunitRate></Valute><Valute ID=\"R01760\"><NumCode>203</NumCode><CharCode>CZK</CharCode><Nominal>10</Nominal><Name>×åøñêèõ êðîí</Name><Value>38,8851</Value><VunitRate>3,88851</VunitRate></Valute><Valute ID=\"R01770\"><NumCode>752</NumCode><CharCode>SEK</CharCode><Nominal>10</Nominal><Name>Øâåäñêèõ êðîí</Name><Value>82,8820</Value><VunitRate>8,2882</VunitRate></Valute><Valute ID=\"R01775\"><NumCode>756</NumCode><CharCode>CHF</CharCode><Nominal>1</Nominal><Name>Øâåéöàðñêèé ôðàíê</Name><Value>96,9767</Value><VunitRate>96,9767</VunitRate></Valute><Valute ID=\"R01805F\"><NumCode>941</NumCode><CharCode>RSD</CharCode><Nominal>100</Nominal><Name>Ñåðáñêèõ äèíàðîâ</Name><Value>82,1581</Value><VunitRate>0,821581</VunitRate></Valute><Valute ID=\"R01810\"><NumCode>710</NumCode><CharCode>ZAR</CharCode><Nominal>10</Nominal><Name>Þæíîàôðèêàíñêèõ ðýíäîâ</Name><Value>48,1237</Value><VunitRate>4,81237</VunitRate></Valute><Valute ID=\"R01815\"><NumCode>410</NumCode><CharCode>KRW</CharCode><Nominal>1000</Nominal><Name>Âîí Ðåñïóáëèêè Êîðåÿ</Name><Value>65,0280</Value><VunitRate>0,065028</VunitRate></Valute><Valute ID=\"R01820\"><NumCode>392</NumCode><CharCode>JPY</CharCode><Nominal>100</Nominal><Name>ßïîíñêèõ èåí</Name><Value>56,5847</Value><VunitRate>0,565847</VunitRate></Valute></ValCurs>\n"
     ]
    }
   ],
   "source": [
    "print(response.text)\n",
    "# Выводим содержимое атрибута text переменной response на экран"
   ]
  },
  {
   "cell_type": "markdown",
   "metadata": {},
   "source": [
    "Для того чтобы удобно было работать с полученной информацией, нам необходимо преобразовать строку в словарь. В объект ответа Response  из библиотеки requests уже встроен метод json() .\n",
    "\n",
    "Импортируем функцию pprint(), применим к полученному ответу метод json() и выведем полученный результат на экран:"
   ]
  },
  {
   "cell_type": "code",
   "execution_count": 43,
   "metadata": {},
   "outputs": [],
   "source": [
    "# Импортируем модуль json\n",
    "import json\n",
    "\n",
    "# Импортируем функцию pprint()\n",
    "from pprint import pprint\n",
    "\n",
    "import requests # Импортируем библиотеку requests\n",
    "url = 'https://www.cbr-xml-daily.ru/daily_json.js'\n",
    "# Определяем значение URL страницы для запрос\n",
    "response = requests.get(url)\n",
    "# Делаем GET-запрос к ресурсу и результат ответа сохраняем в переменной response\n",
    "currencies = response.json()\n",
    "# Применяем метод json()"
   ]
  },
  {
   "cell_type": "markdown",
   "metadata": {},
   "source": [
    "Теперь данные находятся в словаре и можно легко получать необходимые значения.\n",
    "\n",
    "Например, по ключу Valute мы можем обратиться к вложенному словарю, который содержит информацию о мировых валютах. Выведем на экран, например, информацию о евро (EUR):"
   ]
  },
  {
   "cell_type": "code",
   "execution_count": 52,
   "metadata": {},
   "outputs": [
    {
     "name": "stdout",
     "output_type": "stream",
     "text": [
      "{'CharCode': 'EUR',\n",
      " 'ID': 'R01239',\n",
      " 'Name': 'Евро',\n",
      " 'Nominal': 1,\n",
      " 'NumCode': '978',\n",
      " 'Previous': 97.0954,\n",
      " 'Value': 96.3034}\n",
      "Чешских крон\n"
     ]
    }
   ],
   "source": [
    "pprint(currencies['Valute']['EUR'])\n",
    "# Выводим на экран информацию о валюте евро\n",
    "print(currencies['Valute']['CZK']['Name'])\n",
    "# Выводим наименование валюты"
   ]
  },
  {
   "cell_type": "markdown",
   "metadata": {},
   "source": [
    "[Вернуться к оглавлению](#Оглавление)"
   ]
  },
  {
   "cell_type": "code",
   "execution_count": null,
   "metadata": {},
   "outputs": [],
   "source": [
    "## Парсинг сайтов"
   ]
  },
  {
   "cell_type": "markdown",
   "metadata": {},
   "source": [
    "[Вернуться к оглавлению](#Оглавление)"
   ]
  }
 ],
 "metadata": {
  "kernelspec": {
   "display_name": "Python 3",
   "language": "python",
   "name": "python3"
  },
  "language_info": {
   "codemirror_mode": {
    "name": "ipython",
    "version": 3
   },
   "file_extension": ".py",
   "mimetype": "text/x-python",
   "name": "python",
   "nbconvert_exporter": "python",
   "pygments_lexer": "ipython3",
   "version": "3.9.10"
  }
 },
 "nbformat": 4,
 "nbformat_minor": 2
}
