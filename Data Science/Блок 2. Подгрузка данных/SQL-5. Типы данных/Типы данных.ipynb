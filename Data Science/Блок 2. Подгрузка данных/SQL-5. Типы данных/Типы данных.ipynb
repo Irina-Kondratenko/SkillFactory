{
 "cells": [
  {
   "cell_type": "markdown",
   "metadata": {},
   "source": [
    "Профессия Data Science  \n",
    "Блок 2. Подгрузка данных  \n",
    "**SQL-5. Типы данных**\n",
    "\n",
    "---\n",
    "\n",
    "## **✍ Оглавление:**\n",
    "\n",
    "2. Типы данных в PostgreSQL\n",
    "\n",
    "---\n",
    "\n",
    "## **2. Типы данных в PostgreSQL**"
   ]
  }
 ],
 "metadata": {
  "language_info": {
   "name": "python"
  }
 },
 "nbformat": 4,
 "nbformat_minor": 2
}
