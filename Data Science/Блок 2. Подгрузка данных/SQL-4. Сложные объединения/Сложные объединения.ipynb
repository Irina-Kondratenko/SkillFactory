{
 "cells": [
  {
   "cell_type": "markdown",
   "metadata": {},
   "source": [
    "Профессия Data Science  \n",
    "Блок 2. Подгрузка данных  \n",
    "**SQL-4. Сложные объединения**\n",
    "\n",
    "---\n",
    "\n",
    "## **✍ Оглавление:**\n",
    "\n",
    " 1. Знакомимся с данными  \n",
    "\n",
    "---\n",
    "\n",
    "## **1. Знакомимся с данными**\n"
   ]
  }
 ],
 "metadata": {
  "language_info": {
   "name": "python"
  }
 },
 "nbformat": 4,
 "nbformat_minor": 2
}
