{
 "cells": [
  {
   "cell_type": "markdown",
   "metadata": {},
   "source": [
    "Профессия Data Science  \n",
    "Блок 2. Подгрузка данных  \n",
    "**SQL-3. Соединение таблиц**\n",
    "\n",
    "---\n",
    "\n",
    "## **✍ Оглавление:**\n",
    "\n",
    " 1. Знакомимся с данными\n",
    "\n",
    "\n",
    "---\n",
    "\n",
    "## **1. Знакомимся с данными**\n",
    "\n",
    "→ Первым делом — знакомимся с датасетом.\n",
    "\n",
    "В этом модуле мы будем работать с таблицами о футбольных матчах и командах.\n",
    "Нам понадобятся таблицы teams и matches.\n",
    "\n",
    "\n",
    "**Таблица teams с данными о командах**\n",
    "\n",
    "*Название столбца - Содержимое столбца*  \n",
    "**id** - id команды  \n",
    "**api_id** - ключ на таблицу matches  \n",
    "**long_name** - полное название команды  \n",
    "**short_name** - сокращённое название команды  \n",
    "\n",
    "**Таблица matches с данными о матчах**\n",
    "\n",
    "*Название столбца - Содержимое столбца*  \n",
    "**id** - id матча  \n",
    "**season** - сезон  \n",
    "**date** - дата матча  \n",
    "**home_team_api_id** - api_id домашней команды, ключ на таблицу teams  \n",
    "**away_team_api_id** - api_id гостевой команды, ключ на таблицу teams  \n",
    "**home_team_goals** - количество голов домашней команды  \n",
    "**away_team_goals** - количество голов гостевой команды\n",
    "\n",
    "**Задание 1.2 (External resource)**\n",
    "\n",
    "***SELECT /*выбор*/  \n",
    "  season,  \n",
    "  sum(home_team_goals) as total_home_goals,  \n",
    "  sum(away_team_goals) as total_away_goals  \n",
    "FROM sql.matches  \n",
    "GROUP BY 1  \n",
    "ORDER BY 1 asc***\n"
   ]
  }
 ],
 "metadata": {
  "language_info": {
   "name": "python"
  }
 },
 "nbformat": 4,
 "nbformat_minor": 2
}
