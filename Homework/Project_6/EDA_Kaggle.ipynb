{
 "cells": [
  {
   "cell_type": "markdown",
   "metadata": {},
   "source": [
    "# <center> Практика. EDA + Feature Engineering. Соревнование на Kaggle </center>\n",
    "\n",
    "### **Постановка задачи:**\n",
    "\n",
    "**ИССЛЕДОВАНИЕ ДАННЫХ:**\n",
    "\n",
    "✍ В этом модуле вы будете работать с датасетом, в котором содержатся сведения о 515 000 отзывов на отели Европы. Модель, которую вы будете обучать, должна предсказывать рейтинг отеля по данным сайта Booking на основе имеющихся в датасете данных.\n",
    "\n",
    "***ДАННЫЕ САЙТА BOOKING:***\n",
    "\n",
    "Наименование столбца:  | Описание столбца:\n",
    "------- | --------\n",
    "***hotel_address***   | адрес отеля;\n",
    "***review_date***   | дата, когда рецензент разместил соответствующий отзыв;\n",
    "***average_score***   | средний балл отеля, рассчитанный на основе последнего комментария за последний год;\n",
    "***hotel_name***   | название отеля;\n",
    "***reviewer_nationality***   | страна рецензента;\n",
    "***negative_review***   | отрицательный отзыв, который рецензент дал отелю;\n",
    "***review_total_negative_word_counts***   | общее количество слов в отрицательном отзыв;\n",
    "***positive_review***   | положительный отзыв, который рецензент дал отелю;\n",
    "***review_total_positive_word_counts***   | общее количество слов в положительном отзыве.\n",
    "***reviewer_score***   | оценка, которую рецензент поставил отелю на основе своего опыта;\n",
    "***total_number_of_reviews_reviewer_has_given***   | количество отзывов, которые рецензенты дали в прошлом;\n",
    "***total_number_of_reviews***   | общее количество действительных отзывов об отеле;\n",
    "***tags***   | теги, которые рецензент дал отелю;\n",
    "***days_since_review***   | количество дней между датой проверки и датой очистки;\n",
    "***additional_number_of_scoring***   | есть также некоторые гости, которые просто поставили оценку сервису, но не оставили отзыв. Это число указывает, сколько там действительных оценок без проверки.\n",
    "***lat***   | географическая широта отеля;\n",
    "***lng***   | географическая долгота отеля."
   ]
  },
  {
   "cell_type": "markdown",
   "metadata": {},
   "source": [
    "Содержание работы:\n",
    "\n",
    "1. Импорт библиотек и загрузка данных.\n",
    "2. Очистка данных.\n",
    "3. Исследование данных.\n",
    "4. Генерация признаков.\n",
    "5. Преобразование признаков.\n",
    "6. Отбор признаков.\n",
    "7. Обучение модели."
   ]
  },
  {
   "cell_type": "markdown",
   "metadata": {},
   "source": [
    "## **1. Импорт библиотек и загрузка данных:**"
   ]
  },
  {
   "cell_type": "code",
   "execution_count": 1,
   "metadata": {},
   "outputs": [],
   "source": [
    "# Загружаем необходимые библиотеки:\n",
    "import pandas as pd\n",
    "import numpy as np\n",
    "\n",
    "from scipy import stats\n",
    "import statsmodels.api as sm\n",
    "from statsmodels import stats as sms\n",
    "\n",
    "import matplotlib.pyplot as plt\n",
    "import seaborn as sns\n",
    "import plotly.express as px\n",
    "\n",
    "import warnings\n",
    "warnings.filterwarnings(\"ignore\")\n",
    "\n",
    "from geopy.distance import geodesic as GD \n",
    "\n",
    "# Делаем визуальную настройку графиков:\n",
    "sns.set_theme(\"notebook\") \n",
    "sns.set_palette(\"Set2\")"
   ]
  },
  {
   "cell_type": "code",
   "execution_count": 2,
   "metadata": {},
   "outputs": [
    {
     "data": {
      "text/html": [
       "<div>\n",
       "<style scoped>\n",
       "    .dataframe tbody tr th:only-of-type {\n",
       "        vertical-align: middle;\n",
       "    }\n",
       "\n",
       "    .dataframe tbody tr th {\n",
       "        vertical-align: top;\n",
       "    }\n",
       "\n",
       "    .dataframe thead th {\n",
       "        text-align: right;\n",
       "    }\n",
       "</style>\n",
       "<table border=\"1\" class=\"dataframe\">\n",
       "  <thead>\n",
       "    <tr style=\"text-align: right;\">\n",
       "      <th></th>\n",
       "      <th>hotel_address</th>\n",
       "      <th>additional_number_of_scoring</th>\n",
       "      <th>review_date</th>\n",
       "      <th>average_score</th>\n",
       "      <th>hotel_name</th>\n",
       "      <th>reviewer_nationality</th>\n",
       "      <th>negative_review</th>\n",
       "      <th>review_total_negative_word_counts</th>\n",
       "      <th>total_number_of_reviews</th>\n",
       "      <th>positive_review</th>\n",
       "      <th>review_total_positive_word_counts</th>\n",
       "      <th>total_number_of_reviews_reviewer_has_given</th>\n",
       "      <th>reviewer_score</th>\n",
       "      <th>tags</th>\n",
       "      <th>days_since_review</th>\n",
       "      <th>lat</th>\n",
       "      <th>lng</th>\n",
       "    </tr>\n",
       "  </thead>\n",
       "  <tbody>\n",
       "    <tr>\n",
       "      <th>0</th>\n",
       "      <td>Stratton Street Mayfair Westminster Borough Lo...</td>\n",
       "      <td>581</td>\n",
       "      <td>2/19/2016</td>\n",
       "      <td>8.4</td>\n",
       "      <td>The May Fair Hotel</td>\n",
       "      <td>United Kingdom</td>\n",
       "      <td>Leaving</td>\n",
       "      <td>3</td>\n",
       "      <td>1994</td>\n",
       "      <td>Staff were amazing</td>\n",
       "      <td>4</td>\n",
       "      <td>7</td>\n",
       "      <td>10.0</td>\n",
       "      <td>[' Leisure trip ', ' Couple ', ' Studio Suite ...</td>\n",
       "      <td>531 day</td>\n",
       "      <td>51.507894</td>\n",
       "      <td>-0.143671</td>\n",
       "    </tr>\n",
       "    <tr>\n",
       "      <th>1</th>\n",
       "      <td>130 134 Southampton Row Camden London WC1B 5AF...</td>\n",
       "      <td>299</td>\n",
       "      <td>1/12/2017</td>\n",
       "      <td>8.3</td>\n",
       "      <td>Mercure London Bloomsbury Hotel</td>\n",
       "      <td>United Kingdom</td>\n",
       "      <td>poor breakfast</td>\n",
       "      <td>3</td>\n",
       "      <td>1361</td>\n",
       "      <td>location</td>\n",
       "      <td>2</td>\n",
       "      <td>14</td>\n",
       "      <td>6.3</td>\n",
       "      <td>[' Business trip ', ' Couple ', ' Standard Dou...</td>\n",
       "      <td>203 day</td>\n",
       "      <td>51.521009</td>\n",
       "      <td>-0.123097</td>\n",
       "    </tr>\n",
       "    <tr>\n",
       "      <th>2</th>\n",
       "      <td>151 bis Rue de Rennes 6th arr 75006 Paris France</td>\n",
       "      <td>32</td>\n",
       "      <td>10/18/2016</td>\n",
       "      <td>8.9</td>\n",
       "      <td>Legend Saint Germain by Elegancia</td>\n",
       "      <td>China</td>\n",
       "      <td>No kettle in room</td>\n",
       "      <td>6</td>\n",
       "      <td>406</td>\n",
       "      <td>No Positive</td>\n",
       "      <td>0</td>\n",
       "      <td>14</td>\n",
       "      <td>7.5</td>\n",
       "      <td>[' Leisure trip ', ' Solo traveler ', ' Modern...</td>\n",
       "      <td>289 day</td>\n",
       "      <td>48.845377</td>\n",
       "      <td>2.325643</td>\n",
       "    </tr>\n",
       "  </tbody>\n",
       "</table>\n",
       "</div>"
      ],
      "text/plain": [
       "                                       hotel_address  \\\n",
       "0  Stratton Street Mayfair Westminster Borough Lo...   \n",
       "1  130 134 Southampton Row Camden London WC1B 5AF...   \n",
       "2   151 bis Rue de Rennes 6th arr 75006 Paris France   \n",
       "\n",
       "   additional_number_of_scoring review_date  average_score  \\\n",
       "0                           581   2/19/2016            8.4   \n",
       "1                           299   1/12/2017            8.3   \n",
       "2                            32  10/18/2016            8.9   \n",
       "\n",
       "                          hotel_name reviewer_nationality  \\\n",
       "0                 The May Fair Hotel      United Kingdom    \n",
       "1    Mercure London Bloomsbury Hotel      United Kingdom    \n",
       "2  Legend Saint Germain by Elegancia               China    \n",
       "\n",
       "       negative_review  review_total_negative_word_counts  \\\n",
       "0             Leaving                                   3   \n",
       "1       poor breakfast                                  3   \n",
       "2   No kettle in room                                   6   \n",
       "\n",
       "   total_number_of_reviews      positive_review  \\\n",
       "0                     1994   Staff were amazing   \n",
       "1                     1361             location   \n",
       "2                      406          No Positive   \n",
       "\n",
       "   review_total_positive_word_counts  \\\n",
       "0                                  4   \n",
       "1                                  2   \n",
       "2                                  0   \n",
       "\n",
       "   total_number_of_reviews_reviewer_has_given  reviewer_score  \\\n",
       "0                                           7            10.0   \n",
       "1                                          14             6.3   \n",
       "2                                          14             7.5   \n",
       "\n",
       "                                                tags days_since_review  \\\n",
       "0  [' Leisure trip ', ' Couple ', ' Studio Suite ...           531 day   \n",
       "1  [' Business trip ', ' Couple ', ' Standard Dou...           203 day   \n",
       "2  [' Leisure trip ', ' Solo traveler ', ' Modern...           289 day   \n",
       "\n",
       "         lat       lng  \n",
       "0  51.507894 -0.143671  \n",
       "1  51.521009 -0.123097  \n",
       "2  48.845377  2.325643  "
      ]
     },
     "execution_count": 2,
     "metadata": {},
     "output_type": "execute_result"
    }
   ],
   "source": [
    "# Загружаем датасет:\n",
    "hotels = pd.read_csv('Data\\hotels.csv')\n",
    "hotels.head(3)"
   ]
  },
  {
   "cell_type": "markdown",
   "metadata": {},
   "source": [
    "1.1. Выведем на экран сводную информацию методом info():"
   ]
  },
  {
   "cell_type": "code",
   "execution_count": 3,
   "metadata": {},
   "outputs": [
    {
     "name": "stdout",
     "output_type": "stream",
     "text": [
      "<class 'pandas.core.frame.DataFrame'>\n",
      "RangeIndex: 386803 entries, 0 to 386802\n",
      "Data columns (total 17 columns):\n",
      " #   Column                                      Non-Null Count   Dtype  \n",
      "---  ------                                      --------------   -----  \n",
      " 0   hotel_address                               386803 non-null  object \n",
      " 1   additional_number_of_scoring                386803 non-null  int64  \n",
      " 2   review_date                                 386803 non-null  object \n",
      " 3   average_score                               386803 non-null  float64\n",
      " 4   hotel_name                                  386803 non-null  object \n",
      " 5   reviewer_nationality                        386803 non-null  object \n",
      " 6   negative_review                             386803 non-null  object \n",
      " 7   review_total_negative_word_counts           386803 non-null  int64  \n",
      " 8   total_number_of_reviews                     386803 non-null  int64  \n",
      " 9   positive_review                             386803 non-null  object \n",
      " 10  review_total_positive_word_counts           386803 non-null  int64  \n",
      " 11  total_number_of_reviews_reviewer_has_given  386803 non-null  int64  \n",
      " 12  reviewer_score                              386803 non-null  float64\n",
      " 13  tags                                        386803 non-null  object \n",
      " 14  days_since_review                           386803 non-null  object \n",
      " 15  lat                                         384355 non-null  float64\n",
      " 16  lng                                         384355 non-null  float64\n",
      "dtypes: float64(4), int64(5), object(8)\n",
      "memory usage: 50.2+ MB\n"
     ]
    }
   ],
   "source": [
    "hotels.info()"
   ]
  },
  {
   "cell_type": "markdown",
   "metadata": {},
   "source": [
    "**Вывод:** в датасете 386803 записей (есть пропущенные значения)."
   ]
  },
  {
   "cell_type": "markdown",
   "metadata": {},
   "source": [
    "## **2. Очистка данных:**\n",
    "\n",
    "2.1. Проверим данные на наличие дубликатов и удалим найденные дубликаты:"
   ]
  },
  {
   "cell_type": "code",
   "execution_count": 4,
   "metadata": {},
   "outputs": [
    {
     "name": "stdout",
     "output_type": "stream",
     "text": [
      "Количество дубликатов: 307\n"
     ]
    }
   ],
   "source": [
    "# Проверяем наличие дубликатов:\n",
    "print('Количество дубликатов: {}'.format(hotels[hotels.duplicated()].shape[0]))\n",
    "\n",
    "# Удаляем дубликаты:\n",
    "# hotels = hotels.drop_duplicates()\n",
    "# print('Размер таблицы после удаления дубликатов: {}'.format(hotels.shape))"
   ]
  },
  {
   "cell_type": "markdown",
   "metadata": {},
   "source": [
    "**Вывод:** представленные данные содержат 307 дубликатов."
   ]
  },
  {
   "cell_type": "markdown",
   "metadata": {},
   "source": [
    "## **3. Исследование данных:**"
   ]
  },
  {
   "cell_type": "markdown",
   "metadata": {},
   "source": [
    "3.1. Выведем на экран основные статистические характеристики\n",
    "данных по каждому числовому признаку:"
   ]
  },
  {
   "cell_type": "code",
   "execution_count": 5,
   "metadata": {},
   "outputs": [
    {
     "data": {
      "text/html": [
       "<div>\n",
       "<style scoped>\n",
       "    .dataframe tbody tr th:only-of-type {\n",
       "        vertical-align: middle;\n",
       "    }\n",
       "\n",
       "    .dataframe tbody tr th {\n",
       "        vertical-align: top;\n",
       "    }\n",
       "\n",
       "    .dataframe thead th {\n",
       "        text-align: right;\n",
       "    }\n",
       "</style>\n",
       "<table border=\"1\" class=\"dataframe\">\n",
       "  <thead>\n",
       "    <tr style=\"text-align: right;\">\n",
       "      <th></th>\n",
       "      <th>hotel_address</th>\n",
       "      <th>additional_number_of_scoring</th>\n",
       "      <th>review_date</th>\n",
       "      <th>average_score</th>\n",
       "      <th>hotel_name</th>\n",
       "      <th>reviewer_nationality</th>\n",
       "      <th>negative_review</th>\n",
       "      <th>review_total_negative_word_counts</th>\n",
       "      <th>total_number_of_reviews</th>\n",
       "      <th>positive_review</th>\n",
       "      <th>review_total_positive_word_counts</th>\n",
       "      <th>total_number_of_reviews_reviewer_has_given</th>\n",
       "      <th>reviewer_score</th>\n",
       "      <th>tags</th>\n",
       "      <th>days_since_review</th>\n",
       "      <th>lat</th>\n",
       "      <th>lng</th>\n",
       "    </tr>\n",
       "  </thead>\n",
       "  <tbody>\n",
       "    <tr>\n",
       "      <th>count</th>\n",
       "      <td>386803</td>\n",
       "      <td>386803.000000</td>\n",
       "      <td>386803</td>\n",
       "      <td>386803.000000</td>\n",
       "      <td>386803</td>\n",
       "      <td>386803</td>\n",
       "      <td>386803</td>\n",
       "      <td>386803.000000</td>\n",
       "      <td>386803.000000</td>\n",
       "      <td>386803</td>\n",
       "      <td>386803.000000</td>\n",
       "      <td>386803.00000</td>\n",
       "      <td>386803.000000</td>\n",
       "      <td>386803</td>\n",
       "      <td>386803</td>\n",
       "      <td>384355.000000</td>\n",
       "      <td>384355.000000</td>\n",
       "    </tr>\n",
       "    <tr>\n",
       "      <th>unique</th>\n",
       "      <td>1493</td>\n",
       "      <td>NaN</td>\n",
       "      <td>731</td>\n",
       "      <td>NaN</td>\n",
       "      <td>1492</td>\n",
       "      <td>225</td>\n",
       "      <td>248828</td>\n",
       "      <td>NaN</td>\n",
       "      <td>NaN</td>\n",
       "      <td>311737</td>\n",
       "      <td>NaN</td>\n",
       "      <td>NaN</td>\n",
       "      <td>NaN</td>\n",
       "      <td>47135</td>\n",
       "      <td>731</td>\n",
       "      <td>NaN</td>\n",
       "      <td>NaN</td>\n",
       "    </tr>\n",
       "    <tr>\n",
       "      <th>top</th>\n",
       "      <td>163 Marsh Wall Docklands Tower Hamlets London ...</td>\n",
       "      <td>NaN</td>\n",
       "      <td>8/2/2017</td>\n",
       "      <td>NaN</td>\n",
       "      <td>Britannia International Hotel Canary Wharf</td>\n",
       "      <td>United Kingdom</td>\n",
       "      <td>No Negative</td>\n",
       "      <td>NaN</td>\n",
       "      <td>NaN</td>\n",
       "      <td>No Positive</td>\n",
       "      <td>NaN</td>\n",
       "      <td>NaN</td>\n",
       "      <td>NaN</td>\n",
       "      <td>[' Leisure trip ', ' Couple ', ' Double Room '...</td>\n",
       "      <td>1 days</td>\n",
       "      <td>NaN</td>\n",
       "      <td>NaN</td>\n",
       "    </tr>\n",
       "    <tr>\n",
       "      <th>freq</th>\n",
       "      <td>3587</td>\n",
       "      <td>NaN</td>\n",
       "      <td>1911</td>\n",
       "      <td>NaN</td>\n",
       "      <td>3587</td>\n",
       "      <td>184033</td>\n",
       "      <td>95907</td>\n",
       "      <td>NaN</td>\n",
       "      <td>NaN</td>\n",
       "      <td>26885</td>\n",
       "      <td>NaN</td>\n",
       "      <td>NaN</td>\n",
       "      <td>NaN</td>\n",
       "      <td>3853</td>\n",
       "      <td>1911</td>\n",
       "      <td>NaN</td>\n",
       "      <td>NaN</td>\n",
       "    </tr>\n",
       "    <tr>\n",
       "      <th>mean</th>\n",
       "      <td>NaN</td>\n",
       "      <td>498.246536</td>\n",
       "      <td>NaN</td>\n",
       "      <td>8.397231</td>\n",
       "      <td>NaN</td>\n",
       "      <td>NaN</td>\n",
       "      <td>NaN</td>\n",
       "      <td>18.538988</td>\n",
       "      <td>2743.992042</td>\n",
       "      <td>NaN</td>\n",
       "      <td>17.776985</td>\n",
       "      <td>7.17725</td>\n",
       "      <td>8.396906</td>\n",
       "      <td>NaN</td>\n",
       "      <td>NaN</td>\n",
       "      <td>49.443522</td>\n",
       "      <td>2.823402</td>\n",
       "    </tr>\n",
       "    <tr>\n",
       "      <th>std</th>\n",
       "      <td>NaN</td>\n",
       "      <td>500.258012</td>\n",
       "      <td>NaN</td>\n",
       "      <td>0.547881</td>\n",
       "      <td>NaN</td>\n",
       "      <td>NaN</td>\n",
       "      <td>NaN</td>\n",
       "      <td>29.703369</td>\n",
       "      <td>2316.457018</td>\n",
       "      <td>NaN</td>\n",
       "      <td>21.726141</td>\n",
       "      <td>11.05442</td>\n",
       "      <td>1.636090</td>\n",
       "      <td>NaN</td>\n",
       "      <td>NaN</td>\n",
       "      <td>3.466936</td>\n",
       "      <td>4.579043</td>\n",
       "    </tr>\n",
       "    <tr>\n",
       "      <th>min</th>\n",
       "      <td>NaN</td>\n",
       "      <td>1.000000</td>\n",
       "      <td>NaN</td>\n",
       "      <td>5.200000</td>\n",
       "      <td>NaN</td>\n",
       "      <td>NaN</td>\n",
       "      <td>NaN</td>\n",
       "      <td>0.000000</td>\n",
       "      <td>43.000000</td>\n",
       "      <td>NaN</td>\n",
       "      <td>0.000000</td>\n",
       "      <td>1.00000</td>\n",
       "      <td>2.500000</td>\n",
       "      <td>NaN</td>\n",
       "      <td>NaN</td>\n",
       "      <td>41.328376</td>\n",
       "      <td>-0.369758</td>\n",
       "    </tr>\n",
       "    <tr>\n",
       "      <th>25%</th>\n",
       "      <td>NaN</td>\n",
       "      <td>169.000000</td>\n",
       "      <td>NaN</td>\n",
       "      <td>8.100000</td>\n",
       "      <td>NaN</td>\n",
       "      <td>NaN</td>\n",
       "      <td>NaN</td>\n",
       "      <td>2.000000</td>\n",
       "      <td>1161.000000</td>\n",
       "      <td>NaN</td>\n",
       "      <td>5.000000</td>\n",
       "      <td>1.00000</td>\n",
       "      <td>7.500000</td>\n",
       "      <td>NaN</td>\n",
       "      <td>NaN</td>\n",
       "      <td>48.214662</td>\n",
       "      <td>-0.143649</td>\n",
       "    </tr>\n",
       "    <tr>\n",
       "      <th>50%</th>\n",
       "      <td>NaN</td>\n",
       "      <td>342.000000</td>\n",
       "      <td>NaN</td>\n",
       "      <td>8.400000</td>\n",
       "      <td>NaN</td>\n",
       "      <td>NaN</td>\n",
       "      <td>NaN</td>\n",
       "      <td>9.000000</td>\n",
       "      <td>2134.000000</td>\n",
       "      <td>NaN</td>\n",
       "      <td>11.000000</td>\n",
       "      <td>3.00000</td>\n",
       "      <td>8.800000</td>\n",
       "      <td>NaN</td>\n",
       "      <td>NaN</td>\n",
       "      <td>51.499981</td>\n",
       "      <td>-0.000250</td>\n",
       "    </tr>\n",
       "    <tr>\n",
       "      <th>75%</th>\n",
       "      <td>NaN</td>\n",
       "      <td>660.000000</td>\n",
       "      <td>NaN</td>\n",
       "      <td>8.800000</td>\n",
       "      <td>NaN</td>\n",
       "      <td>NaN</td>\n",
       "      <td>NaN</td>\n",
       "      <td>23.000000</td>\n",
       "      <td>3613.000000</td>\n",
       "      <td>NaN</td>\n",
       "      <td>22.000000</td>\n",
       "      <td>8.00000</td>\n",
       "      <td>9.600000</td>\n",
       "      <td>NaN</td>\n",
       "      <td>NaN</td>\n",
       "      <td>51.516288</td>\n",
       "      <td>4.834443</td>\n",
       "    </tr>\n",
       "    <tr>\n",
       "      <th>max</th>\n",
       "      <td>NaN</td>\n",
       "      <td>2682.000000</td>\n",
       "      <td>NaN</td>\n",
       "      <td>9.800000</td>\n",
       "      <td>NaN</td>\n",
       "      <td>NaN</td>\n",
       "      <td>NaN</td>\n",
       "      <td>408.000000</td>\n",
       "      <td>16670.000000</td>\n",
       "      <td>NaN</td>\n",
       "      <td>395.000000</td>\n",
       "      <td>355.00000</td>\n",
       "      <td>10.000000</td>\n",
       "      <td>NaN</td>\n",
       "      <td>NaN</td>\n",
       "      <td>52.400181</td>\n",
       "      <td>16.429233</td>\n",
       "    </tr>\n",
       "  </tbody>\n",
       "</table>\n",
       "</div>"
      ],
      "text/plain": [
       "                                            hotel_address  \\\n",
       "count                                              386803   \n",
       "unique                                               1493   \n",
       "top     163 Marsh Wall Docklands Tower Hamlets London ...   \n",
       "freq                                                 3587   \n",
       "mean                                                  NaN   \n",
       "std                                                   NaN   \n",
       "min                                                   NaN   \n",
       "25%                                                   NaN   \n",
       "50%                                                   NaN   \n",
       "75%                                                   NaN   \n",
       "max                                                   NaN   \n",
       "\n",
       "        additional_number_of_scoring review_date  average_score  \\\n",
       "count                  386803.000000      386803  386803.000000   \n",
       "unique                           NaN         731            NaN   \n",
       "top                              NaN    8/2/2017            NaN   \n",
       "freq                             NaN        1911            NaN   \n",
       "mean                      498.246536         NaN       8.397231   \n",
       "std                       500.258012         NaN       0.547881   \n",
       "min                         1.000000         NaN       5.200000   \n",
       "25%                       169.000000         NaN       8.100000   \n",
       "50%                       342.000000         NaN       8.400000   \n",
       "75%                       660.000000         NaN       8.800000   \n",
       "max                      2682.000000         NaN       9.800000   \n",
       "\n",
       "                                        hotel_name reviewer_nationality  \\\n",
       "count                                       386803               386803   \n",
       "unique                                        1492                  225   \n",
       "top     Britannia International Hotel Canary Wharf      United Kingdom    \n",
       "freq                                          3587               184033   \n",
       "mean                                           NaN                  NaN   \n",
       "std                                            NaN                  NaN   \n",
       "min                                            NaN                  NaN   \n",
       "25%                                            NaN                  NaN   \n",
       "50%                                            NaN                  NaN   \n",
       "75%                                            NaN                  NaN   \n",
       "max                                            NaN                  NaN   \n",
       "\n",
       "       negative_review  review_total_negative_word_counts  \\\n",
       "count           386803                      386803.000000   \n",
       "unique          248828                                NaN   \n",
       "top        No Negative                                NaN   \n",
       "freq             95907                                NaN   \n",
       "mean               NaN                          18.538988   \n",
       "std                NaN                          29.703369   \n",
       "min                NaN                           0.000000   \n",
       "25%                NaN                           2.000000   \n",
       "50%                NaN                           9.000000   \n",
       "75%                NaN                          23.000000   \n",
       "max                NaN                         408.000000   \n",
       "\n",
       "        total_number_of_reviews positive_review  \\\n",
       "count             386803.000000          386803   \n",
       "unique                      NaN          311737   \n",
       "top                         NaN     No Positive   \n",
       "freq                        NaN           26885   \n",
       "mean                2743.992042             NaN   \n",
       "std                 2316.457018             NaN   \n",
       "min                   43.000000             NaN   \n",
       "25%                 1161.000000             NaN   \n",
       "50%                 2134.000000             NaN   \n",
       "75%                 3613.000000             NaN   \n",
       "max                16670.000000             NaN   \n",
       "\n",
       "        review_total_positive_word_counts  \\\n",
       "count                       386803.000000   \n",
       "unique                                NaN   \n",
       "top                                   NaN   \n",
       "freq                                  NaN   \n",
       "mean                            17.776985   \n",
       "std                             21.726141   \n",
       "min                              0.000000   \n",
       "25%                              5.000000   \n",
       "50%                             11.000000   \n",
       "75%                             22.000000   \n",
       "max                            395.000000   \n",
       "\n",
       "        total_number_of_reviews_reviewer_has_given  reviewer_score  \\\n",
       "count                                 386803.00000   386803.000000   \n",
       "unique                                         NaN             NaN   \n",
       "top                                            NaN             NaN   \n",
       "freq                                           NaN             NaN   \n",
       "mean                                       7.17725        8.396906   \n",
       "std                                       11.05442        1.636090   \n",
       "min                                        1.00000        2.500000   \n",
       "25%                                        1.00000        7.500000   \n",
       "50%                                        3.00000        8.800000   \n",
       "75%                                        8.00000        9.600000   \n",
       "max                                      355.00000       10.000000   \n",
       "\n",
       "                                                     tags days_since_review  \\\n",
       "count                                              386803            386803   \n",
       "unique                                              47135               731   \n",
       "top     [' Leisure trip ', ' Couple ', ' Double Room '...            1 days   \n",
       "freq                                                 3853              1911   \n",
       "mean                                                  NaN               NaN   \n",
       "std                                                   NaN               NaN   \n",
       "min                                                   NaN               NaN   \n",
       "25%                                                   NaN               NaN   \n",
       "50%                                                   NaN               NaN   \n",
       "75%                                                   NaN               NaN   \n",
       "max                                                   NaN               NaN   \n",
       "\n",
       "                  lat            lng  \n",
       "count   384355.000000  384355.000000  \n",
       "unique            NaN            NaN  \n",
       "top               NaN            NaN  \n",
       "freq              NaN            NaN  \n",
       "mean        49.443522       2.823402  \n",
       "std          3.466936       4.579043  \n",
       "min         41.328376      -0.369758  \n",
       "25%         48.214662      -0.143649  \n",
       "50%         51.499981      -0.000250  \n",
       "75%         51.516288       4.834443  \n",
       "max         52.400181      16.429233  "
      ]
     },
     "execution_count": 5,
     "metadata": {},
     "output_type": "execute_result"
    }
   ],
   "source": [
    "hotels.describe(include = 'all')"
   ]
  },
  {
   "cell_type": "markdown",
   "metadata": {},
   "source": [
    "3.2. Заполняем пропуски:"
   ]
  },
  {
   "cell_type": "code",
   "execution_count": 6,
   "metadata": {},
   "outputs": [],
   "source": [
    "hotels = hotels.fillna(0)"
   ]
  },
  {
   "cell_type": "markdown",
   "metadata": {},
   "source": [
    "## **4. Генерация признаков:**"
   ]
  },
  {
   "cell_type": "markdown",
   "metadata": {},
   "source": [
    "4.1. Иследуем признак hotel_address и создадим новые признаки 'country' и 'city':"
   ]
  },
  {
   "cell_type": "code",
   "execution_count": 7,
   "metadata": {},
   "outputs": [
    {
     "name": "stdout",
     "output_type": "stream",
     "text": [
      "\n",
      " В датасете представлены отели из 6 стран.\n",
      "\n",
      "country\n",
      "United Kingdom    196774\n",
      "Spain              45132\n",
      "France             44830\n",
      "Netherlands        43006\n",
      "Austria            29178\n",
      "Italy              27883\n",
      "Name: count, dtype: int64\n"
     ]
    }
   ],
   "source": [
    "# Создание нового признака 'country':\n",
    "\n",
    "hotels['country'] = hotels['hotel_address'].apply(lambda x: x.split()[-1] \n",
    "        if x.split()[-1] != 'Kingdom' \n",
    "        else ' '.join(x.split()[-2:]))\n",
    "\n",
    "print('\\n В датасете представлены отели из '+ str(hotels['country'].nunique()) + ' стран.\\n')\n",
    "print(hotels['country'].value_counts())"
   ]
  },
  {
   "cell_type": "code",
   "execution_count": 8,
   "metadata": {},
   "outputs": [
    {
     "name": "stdout",
     "output_type": "stream",
     "text": [
      "\n",
      " В датасете представлены отели из 6 городов.\n",
      "\n",
      "city\n",
      "London       196774\n",
      "Barcelona     45132\n",
      "Paris         44830\n",
      "Amsterdam     43006\n",
      "Vienna        29178\n",
      "Milan         27883\n",
      "Name: count, dtype: int64\n"
     ]
    }
   ],
   "source": [
    "# Создание нового признака 'city':\n",
    "\n",
    "hotels['city'] = hotels.apply(lambda x: x['hotel_address'].split()[-5] \n",
    "        if x['country'] == 'United Kingdom'\n",
    "        else x['hotel_address'].split()[-2], axis=1)\n",
    "\n",
    "print('\\n В датасете представлены отели из '+ str(hotels['city'].nunique()) + ' городов.\\n')\n",
    "print(hotels['city'].value_counts())"
   ]
  },
  {
   "cell_type": "markdown",
   "metadata": {},
   "source": [
    "4.2. Приведем дату отзыва к формату datetime:"
   ]
  },
  {
   "cell_type": "code",
   "execution_count": 9,
   "metadata": {},
   "outputs": [
    {
     "data": {
      "text/plain": [
       "Timestamp('2015-08-04 00:00:00')"
      ]
     },
     "execution_count": 9,
     "metadata": {},
     "output_type": "execute_result"
    }
   ],
   "source": [
    "hotels['review_date'] = pd.to_datetime(hotels['review_date'])\n",
    "\n",
    "# Выделим год и месяц из даты отзыва:\n",
    "hotels['review_year'] = hotels['review_date'].dt.year\n",
    "hotels['review_month'] = hotels['review_date'].dt.month\n",
    "\n",
    "# Выберем первый отзыв и самый свежий отзыв:\n",
    "hotels = hotels.sort_values('review_date')\n",
    "hotels['review_date'].max()\n",
    "hotels['review_date'].min()"
   ]
  },
  {
   "cell_type": "markdown",
   "metadata": {},
   "source": [
    "4.3 Посчитаем количество уникальных названий отелей представленых в наборе данных:"
   ]
  },
  {
   "cell_type": "code",
   "execution_count": 10,
   "metadata": {},
   "outputs": [
    {
     "data": {
      "text/plain": [
       "1492"
      ]
     },
     "metadata": {},
     "output_type": "display_data"
    }
   ],
   "source": [
    "display(hotels['hotel_name'].nunique())"
   ]
  },
  {
   "cell_type": "markdown",
   "metadata": {},
   "source": [
    "4.4 Посчитаем количество уникальных tags представленых в наборе данных:"
   ]
  },
  {
   "cell_type": "code",
   "execution_count": 11,
   "metadata": {},
   "outputs": [
    {
     "data": {
      "text/html": [
       "<div>\n",
       "<style scoped>\n",
       "    .dataframe tbody tr th:only-of-type {\n",
       "        vertical-align: middle;\n",
       "    }\n",
       "\n",
       "    .dataframe tbody tr th {\n",
       "        vertical-align: top;\n",
       "    }\n",
       "\n",
       "    .dataframe thead th {\n",
       "        text-align: right;\n",
       "    }\n",
       "</style>\n",
       "<table border=\"1\" class=\"dataframe\">\n",
       "  <thead>\n",
       "    <tr style=\"text-align: right;\">\n",
       "      <th></th>\n",
       "      <th>tags</th>\n",
       "    </tr>\n",
       "  </thead>\n",
       "  <tbody>\n",
       "    <tr>\n",
       "      <th>count</th>\n",
       "      <td>386803</td>\n",
       "    </tr>\n",
       "    <tr>\n",
       "      <th>unique</th>\n",
       "      <td>47135</td>\n",
       "    </tr>\n",
       "    <tr>\n",
       "      <th>top</th>\n",
       "      <td>[' Leisure trip ', ' Couple ', ' Double Room '...</td>\n",
       "    </tr>\n",
       "    <tr>\n",
       "      <th>freq</th>\n",
       "      <td>3853</td>\n",
       "    </tr>\n",
       "  </tbody>\n",
       "</table>\n",
       "</div>"
      ],
      "text/plain": [
       "                                                     tags\n",
       "count                                              386803\n",
       "unique                                              47135\n",
       "top     [' Leisure trip ', ' Couple ', ' Double Room '...\n",
       "freq                                                 3853"
      ]
     },
     "metadata": {},
     "output_type": "display_data"
    },
    {
     "name": "stdout",
     "output_type": "stream",
     "text": [
      "\n",
      "Тип данных признака:\n",
      "object\n",
      "\n",
      "Количество уникальных значений:\n",
      "47135\n"
     ]
    }
   ],
   "source": [
    "# Отображаем основные описательные характеристики признака.\n",
    "display(pd.DataFrame(hotels['tags'].describe()))\n",
    "print('')\n",
    "print((f'Тип данных признака:'), hotels['tags'].dtype, sep='\\n')\n",
    "print((f'\\nКоличество уникальных значений:'), hotels['tags'].nunique(), sep='\\n')"
   ]
  },
  {
   "cell_type": "markdown",
   "metadata": {},
   "source": [
    "## **5. Преобразование признаков:**\n"
   ]
  },
  {
   "cell_type": "markdown",
   "metadata": {},
   "source": [
    "## **6. Отбор признаков:**"
   ]
  },
  {
   "cell_type": "markdown",
   "metadata": {},
   "source": [
    "6.1. Определим в данных неинформативные признаки, которые не будут участвовать в исследовании:"
   ]
  },
  {
   "cell_type": "code",
   "execution_count": 12,
   "metadata": {},
   "outputs": [],
   "source": [
    "# Удаляем столбцы из DataFrame:\n",
    "# модель на признаках с dtypes \"object\" обучаться не будет, просто выберим их и удалим\n",
    "object_columns = [s for s in hotels.columns if hotels[s].dtypes == 'object']\n",
    "hotels.drop(object_columns, axis = 1, inplace=True)"
   ]
  },
  {
   "cell_type": "markdown",
   "metadata": {},
   "source": [
    "## **7. Обучение модели:**"
   ]
  },
  {
   "cell_type": "code",
   "execution_count": 13,
   "metadata": {},
   "outputs": [],
   "source": [
    "# Разбиваем датафрейм на части, необходимые для обучения и тестирования модели  \n",
    "# Х - данные с информацией об отелях, у - целевая переменная (рейтинги отелей)  \n",
    "X = hotels.drop(['reviewer_score'], axis = 1)  \n",
    "y = hotels['reviewer_score'] "
   ]
  },
  {
   "cell_type": "code",
   "execution_count": 14,
   "metadata": {},
   "outputs": [],
   "source": [
    "# Загружаем специальный инструмент для разбивки:  \n",
    "from sklearn.model_selection import train_test_split  "
   ]
  },
  {
   "cell_type": "code",
   "execution_count": 15,
   "metadata": {},
   "outputs": [],
   "source": [
    "# Наборы данных с меткой \"train\" будут использоваться для обучения\n",
    "# модели, \"test\" - для тестирования.  \n",
    "# Для тестирования мы будем использовать 25% от исходного датасета.  \n",
    "X_train, X_test, y_train, y_test = train_test_split(X, y, test_size=0.25, random_state=42)"
   ]
  },
  {
   "cell_type": "code",
   "execution_count": 16,
   "metadata": {},
   "outputs": [
    {
     "ename": "DTypePromotionError",
     "evalue": "The DType <class 'numpy.dtypes.DateTime64DType'> could not be promoted by <class 'numpy.dtypes.Float64DType'>. This means that no common DType exists for the given inputs. For example they cannot be stored in a single array unless the dtype is `object`. The full list of DTypes is: (<class 'numpy.dtypes.Int64DType'>, <class 'numpy.dtypes.DateTime64DType'>, <class 'numpy.dtypes.Float64DType'>, <class 'numpy.dtypes.Int64DType'>, <class 'numpy.dtypes.Int64DType'>, <class 'numpy.dtypes.Int64DType'>, <class 'numpy.dtypes.Int64DType'>, <class 'numpy.dtypes.Float64DType'>, <class 'numpy.dtypes.Float64DType'>, <class 'numpy.dtypes.Int32DType'>, <class 'numpy.dtypes.Int32DType'>)",
     "output_type": "error",
     "traceback": [
      "\u001b[1;31m---------------------------------------------------------------------------\u001b[0m",
      "\u001b[1;31mDTypePromotionError\u001b[0m                       Traceback (most recent call last)",
      "\u001b[1;32mc:\\GitHub\\SkillFactory\\Homework\\Project_6\\EDA_Kaggle.ipynb Cell 35\u001b[0m line \u001b[0;36m1\n\u001b[0;32m      <a href='vscode-notebook-cell:/c%3A/GitHub/SkillFactory/Homework/Project_6/EDA_Kaggle.ipynb#X46sZmlsZQ%3D%3D?line=7'>8</a>\u001b[0m regr \u001b[39m=\u001b[39m RandomForestRegressor(n_estimators\u001b[39m=\u001b[39m\u001b[39m100\u001b[39m)  \n\u001b[0;32m     <a href='vscode-notebook-cell:/c%3A/GitHub/SkillFactory/Homework/Project_6/EDA_Kaggle.ipynb#X46sZmlsZQ%3D%3D?line=9'>10</a>\u001b[0m \u001b[39m# Обучаем модель на тестовом наборе данных  \u001b[39;00m\n\u001b[1;32m---> <a href='vscode-notebook-cell:/c%3A/GitHub/SkillFactory/Homework/Project_6/EDA_Kaggle.ipynb#X46sZmlsZQ%3D%3D?line=10'>11</a>\u001b[0m regr\u001b[39m.\u001b[39;49mfit(X_train, y_train)  \n\u001b[0;32m     <a href='vscode-notebook-cell:/c%3A/GitHub/SkillFactory/Homework/Project_6/EDA_Kaggle.ipynb#X46sZmlsZQ%3D%3D?line=12'>13</a>\u001b[0m \u001b[39m# Используем обученную модель для предсказания рейтинга\u001b[39;00m\n\u001b[0;32m     <a href='vscode-notebook-cell:/c%3A/GitHub/SkillFactory/Homework/Project_6/EDA_Kaggle.ipynb#X46sZmlsZQ%3D%3D?line=13'>14</a>\u001b[0m \u001b[39m# отелей в тестовой выборке.  \u001b[39;00m\n\u001b[0;32m     <a href='vscode-notebook-cell:/c%3A/GitHub/SkillFactory/Homework/Project_6/EDA_Kaggle.ipynb#X46sZmlsZQ%3D%3D?line=14'>15</a>\u001b[0m \u001b[39m# Предсказанные значения записываем в переменную y_pred  \u001b[39;00m\n\u001b[0;32m     <a href='vscode-notebook-cell:/c%3A/GitHub/SkillFactory/Homework/Project_6/EDA_Kaggle.ipynb#X46sZmlsZQ%3D%3D?line=15'>16</a>\u001b[0m y_pred \u001b[39m=\u001b[39m regr\u001b[39m.\u001b[39mpredict(X_test)\n",
      "File \u001b[1;32mc:\\Users\\IK\\AppData\\Local\\Programs\\Python\\Python39\\lib\\site-packages\\sklearn\\base.py:1473\u001b[0m, in \u001b[0;36m_fit_context.<locals>.decorator.<locals>.wrapper\u001b[1;34m(estimator, *args, **kwargs)\u001b[0m\n\u001b[0;32m   1466\u001b[0m     estimator\u001b[39m.\u001b[39m_validate_params()\n\u001b[0;32m   1468\u001b[0m \u001b[39mwith\u001b[39;00m config_context(\n\u001b[0;32m   1469\u001b[0m     skip_parameter_validation\u001b[39m=\u001b[39m(\n\u001b[0;32m   1470\u001b[0m         prefer_skip_nested_validation \u001b[39mor\u001b[39;00m global_skip_validation\n\u001b[0;32m   1471\u001b[0m     )\n\u001b[0;32m   1472\u001b[0m ):\n\u001b[1;32m-> 1473\u001b[0m     \u001b[39mreturn\u001b[39;00m fit_method(estimator, \u001b[39m*\u001b[39margs, \u001b[39m*\u001b[39m\u001b[39m*\u001b[39mkwargs)\n",
      "File \u001b[1;32mc:\\Users\\IK\\AppData\\Local\\Programs\\Python\\Python39\\lib\\site-packages\\sklearn\\ensemble\\_forest.py:363\u001b[0m, in \u001b[0;36mBaseForest.fit\u001b[1;34m(self, X, y, sample_weight)\u001b[0m\n\u001b[0;32m    360\u001b[0m \u001b[39mif\u001b[39;00m issparse(y):\n\u001b[0;32m    361\u001b[0m     \u001b[39mraise\u001b[39;00m \u001b[39mValueError\u001b[39;00m(\u001b[39m\"\u001b[39m\u001b[39msparse multilabel-indicator for y is not supported.\u001b[39m\u001b[39m\"\u001b[39m)\n\u001b[1;32m--> 363\u001b[0m X, y \u001b[39m=\u001b[39m \u001b[39mself\u001b[39;49m\u001b[39m.\u001b[39;49m_validate_data(\n\u001b[0;32m    364\u001b[0m     X,\n\u001b[0;32m    365\u001b[0m     y,\n\u001b[0;32m    366\u001b[0m     multi_output\u001b[39m=\u001b[39;49m\u001b[39mTrue\u001b[39;49;00m,\n\u001b[0;32m    367\u001b[0m     accept_sparse\u001b[39m=\u001b[39;49m\u001b[39m\"\u001b[39;49m\u001b[39mcsc\u001b[39;49m\u001b[39m\"\u001b[39;49m,\n\u001b[0;32m    368\u001b[0m     dtype\u001b[39m=\u001b[39;49mDTYPE,\n\u001b[0;32m    369\u001b[0m     force_all_finite\u001b[39m=\u001b[39;49m\u001b[39mFalse\u001b[39;49;00m,\n\u001b[0;32m    370\u001b[0m )\n\u001b[0;32m    371\u001b[0m \u001b[39m# _compute_missing_values_in_feature_mask checks if X has missing values and\u001b[39;00m\n\u001b[0;32m    372\u001b[0m \u001b[39m# will raise an error if the underlying tree base estimator can't handle missing\u001b[39;00m\n\u001b[0;32m    373\u001b[0m \u001b[39m# values. Only the criterion is required to determine if the tree supports\u001b[39;00m\n\u001b[0;32m    374\u001b[0m \u001b[39m# missing values.\u001b[39;00m\n\u001b[0;32m    375\u001b[0m estimator \u001b[39m=\u001b[39m \u001b[39mtype\u001b[39m(\u001b[39mself\u001b[39m\u001b[39m.\u001b[39mestimator)(criterion\u001b[39m=\u001b[39m\u001b[39mself\u001b[39m\u001b[39m.\u001b[39mcriterion)\n",
      "File \u001b[1;32mc:\\Users\\IK\\AppData\\Local\\Programs\\Python\\Python39\\lib\\site-packages\\sklearn\\base.py:650\u001b[0m, in \u001b[0;36mBaseEstimator._validate_data\u001b[1;34m(self, X, y, reset, validate_separately, cast_to_ndarray, **check_params)\u001b[0m\n\u001b[0;32m    648\u001b[0m         y \u001b[39m=\u001b[39m check_array(y, input_name\u001b[39m=\u001b[39m\u001b[39m\"\u001b[39m\u001b[39my\u001b[39m\u001b[39m\"\u001b[39m, \u001b[39m*\u001b[39m\u001b[39m*\u001b[39mcheck_y_params)\n\u001b[0;32m    649\u001b[0m     \u001b[39melse\u001b[39;00m:\n\u001b[1;32m--> 650\u001b[0m         X, y \u001b[39m=\u001b[39m check_X_y(X, y, \u001b[39m*\u001b[39m\u001b[39m*\u001b[39mcheck_params)\n\u001b[0;32m    651\u001b[0m     out \u001b[39m=\u001b[39m X, y\n\u001b[0;32m    653\u001b[0m \u001b[39mif\u001b[39;00m \u001b[39mnot\u001b[39;00m no_val_X \u001b[39mand\u001b[39;00m check_params\u001b[39m.\u001b[39mget(\u001b[39m\"\u001b[39m\u001b[39mensure_2d\u001b[39m\u001b[39m\"\u001b[39m, \u001b[39mTrue\u001b[39;00m):\n",
      "File \u001b[1;32mc:\\Users\\IK\\AppData\\Local\\Programs\\Python\\Python39\\lib\\site-packages\\sklearn\\utils\\validation.py:1301\u001b[0m, in \u001b[0;36mcheck_X_y\u001b[1;34m(X, y, accept_sparse, accept_large_sparse, dtype, order, copy, force_writeable, force_all_finite, ensure_2d, allow_nd, multi_output, ensure_min_samples, ensure_min_features, y_numeric, estimator)\u001b[0m\n\u001b[0;32m   1296\u001b[0m         estimator_name \u001b[39m=\u001b[39m _check_estimator_name(estimator)\n\u001b[0;32m   1297\u001b[0m     \u001b[39mraise\u001b[39;00m \u001b[39mValueError\u001b[39;00m(\n\u001b[0;32m   1298\u001b[0m         \u001b[39mf\u001b[39m\u001b[39m\"\u001b[39m\u001b[39m{\u001b[39;00mestimator_name\u001b[39m}\u001b[39;00m\u001b[39m requires y to be passed, but the target y is None\u001b[39m\u001b[39m\"\u001b[39m\n\u001b[0;32m   1299\u001b[0m     )\n\u001b[1;32m-> 1301\u001b[0m X \u001b[39m=\u001b[39m check_array(\n\u001b[0;32m   1302\u001b[0m     X,\n\u001b[0;32m   1303\u001b[0m     accept_sparse\u001b[39m=\u001b[39;49maccept_sparse,\n\u001b[0;32m   1304\u001b[0m     accept_large_sparse\u001b[39m=\u001b[39;49maccept_large_sparse,\n\u001b[0;32m   1305\u001b[0m     dtype\u001b[39m=\u001b[39;49mdtype,\n\u001b[0;32m   1306\u001b[0m     order\u001b[39m=\u001b[39;49morder,\n\u001b[0;32m   1307\u001b[0m     copy\u001b[39m=\u001b[39;49mcopy,\n\u001b[0;32m   1308\u001b[0m     force_writeable\u001b[39m=\u001b[39;49mforce_writeable,\n\u001b[0;32m   1309\u001b[0m     force_all_finite\u001b[39m=\u001b[39;49mforce_all_finite,\n\u001b[0;32m   1310\u001b[0m     ensure_2d\u001b[39m=\u001b[39;49mensure_2d,\n\u001b[0;32m   1311\u001b[0m     allow_nd\u001b[39m=\u001b[39;49mallow_nd,\n\u001b[0;32m   1312\u001b[0m     ensure_min_samples\u001b[39m=\u001b[39;49mensure_min_samples,\n\u001b[0;32m   1313\u001b[0m     ensure_min_features\u001b[39m=\u001b[39;49mensure_min_features,\n\u001b[0;32m   1314\u001b[0m     estimator\u001b[39m=\u001b[39;49mestimator,\n\u001b[0;32m   1315\u001b[0m     input_name\u001b[39m=\u001b[39;49m\u001b[39m\"\u001b[39;49m\u001b[39mX\u001b[39;49m\u001b[39m\"\u001b[39;49m,\n\u001b[0;32m   1316\u001b[0m )\n\u001b[0;32m   1318\u001b[0m y \u001b[39m=\u001b[39m _check_y(y, multi_output\u001b[39m=\u001b[39mmulti_output, y_numeric\u001b[39m=\u001b[39my_numeric, estimator\u001b[39m=\u001b[39mestimator)\n\u001b[0;32m   1320\u001b[0m check_consistent_length(X, y)\n",
      "File \u001b[1;32mc:\\Users\\IK\\AppData\\Local\\Programs\\Python\\Python39\\lib\\site-packages\\sklearn\\utils\\validation.py:887\u001b[0m, in \u001b[0;36mcheck_array\u001b[1;34m(array, accept_sparse, accept_large_sparse, dtype, order, copy, force_writeable, force_all_finite, ensure_2d, allow_nd, ensure_min_samples, ensure_min_features, estimator, input_name)\u001b[0m\n\u001b[0;32m    883\u001b[0m pandas_requires_conversion \u001b[39m=\u001b[39m \u001b[39many\u001b[39m(\n\u001b[0;32m    884\u001b[0m     _pandas_dtype_needs_early_conversion(i) \u001b[39mfor\u001b[39;00m i \u001b[39min\u001b[39;00m dtypes_orig\n\u001b[0;32m    885\u001b[0m )\n\u001b[0;32m    886\u001b[0m \u001b[39mif\u001b[39;00m \u001b[39mall\u001b[39m(\u001b[39misinstance\u001b[39m(dtype_iter, np\u001b[39m.\u001b[39mdtype) \u001b[39mfor\u001b[39;00m dtype_iter \u001b[39min\u001b[39;00m dtypes_orig):\n\u001b[1;32m--> 887\u001b[0m     dtype_orig \u001b[39m=\u001b[39m np\u001b[39m.\u001b[39;49mresult_type(\u001b[39m*\u001b[39;49mdtypes_orig)\n\u001b[0;32m    888\u001b[0m \u001b[39melif\u001b[39;00m pandas_requires_conversion \u001b[39mand\u001b[39;00m \u001b[39many\u001b[39m(d \u001b[39m==\u001b[39m \u001b[39mobject\u001b[39m \u001b[39mfor\u001b[39;00m d \u001b[39min\u001b[39;00m dtypes_orig):\n\u001b[0;32m    889\u001b[0m     \u001b[39m# Force object if any of the dtypes is an object\u001b[39;00m\n\u001b[0;32m    890\u001b[0m     dtype_orig \u001b[39m=\u001b[39m \u001b[39mobject\u001b[39m\n",
      "\u001b[1;31mDTypePromotionError\u001b[0m: The DType <class 'numpy.dtypes.DateTime64DType'> could not be promoted by <class 'numpy.dtypes.Float64DType'>. This means that no common DType exists for the given inputs. For example they cannot be stored in a single array unless the dtype is `object`. The full list of DTypes is: (<class 'numpy.dtypes.Int64DType'>, <class 'numpy.dtypes.DateTime64DType'>, <class 'numpy.dtypes.Float64DType'>, <class 'numpy.dtypes.Int64DType'>, <class 'numpy.dtypes.Int64DType'>, <class 'numpy.dtypes.Int64DType'>, <class 'numpy.dtypes.Int64DType'>, <class 'numpy.dtypes.Float64DType'>, <class 'numpy.dtypes.Float64DType'>, <class 'numpy.dtypes.Int32DType'>, <class 'numpy.dtypes.Int32DType'>)"
     ]
    }
   ],
   "source": [
    "# Импортируем необходимые библиотеки:  \n",
    "from sklearn.ensemble import RandomForestRegressor\n",
    "# инструмент для создания и обучения модели  \n",
    "from sklearn import metrics\n",
    "# инструменты для оценки точности модели  \n",
    "  \n",
    "# Создаём модель  \n",
    "regr = RandomForestRegressor(n_estimators=100)  \n",
    "      \n",
    "# Обучаем модель на тестовом наборе данных  \n",
    "regr.fit(X_train, y_train)  \n",
    "      \n",
    "# Используем обученную модель для предсказания рейтинга\n",
    "# отелей в тестовой выборке.  \n",
    "# Предсказанные значения записываем в переменную y_pred  \n",
    "y_pred = regr.predict(X_test)"
   ]
  },
  {
   "cell_type": "code",
   "execution_count": null,
   "metadata": {},
   "outputs": [
    {
     "name": "stdout",
     "output_type": "stream",
     "text": [
      "MAPE: 0.1417257126350131\n"
     ]
    }
   ],
   "source": [
    "# Сравниваем предсказанные значения (y_pred) с реальными (y_test),\n",
    "# и смотрим насколько они отличаются  \n",
    "# Метрика называется Mean Absolute Percentage Error (MAPE)\n",
    "# и показывает среднюю абсолютную процентную ошибку\n",
    "# предсказанных значений от фактических.  \n",
    "print('MAPE:', metrics.mean_absolute_percentage_error(y_test, y_pred))"
   ]
  },
  {
   "cell_type": "markdown",
   "metadata": {},
   "source": [
    "## **Итоговые результаты исследования:**"
   ]
  }
 ],
 "metadata": {
  "kernelspec": {
   "display_name": "Python 3",
   "language": "python",
   "name": "python3"
  },
  "language_info": {
   "codemirror_mode": {
    "name": "ipython",
    "version": 3
   },
   "file_extension": ".py",
   "mimetype": "text/x-python",
   "name": "python",
   "nbconvert_exporter": "python",
   "pygments_lexer": "ipython3",
   "version": "3.9.10"
  }
 },
 "nbformat": 4,
 "nbformat_minor": 2
}
