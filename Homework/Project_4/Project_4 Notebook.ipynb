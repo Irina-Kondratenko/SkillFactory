{
  "cells": [
    {
      "cell_type": "markdown",
      "id": "42289889-bd57-434e-9637-d3e354756316",
      "metadata": {
        "id": "42289889-bd57-434e-9637-d3e354756316"
      },
      "source": [
        "<center> <img src = https://raw.githubusercontent.com/AndreyRysistov/DatasetsForPandas/main/hh%20label.jpg alt=\"drawing\" style=\"width:400px;\">"
      ]
    },
    {
      "cell_type": "markdown",
      "id": "829cb75b-f14e-4ba8-9195-7ba929a7d656",
      "metadata": {
        "id": "829cb75b-f14e-4ba8-9195-7ba929a7d656",
        "tags": []
      },
      "source": [
        "# <center> Проект: Анализ вакансий из HeadHunter\n",
        "   "
      ]
    },
    {
      "cell_type": "code",
      "execution_count": 6,
      "id": "dccfde33-2452-43fb-a8a5-5c6ebc02a71d",
      "metadata": {
        "id": "dccfde33-2452-43fb-a8a5-5c6ebc02a71d"
      },
      "outputs": [],
      "source": [
        "import pandas as pd\n",
        "import psycopg2\n",
        "\n",
        "import warnings\n",
        "warnings.filterwarnings(\"ignore\")"
      ]
    },
    {
      "cell_type": "code",
      "execution_count": 7,
      "id": "oVKH4ehvf8Ay",
      "metadata": {
        "id": "oVKH4ehvf8Ay"
      },
      "outputs": [],
      "source": [
        "# вставьте сюда параметры подключения из юнита 1.\n",
        "# Работа с базой данных из Python\n"
      ]
    },
    {
      "cell_type": "code",
      "execution_count": 8,
      "id": "G4X_q8KBf7SF",
      "metadata": {
        "id": "G4X_q8KBf7SF"
      },
      "outputs": [
        {
          "ename": "NameError",
          "evalue": "name 'DBNAME' is not defined",
          "output_type": "error",
          "traceback": [
            "\u001b[1;31m---------------------------------------------------------------------------\u001b[0m",
            "\u001b[1;31mNameError\u001b[0m                                 Traceback (most recent call last)",
            "\u001b[1;32mc:\\GitHub\\SkillFactory\\Homework\\Project_4\\Project_4 Notebook.ipynb Cell 5\u001b[0m line \u001b[0;36m2\n\u001b[0;32m      <a href='vscode-notebook-cell:/c%3A/GitHub/SkillFactory/Homework/Project_4/Project_4%20Notebook.ipynb#W4sZmlsZQ%3D%3D?line=0'>1</a>\u001b[0m connection \u001b[39m=\u001b[39m psycopg2\u001b[39m.\u001b[39mconnect(\n\u001b[1;32m----> <a href='vscode-notebook-cell:/c%3A/GitHub/SkillFactory/Homework/Project_4/Project_4%20Notebook.ipynb#W4sZmlsZQ%3D%3D?line=1'>2</a>\u001b[0m     dbname\u001b[39m=\u001b[39mDBNAME,\n\u001b[0;32m      <a href='vscode-notebook-cell:/c%3A/GitHub/SkillFactory/Homework/Project_4/Project_4%20Notebook.ipynb#W4sZmlsZQ%3D%3D?line=2'>3</a>\u001b[0m     user\u001b[39m=\u001b[39mUSER,\n\u001b[0;32m      <a href='vscode-notebook-cell:/c%3A/GitHub/SkillFactory/Homework/Project_4/Project_4%20Notebook.ipynb#W4sZmlsZQ%3D%3D?line=3'>4</a>\u001b[0m     host\u001b[39m=\u001b[39mHOST,\n\u001b[0;32m      <a href='vscode-notebook-cell:/c%3A/GitHub/SkillFactory/Homework/Project_4/Project_4%20Notebook.ipynb#W4sZmlsZQ%3D%3D?line=4'>5</a>\u001b[0m     password\u001b[39m=\u001b[39mPASSWORD,\n\u001b[0;32m      <a href='vscode-notebook-cell:/c%3A/GitHub/SkillFactory/Homework/Project_4/Project_4%20Notebook.ipynb#W4sZmlsZQ%3D%3D?line=5'>6</a>\u001b[0m     port\u001b[39m=\u001b[39mPORT\n\u001b[0;32m      <a href='vscode-notebook-cell:/c%3A/GitHub/SkillFactory/Homework/Project_4/Project_4%20Notebook.ipynb#W4sZmlsZQ%3D%3D?line=6'>7</a>\u001b[0m )\n",
            "\u001b[1;31mNameError\u001b[0m: name 'DBNAME' is not defined"
          ]
        }
      ],
      "source": [
        "connection = psycopg2.connect(\n",
        "    dbname=DBNAME,\n",
        "    user=USER,\n",
        "    host=HOST,\n",
        "    password=PASSWORD,\n",
        "    port=PORT\n",
        ")"
      ]
    },
    {
      "cell_type": "markdown",
      "id": "0dc6476b-7a00-44f1-ac93-6e3baed33a29",
      "metadata": {
        "id": "0dc6476b-7a00-44f1-ac93-6e3baed33a29"
      },
      "source": [
        "# Юнит 3. Предварительный анализ данных"
      ]
    },
    {
      "cell_type": "markdown",
      "id": "889782b6-8d1c-410e-8920-e57f27917c64",
      "metadata": {
        "id": "889782b6-8d1c-410e-8920-e57f27917c64"
      },
      "source": [
        "1. Напишите запрос, который посчитает количество вакансий в нашей базе (вакансии находятся в таблице vacancies). "
      ]
    },
    {
      "cell_type": "code",
      "execution_count": null,
      "id": "bc39e68e-ed02-4ee2-9235-7258a2f867a8",
      "metadata": {
        "id": "bc39e68e-ed02-4ee2-9235-7258a2f867a8"
      },
      "outputs": [],
      "source": [
        "# ТЕКСТ ЗАПРОСА:\n",
        "\n",
        "query_3_1 = f'''select /*Выбор*/\n",
        "            /*Подсчитываем количество вакансий в базе*/\n",
        "            count(id) as \"Количество вакансий:\"\n",
        "            /*из таблицы VACANCIES, в которой\n",
        "            хранятся данные о вакансиях*/\n",
        "            from public.VACANCIES v'''"
      ]
    },
    {
      "cell_type": "code",
      "execution_count": null,
      "id": "7mAwtsk4hEHY",
      "metadata": {
        "id": "7mAwtsk4hEHY"
      },
      "outputs": [
        {
          "data": {
            "text/html": [
              "<div>\n",
              "<style scoped>\n",
              "    .dataframe tbody tr th:only-of-type {\n",
              "        vertical-align: middle;\n",
              "    }\n",
              "\n",
              "    .dataframe tbody tr th {\n",
              "        vertical-align: top;\n",
              "    }\n",
              "\n",
              "    .dataframe thead th {\n",
              "        text-align: right;\n",
              "    }\n",
              "</style>\n",
              "<table border=\"1\" class=\"dataframe\">\n",
              "  <thead>\n",
              "    <tr style=\"text-align: right;\">\n",
              "      <th></th>\n",
              "      <th>Количество вакансий:</th>\n",
              "    </tr>\n",
              "  </thead>\n",
              "  <tbody>\n",
              "    <tr>\n",
              "      <th>0</th>\n",
              "      <td>49197</td>\n",
              "    </tr>\n",
              "  </tbody>\n",
              "</table>\n",
              "</div>"
            ],
            "text/plain": [
              "   Количество вакансий:\n",
              "0                 49197"
            ]
          },
          "execution_count": 163,
          "metadata": {},
          "output_type": "execute_result"
        }
      ],
      "source": [
        "# РЕЗУЛЬТАТ ЗАПРОСА:\n",
        "\n",
        "# Используем метод read_sql_query, чтобы получить\n",
        "# результаты запроса сразу в виде датафрейма:\n",
        "df = pd.read_sql_query(query_3_1, connection)\n",
        "df"
      ]
    },
    {
      "cell_type": "markdown",
      "id": "b583485d-1f9e-494e-ada4-80ffff7c53d6",
      "metadata": {
        "id": "b583485d-1f9e-494e-ada4-80ffff7c53d6"
      },
      "source": [
        "2. Напишите запрос, который посчитает количество работодателей (таблица employers). "
      ]
    },
    {
      "cell_type": "code",
      "execution_count": null,
      "id": "5408c52c-3407-4a63-b25b-1aafa2322d28",
      "metadata": {
        "id": "5408c52c-3407-4a63-b25b-1aafa2322d28"
      },
      "outputs": [],
      "source": [
        "# ТЕКСТ ЗАПРОСА:\n",
        "\n",
        "query_3_2 = f'''select /*Выбор*/\n",
        "            /*Подсчитываем количество работодателей в базе*/\n",
        "            count(id) as \"Количество работодателей:\"\n",
        "            /*из таблицы EMPLOYERS, в которой\n",
        "            хранятся данные о работодателях*/\n",
        "            from public.EMPLOYERS e'''"
      ]
    },
    {
      "cell_type": "code",
      "execution_count": null,
      "id": "jVL4eshKhdqc",
      "metadata": {
        "id": "jVL4eshKhdqc"
      },
      "outputs": [
        {
          "data": {
            "text/html": [
              "<div>\n",
              "<style scoped>\n",
              "    .dataframe tbody tr th:only-of-type {\n",
              "        vertical-align: middle;\n",
              "    }\n",
              "\n",
              "    .dataframe tbody tr th {\n",
              "        vertical-align: top;\n",
              "    }\n",
              "\n",
              "    .dataframe thead th {\n",
              "        text-align: right;\n",
              "    }\n",
              "</style>\n",
              "<table border=\"1\" class=\"dataframe\">\n",
              "  <thead>\n",
              "    <tr style=\"text-align: right;\">\n",
              "      <th></th>\n",
              "      <th>Количество работодателей:</th>\n",
              "    </tr>\n",
              "  </thead>\n",
              "  <tbody>\n",
              "    <tr>\n",
              "      <th>0</th>\n",
              "      <td>23501</td>\n",
              "    </tr>\n",
              "  </tbody>\n",
              "</table>\n",
              "</div>"
            ],
            "text/plain": [
              "   Количество работодателей:\n",
              "0                      23501"
            ]
          },
          "execution_count": 165,
          "metadata": {},
          "output_type": "execute_result"
        }
      ],
      "source": [
        "# РЕЗУЛЬТАТ ЗАПРОСА:\n",
        "\n",
        "# Используем метод read_sql_query, чтобы получить\n",
        "# результаты запроса сразу в виде датафрейма:\n",
        "df = pd.read_sql_query(query_3_2, connection)\n",
        "df"
      ]
    },
    {
      "cell_type": "markdown",
      "id": "a2bfff1f-c975-4bf6-84be-2185d79dcb76",
      "metadata": {
        "id": "a2bfff1f-c975-4bf6-84be-2185d79dcb76"
      },
      "source": [
        "3. Посчитате с помощью запроса количество регионов (таблица areas)."
      ]
    },
    {
      "cell_type": "code",
      "execution_count": null,
      "id": "1m8QJwBYhey6",
      "metadata": {
        "id": "1m8QJwBYhey6"
      },
      "outputs": [],
      "source": [
        "# ТЕКСТ ЗАПРОСА:\n",
        "\n",
        "query_3_3 = f'''select /*Выбор*/\n",
        "            /*Подсчитываем количество регионов в базе*/\n",
        "            count(id) as \"Количество регионов:\" \n",
        "            /*из таблицы AREAS, в которой\n",
        "            хранятся данные о регионах*/\n",
        "            from public.AREAS a'''"
      ]
    },
    {
      "cell_type": "code",
      "execution_count": null,
      "id": "EZsn9tlfhe7f",
      "metadata": {
        "id": "EZsn9tlfhe7f"
      },
      "outputs": [
        {
          "data": {
            "text/html": [
              "<div>\n",
              "<style scoped>\n",
              "    .dataframe tbody tr th:only-of-type {\n",
              "        vertical-align: middle;\n",
              "    }\n",
              "\n",
              "    .dataframe tbody tr th {\n",
              "        vertical-align: top;\n",
              "    }\n",
              "\n",
              "    .dataframe thead th {\n",
              "        text-align: right;\n",
              "    }\n",
              "</style>\n",
              "<table border=\"1\" class=\"dataframe\">\n",
              "  <thead>\n",
              "    <tr style=\"text-align: right;\">\n",
              "      <th></th>\n",
              "      <th>Количество регионов:</th>\n",
              "    </tr>\n",
              "  </thead>\n",
              "  <tbody>\n",
              "    <tr>\n",
              "      <th>0</th>\n",
              "      <td>1362</td>\n",
              "    </tr>\n",
              "  </tbody>\n",
              "</table>\n",
              "</div>"
            ],
            "text/plain": [
              "   Количество регионов:\n",
              "0                  1362"
            ]
          },
          "execution_count": 167,
          "metadata": {},
          "output_type": "execute_result"
        }
      ],
      "source": [
        "# РЕЗУЛЬТАТ ЗАПРОСА:\n",
        "\n",
        "# Используем метод read_sql_query, чтобы получить\n",
        "# результаты запроса сразу в виде датафрейма:\n",
        "df = pd.read_sql_query(query_3_3, connection)\n",
        "df"
      ]
    },
    {
      "cell_type": "markdown",
      "id": "41bb59f3-53cc-4a67-a5bc-bedf573955e4",
      "metadata": {
        "id": "41bb59f3-53cc-4a67-a5bc-bedf573955e4"
      },
      "source": [
        "4. Посчитате с помощью запроса количество сфер деятельности в базе (таблица industries)."
      ]
    },
    {
      "cell_type": "code",
      "execution_count": null,
      "id": "d286cf4c-707b-4cd2-9190-7ab3587d04a1",
      "metadata": {
        "id": "d286cf4c-707b-4cd2-9190-7ab3587d04a1"
      },
      "outputs": [],
      "source": [
        "# ТЕКСТ ЗАПРОСА:\n",
        "\n",
        "query_3_4 = f'''select /*Выбор*/\n",
        "            /*Подсчитываем количество сфер деятельности в базе*/\n",
        "            count(id) as \"Количество сфер деятельности:\"  \n",
        "            /*из таблицы INDUSTRIES, в которой хранятся\n",
        "            данные о сферах деятельности работодателей*/\n",
        "            from public.INDUSTRIES i'''"
      ]
    },
    {
      "cell_type": "code",
      "execution_count": null,
      "id": "JYAaoZ4qhfzW",
      "metadata": {
        "id": "JYAaoZ4qhfzW"
      },
      "outputs": [
        {
          "data": {
            "text/html": [
              "<div>\n",
              "<style scoped>\n",
              "    .dataframe tbody tr th:only-of-type {\n",
              "        vertical-align: middle;\n",
              "    }\n",
              "\n",
              "    .dataframe tbody tr th {\n",
              "        vertical-align: top;\n",
              "    }\n",
              "\n",
              "    .dataframe thead th {\n",
              "        text-align: right;\n",
              "    }\n",
              "</style>\n",
              "<table border=\"1\" class=\"dataframe\">\n",
              "  <thead>\n",
              "    <tr style=\"text-align: right;\">\n",
              "      <th></th>\n",
              "      <th>Количество сфер деятельности:</th>\n",
              "    </tr>\n",
              "  </thead>\n",
              "  <tbody>\n",
              "    <tr>\n",
              "      <th>0</th>\n",
              "      <td>294</td>\n",
              "    </tr>\n",
              "  </tbody>\n",
              "</table>\n",
              "</div>"
            ],
            "text/plain": [
              "   Количество сфер деятельности:\n",
              "0                            294"
            ]
          },
          "execution_count": 169,
          "metadata": {},
          "output_type": "execute_result"
        }
      ],
      "source": [
        "# РЕЗУЛЬТАТ ЗАПРОСА:\n",
        "\n",
        "# Используем метод read_sql_query, чтобы получить\n",
        "# результаты запроса сразу в виде датафрейма:\n",
        "df = pd.read_sql_query(query_3_4, connection)\n",
        "df"
      ]
    },
    {
      "cell_type": "markdown",
      "id": "9a8a2181-6914-448b-85f1-38f5f18b8a93",
      "metadata": {
        "id": "9a8a2181-6914-448b-85f1-38f5f18b8a93"
      },
      "source": [
        "***"
      ]
    },
    {
      "cell_type": "markdown",
      "metadata": {},
      "source": [
        "#### ***Выводы по предварительному анализу данных:***\n",
        "\n",
        "В представленной базе данных имеются взаимосвязаные между собой по ключу id таблицы. Это позволяет проводить анализ данных и выявлять различные характеристики взаимосвязей.\n",
        "\n",
        "В результате проведенного предварительного анализа данных видно: \n",
        "\n",
        "- количество вакансий в базе данных составляет 49197 ед.;  \n",
        "- количество работодателей составляет 23501 ед.;\n",
        "- количество регионов составляет 1362 ед.;\n",
        "- количество сфер деятельности работодателей составляет 294 ед."
      ]
    },
    {
      "cell_type": "markdown",
      "id": "8d62a9f3-f64e-4fe7-bdac-c4dffa16155e",
      "metadata": {
        "id": "8d62a9f3-f64e-4fe7-bdac-c4dffa16155e"
      },
      "source": [
        "# Юнит 4. Детальный анализ вакансий"
      ]
    },
    {
      "cell_type": "markdown",
      "id": "93053d3d-b284-481a-9cf7-012d7014c0e0",
      "metadata": {
        "id": "93053d3d-b284-481a-9cf7-012d7014c0e0"
      },
      "source": [
        "1. Напишите запрос, который позволит узнать, сколько (cnt) вакансий в каждом регионе (area).\n",
        "Отсортируйте по количеству вакансий в порядке убывания."
      ]
    },
    {
      "cell_type": "code",
      "execution_count": null,
      "id": "3f069da6-fdc9-4ae7-b514-fafe2675efd3",
      "metadata": {
        "id": "3f069da6-fdc9-4ae7-b514-fafe2675efd3"
      },
      "outputs": [],
      "source": [
        "# ТЕКСТ ЗАПРОСА:\n",
        "\n",
        "query_4_1 = f'''select /*Выбор*/\n",
        "            /*Выбираем данные о регионах*/\n",
        "            a.name as \"Регион:\",            \n",
        "            /*Подсчитываем количество вакансий в базе*/\n",
        "            count(v.id) as \"Количество вакансий:\"            \n",
        "            /*из таблицы AREAS, в которой\n",
        "            хранятся данные о регионах*/            \n",
        "            from public.AREAS a            \n",
        "            /*Оператор соединения таблиц; таблица  VACANCIES;\n",
        "            условие: v.area_id таблицы VACANCIES\n",
        "            равен a.id таблицы AREAS*/\n",
        "            join public.VACANCIES v on v.area_id = a.id            \n",
        "            /*Группируем по столбцу \"Регион:\"*/\n",
        "            group by 1            \n",
        "            /*Сортируем по столбцу \"Количество вакансий:\"\n",
        "            в порядке убывания*/            \n",
        "            order by 2 desc\n",
        "            /*Ограничение пятью значениями*/\n",
        "            limit 5'''"
      ]
    },
    {
      "cell_type": "code",
      "execution_count": null,
      "id": "P7QL86hrjhRJ",
      "metadata": {
        "id": "P7QL86hrjhRJ"
      },
      "outputs": [
        {
          "data": {
            "text/html": [
              "<div>\n",
              "<style scoped>\n",
              "    .dataframe tbody tr th:only-of-type {\n",
              "        vertical-align: middle;\n",
              "    }\n",
              "\n",
              "    .dataframe tbody tr th {\n",
              "        vertical-align: top;\n",
              "    }\n",
              "\n",
              "    .dataframe thead th {\n",
              "        text-align: right;\n",
              "    }\n",
              "</style>\n",
              "<table border=\"1\" class=\"dataframe\">\n",
              "  <thead>\n",
              "    <tr style=\"text-align: right;\">\n",
              "      <th></th>\n",
              "      <th>Регион:</th>\n",
              "      <th>Количество вакансий:</th>\n",
              "    </tr>\n",
              "  </thead>\n",
              "  <tbody>\n",
              "    <tr>\n",
              "      <th>0</th>\n",
              "      <td>Москва</td>\n",
              "      <td>5333</td>\n",
              "    </tr>\n",
              "    <tr>\n",
              "      <th>1</th>\n",
              "      <td>Санкт-Петербург</td>\n",
              "      <td>2851</td>\n",
              "    </tr>\n",
              "    <tr>\n",
              "      <th>2</th>\n",
              "      <td>Минск</td>\n",
              "      <td>2112</td>\n",
              "    </tr>\n",
              "    <tr>\n",
              "      <th>3</th>\n",
              "      <td>Новосибирск</td>\n",
              "      <td>2006</td>\n",
              "    </tr>\n",
              "    <tr>\n",
              "      <th>4</th>\n",
              "      <td>Алматы</td>\n",
              "      <td>1892</td>\n",
              "    </tr>\n",
              "  </tbody>\n",
              "</table>\n",
              "</div>"
            ],
            "text/plain": [
              "           Регион:  Количество вакансий:\n",
              "0           Москва                  5333\n",
              "1  Санкт-Петербург                  2851\n",
              "2            Минск                  2112\n",
              "3      Новосибирск                  2006\n",
              "4           Алматы                  1892"
            ]
          },
          "execution_count": 171,
          "metadata": {},
          "output_type": "execute_result"
        }
      ],
      "source": [
        "# РЕЗУЛЬТАТ ЗАПРОСА:\n",
        "\n",
        "# Используем метод read_sql_query, чтобы получить\n",
        "# результаты запроса сразу в виде датафрейма:\n",
        "df = pd.read_sql_query(query_4_1, connection)\n",
        "df"
      ]
    },
    {
      "cell_type": "markdown",
      "id": "4266f0b6-1646-492a-88b4-2f6a46502135",
      "metadata": {
        "id": "4266f0b6-1646-492a-88b4-2f6a46502135"
      },
      "source": [
        "2. Напишите запрос, чтобы определить у какого количества вакансий заполнено хотя бы одно из двух полей с зарплатой."
      ]
    },
    {
      "cell_type": "code",
      "execution_count": null,
      "id": "0c44b350-72eb-4d65-8b54-a1fc449ba9fd",
      "metadata": {
        "id": "0c44b350-72eb-4d65-8b54-a1fc449ba9fd"
      },
      "outputs": [],
      "source": [
        "# ТЕКСТ ЗАПРОСА:\n",
        "\n",
        "query_4_2 = f'''select /*Выбор*/\n",
        "            /*Подсчитываем количество вакансий в базе*/\n",
        "            count(id) as \"Количество вакансий:\"\n",
        "            /*из таблицы VACANCIES, в которой\n",
        "            хранятся данные о вакансиях*/\n",
        "            from public.VACANCIES v\n",
        "            /*при условии, что заполнено хотя бы\n",
        "            одно из двух полей с З/П*/\n",
        "            where salary_from is not Null\n",
        "            or salary_to is not Null'''"
      ]
    },
    {
      "cell_type": "code",
      "execution_count": null,
      "id": "rhvwaMDkoWTi",
      "metadata": {
        "id": "rhvwaMDkoWTi"
      },
      "outputs": [
        {
          "data": {
            "text/html": [
              "<div>\n",
              "<style scoped>\n",
              "    .dataframe tbody tr th:only-of-type {\n",
              "        vertical-align: middle;\n",
              "    }\n",
              "\n",
              "    .dataframe tbody tr th {\n",
              "        vertical-align: top;\n",
              "    }\n",
              "\n",
              "    .dataframe thead th {\n",
              "        text-align: right;\n",
              "    }\n",
              "</style>\n",
              "<table border=\"1\" class=\"dataframe\">\n",
              "  <thead>\n",
              "    <tr style=\"text-align: right;\">\n",
              "      <th></th>\n",
              "      <th>Количество вакансий:</th>\n",
              "    </tr>\n",
              "  </thead>\n",
              "  <tbody>\n",
              "    <tr>\n",
              "      <th>0</th>\n",
              "      <td>24073</td>\n",
              "    </tr>\n",
              "  </tbody>\n",
              "</table>\n",
              "</div>"
            ],
            "text/plain": [
              "   Количество вакансий:\n",
              "0                 24073"
            ]
          },
          "execution_count": 173,
          "metadata": {},
          "output_type": "execute_result"
        }
      ],
      "source": [
        "# РЕЗУЛЬТАТ ЗАПРОСА:\n",
        "\n",
        "# Используем метод read_sql_query, чтобы получить\n",
        "# результаты запроса сразу в виде датафрейма:\n",
        "df = pd.read_sql_query(query_4_2, connection)\n",
        "df"
      ]
    },
    {
      "cell_type": "markdown",
      "id": "635c4d5d-f323-4c66-b428-50a088120aa0",
      "metadata": {
        "id": "635c4d5d-f323-4c66-b428-50a088120aa0"
      },
      "source": [
        "3. Найдите средние значения для нижней и верхней границы зарплатной вилки. Округлите значения до целого."
      ]
    },
    {
      "cell_type": "code",
      "execution_count": null,
      "id": "603cdbe4-0ec3-4106-8eaf-c73fcdd29165",
      "metadata": {
        "id": "603cdbe4-0ec3-4106-8eaf-c73fcdd29165"
      },
      "outputs": [],
      "source": [
        "# ТЕКСТ ЗАПРОСА:\n",
        "\n",
        "query_4_3 = f'''select /*Выбор*/\n",
        "            /*Вычисляем среднее значение\n",
        "            для нижней границы зарплатной вилки.\n",
        "            Округляем значение до целого*/\n",
        "            round(AVG(v.salary_from)) as \"Среднее значение З/П:\"\n",
        "            /*из таблицы VACANCIES, в которой\n",
        "            хранятся данные о вакансиях*/\n",
        "            from public.VACANCIES v\n",
        "            /*при условии, что заполнена\n",
        "            нижняя граница зарплатной вилки*/\n",
        "            where v.salary_from is not Null\n",
        "            /*оператор присоединения\n",
        "            (уникальные значения)*/\n",
        "            union            \n",
        "            select /*Выбор*/\n",
        "            /*Вычисляем среднее значение\n",
        "            для верхней границы зарплатной вилки.\n",
        "            Округляем значение до целого*/\n",
        "            round(AVG(v.salary_to))\n",
        "            /*из таблицы VACANCIES, в которой\n",
        "            хранятся данные о вакансиях*/\n",
        "            from public.VACANCIES v\n",
        "            /*при условии, что заполнена\n",
        "            верхняя граница зарплатной вилки*/\n",
        "            where v.salary_to is not Null'''"
      ]
    },
    {
      "cell_type": "code",
      "execution_count": null,
      "id": "pswpAb66ovZZ",
      "metadata": {
        "id": "pswpAb66ovZZ"
      },
      "outputs": [
        {
          "data": {
            "text/html": [
              "<div>\n",
              "<style scoped>\n",
              "    .dataframe tbody tr th:only-of-type {\n",
              "        vertical-align: middle;\n",
              "    }\n",
              "\n",
              "    .dataframe tbody tr th {\n",
              "        vertical-align: top;\n",
              "    }\n",
              "\n",
              "    .dataframe thead th {\n",
              "        text-align: right;\n",
              "    }\n",
              "</style>\n",
              "<table border=\"1\" class=\"dataframe\">\n",
              "  <thead>\n",
              "    <tr style=\"text-align: right;\">\n",
              "      <th></th>\n",
              "      <th>Среднее значение З/П:</th>\n",
              "    </tr>\n",
              "  </thead>\n",
              "  <tbody>\n",
              "    <tr>\n",
              "      <th>0</th>\n",
              "      <td>71065.0</td>\n",
              "    </tr>\n",
              "    <tr>\n",
              "      <th>1</th>\n",
              "      <td>110537.0</td>\n",
              "    </tr>\n",
              "  </tbody>\n",
              "</table>\n",
              "</div>"
            ],
            "text/plain": [
              "   Среднее значение З/П:\n",
              "0                71065.0\n",
              "1               110537.0"
            ]
          },
          "execution_count": 175,
          "metadata": {},
          "output_type": "execute_result"
        }
      ],
      "source": [
        "# РЕЗУЛЬТАТ ЗАПРОСА:\n",
        "\n",
        "# Используем метод read_sql_query, чтобы получить\n",
        "# результаты запроса сразу в виде датафрейма:\n",
        "df = pd.read_sql_query(query_4_3, connection)\n",
        "df"
      ]
    },
    {
      "cell_type": "markdown",
      "id": "f3fdaec9-5fd3-4260-9cf5-1d7406b628a5",
      "metadata": {
        "id": "f3fdaec9-5fd3-4260-9cf5-1d7406b628a5"
      },
      "source": [
        "4. Напишите запрос, который выведет количество вакансий для каждого сочетания типа рабочего графика (schedule) и типа трудоустройства (employment), используемого в вакансиях. Результат отсортируйте по убыванию количества.\n"
      ]
    },
    {
      "cell_type": "code",
      "execution_count": null,
      "id": "1ea710ec-871b-431e-9462-c7d0fd87011b",
      "metadata": {
        "id": "1ea710ec-871b-431e-9462-c7d0fd87011b"
      },
      "outputs": [],
      "source": [
        "# ТЕКСТ ЗАПРОСА:\n",
        "\n",
        "query_4_4 = f'''select /*Выбор*/\n",
        "            /*Выбираем данные \"Тип рабочего графика:\"*/\n",
        "            schedule as \"Тип рабочего графика:\",\n",
        "            /*Выбираем данные \"Тип трудоустройства:\"*/\n",
        "            employment as \"Тип трудоустройства:\",\n",
        "            /*Подсчитываем количество вакансий в базе*/\n",
        "            count(id) as \"Количество вакансий:\"\n",
        "            /*из таблицы VACANCIES, в которой\n",
        "            хранятся данные о вакансиях*/\n",
        "            from public.VACANCIES v\n",
        "            /*Группируем по столбцам:\n",
        "            \"Тип рабочего графика:\" и \"Тип трудоустройства:\"*/\n",
        "            group by 1,2\n",
        "            /*Сортируем по столбцу \"Количество вакансий:\"\n",
        "            в порядке убывания*/\n",
        "            order by 3 desc\n",
        "            /*Ограничение пятью значениями*/\n",
        "            limit 5'''"
      ]
    },
    {
      "cell_type": "code",
      "execution_count": null,
      "id": "lGUVqavdo4JQ",
      "metadata": {
        "id": "lGUVqavdo4JQ"
      },
      "outputs": [
        {
          "data": {
            "text/html": [
              "<div>\n",
              "<style scoped>\n",
              "    .dataframe tbody tr th:only-of-type {\n",
              "        vertical-align: middle;\n",
              "    }\n",
              "\n",
              "    .dataframe tbody tr th {\n",
              "        vertical-align: top;\n",
              "    }\n",
              "\n",
              "    .dataframe thead th {\n",
              "        text-align: right;\n",
              "    }\n",
              "</style>\n",
              "<table border=\"1\" class=\"dataframe\">\n",
              "  <thead>\n",
              "    <tr style=\"text-align: right;\">\n",
              "      <th></th>\n",
              "      <th>Тип рабочего графика:</th>\n",
              "      <th>Тип трудоустройства:</th>\n",
              "      <th>Количество вакансий:</th>\n",
              "    </tr>\n",
              "  </thead>\n",
              "  <tbody>\n",
              "    <tr>\n",
              "      <th>0</th>\n",
              "      <td>Полный день</td>\n",
              "      <td>Полная занятость</td>\n",
              "      <td>35367</td>\n",
              "    </tr>\n",
              "    <tr>\n",
              "      <th>1</th>\n",
              "      <td>Удаленная работа</td>\n",
              "      <td>Полная занятость</td>\n",
              "      <td>7802</td>\n",
              "    </tr>\n",
              "    <tr>\n",
              "      <th>2</th>\n",
              "      <td>Гибкий график</td>\n",
              "      <td>Полная занятость</td>\n",
              "      <td>1593</td>\n",
              "    </tr>\n",
              "    <tr>\n",
              "      <th>3</th>\n",
              "      <td>Удаленная работа</td>\n",
              "      <td>Частичная занятость</td>\n",
              "      <td>1312</td>\n",
              "    </tr>\n",
              "    <tr>\n",
              "      <th>4</th>\n",
              "      <td>Сменный график</td>\n",
              "      <td>Полная занятость</td>\n",
              "      <td>940</td>\n",
              "    </tr>\n",
              "  </tbody>\n",
              "</table>\n",
              "</div>"
            ],
            "text/plain": [
              "  Тип рабочего графика: Тип трудоустройства:  Количество вакансий:\n",
              "0           Полный день     Полная занятость                 35367\n",
              "1      Удаленная работа     Полная занятость                  7802\n",
              "2         Гибкий график     Полная занятость                  1593\n",
              "3      Удаленная работа  Частичная занятость                  1312\n",
              "4        Сменный график     Полная занятость                   940"
            ]
          },
          "execution_count": 177,
          "metadata": {},
          "output_type": "execute_result"
        }
      ],
      "source": [
        "# РЕЗУЛЬТАТ ЗАПРОСА:\n",
        "\n",
        "# Используем метод read_sql_query, чтобы получить\n",
        "# результаты запроса сразу в виде датафрейма:\n",
        "df = pd.read_sql_query(query_4_4, connection)\n",
        "df"
      ]
    },
    {
      "cell_type": "markdown",
      "id": "0136ffee-0ead-4a6b-b608-61d1c753a438",
      "metadata": {
        "id": "0136ffee-0ead-4a6b-b608-61d1c753a438"
      },
      "source": [
        "5. Напишите запрос, выводящий значения поля Требуемый опыт работы (experience) в порядке возрастания количества вакансий, в которых указан данный вариант опыта. "
      ]
    },
    {
      "cell_type": "code",
      "execution_count": null,
      "id": "5b3a8e79-f7ab-4008-b767-12aea3a205ea",
      "metadata": {
        "id": "5b3a8e79-f7ab-4008-b767-12aea3a205ea"
      },
      "outputs": [],
      "source": [
        "# ТЕКСТ ЗАПРОСА:\n",
        "\n",
        "query_4_5 = f'''select /*Выбор*/\n",
        "            /*Выбираем данные \"Требуемый опыт работы\"*/\n",
        "            experience as \"Требуемый опыт работы:\",            \n",
        "            /*Подсчитываем количество вакансий в базе*/\n",
        "            count(id) as \"Количество вакансий:\"\n",
        "            /*из таблицы VACANCIES, в которой\n",
        "            хранятся данные о вакансиях*/\n",
        "            from public.VACANCIES v\n",
        "            /*Группируем по столбцу \"Требуемый опыт работы\"*/\n",
        "            group by 1\n",
        "            /*Сортируем по столбцу \"Количество вакансий:\"\n",
        "            в порядке возрастания*/\n",
        "            order by 2 asc'''"
      ]
    },
    {
      "cell_type": "code",
      "execution_count": null,
      "id": "3Is64Y-hpDpq",
      "metadata": {
        "id": "3Is64Y-hpDpq"
      },
      "outputs": [
        {
          "data": {
            "text/html": [
              "<div>\n",
              "<style scoped>\n",
              "    .dataframe tbody tr th:only-of-type {\n",
              "        vertical-align: middle;\n",
              "    }\n",
              "\n",
              "    .dataframe tbody tr th {\n",
              "        vertical-align: top;\n",
              "    }\n",
              "\n",
              "    .dataframe thead th {\n",
              "        text-align: right;\n",
              "    }\n",
              "</style>\n",
              "<table border=\"1\" class=\"dataframe\">\n",
              "  <thead>\n",
              "    <tr style=\"text-align: right;\">\n",
              "      <th></th>\n",
              "      <th>Требуемый опыт работы:</th>\n",
              "      <th>Количество вакансий:</th>\n",
              "    </tr>\n",
              "  </thead>\n",
              "  <tbody>\n",
              "    <tr>\n",
              "      <th>0</th>\n",
              "      <td>Более 6 лет</td>\n",
              "      <td>1337</td>\n",
              "    </tr>\n",
              "    <tr>\n",
              "      <th>1</th>\n",
              "      <td>Нет опыта</td>\n",
              "      <td>7197</td>\n",
              "    </tr>\n",
              "    <tr>\n",
              "      <th>2</th>\n",
              "      <td>От 3 до 6 лет</td>\n",
              "      <td>14511</td>\n",
              "    </tr>\n",
              "    <tr>\n",
              "      <th>3</th>\n",
              "      <td>От 1 года до 3 лет</td>\n",
              "      <td>26152</td>\n",
              "    </tr>\n",
              "  </tbody>\n",
              "</table>\n",
              "</div>"
            ],
            "text/plain": [
              "  Требуемый опыт работы:  Количество вакансий:\n",
              "0            Более 6 лет                  1337\n",
              "1              Нет опыта                  7197\n",
              "2          От 3 до 6 лет                 14511\n",
              "3     От 1 года до 3 лет                 26152"
            ]
          },
          "execution_count": 179,
          "metadata": {},
          "output_type": "execute_result"
        }
      ],
      "source": [
        "# РЕЗУЛЬТАТ ЗАПРОСА:\n",
        "\n",
        "# Используем метод read_sql_query, чтобы получить\n",
        "# результаты запроса сразу в виде датафрейма:\n",
        "df = pd.read_sql_query(query_4_5, connection)\n",
        "df"
      ]
    },
    {
      "cell_type": "markdown",
      "id": "oq2b7n1QpIka",
      "metadata": {
        "id": "oq2b7n1QpIka"
      },
      "source": [
        "***"
      ]
    },
    {
      "cell_type": "markdown",
      "metadata": {},
      "source": [
        "#### ***Выводы по детальному анализу вакансий:***\n",
        "\n",
        "В результате проведенного детального анализа вакансий видно:\n",
        "\n",
        "- максимальный спрос на трудовые ресурсы в крупных городах-миллионниках;\n",
        "- средний размер зарплатной платы составляет от 70 до 110 тыс. рублей;\n",
        "- максимальное количество вакансий \"полная занятость - полный день\" составляет 35367 ед., что в пять раз выше, чем \"полная занятость - удаленная работа\" - 7802 ед. Работа в офисе предпочтительнее удаленной работы.;\n",
        "- максимальное количество вакансий с опытом работы \"от 1 года до 3 лет\" составляет 26152 ед., что в четыре раза выше, чем \"без опыта работы\" - 7197 ед.\n"
      ]
    },
    {
      "cell_type": "markdown",
      "id": "7ea20ab6-04a7-40a0-adec-443a0e5a42c3",
      "metadata": {
        "id": "7ea20ab6-04a7-40a0-adec-443a0e5a42c3"
      },
      "source": [
        "# Юнит 5. Анализ работодателей"
      ]
    },
    {
      "cell_type": "markdown",
      "id": "968aed80-74ef-4ffb-b5bf-c65b84e9caea",
      "metadata": {
        "id": "968aed80-74ef-4ffb-b5bf-c65b84e9caea"
      },
      "source": [
        "1. Напишите запрос, который позволит узнать, какие работодатели находятся на первом и пятом месте по количеству вакансий."
      ]
    },
    {
      "cell_type": "code",
      "execution_count": null,
      "id": "f2d62796-d400-4ec1-a675-88112739a50e",
      "metadata": {
        "id": "f2d62796-d400-4ec1-a675-88112739a50e"
      },
      "outputs": [],
      "source": [
        "# ТЕКСТ ЗАПРОСА: \n",
        "\n",
        "query_5_1 = f'''select /*Выбор*/\n",
        "            /*Выбираем данные \"Работодатель:\"*/\n",
        "            e.name as \"Работодатель:\",\n",
        "            /*Подсчитываем количество вакансий в базе*/\n",
        "            count(*) as \"Количество вакансий:\"\n",
        "            /*из таблицы EMPLOYERS, в которой\n",
        "            хранятся данные о работодателях*/\n",
        "            from public.EMPLOYERS e\n",
        "            /*Оператор соединения таблиц; таблица  VACANCIES;\n",
        "            условие: v.employer_id таблицы VACANCIES\n",
        "            равен e.id таблицы EMPLOYERS*/\n",
        "            join VACANCIES v on v.employer_id = e.id            \n",
        "            /*Группируем по столбцу \"Работодатель:\"*/\n",
        "            group by 1\n",
        "            /*Сортируем по столбцу \"Количество вакансий:\"\n",
        "            в порядке убывания*/\n",
        "            order by 2 desc\n",
        "            /*Ограничение пятью значениями*/\n",
        "            limit 5'''"
      ]
    },
    {
      "cell_type": "code",
      "execution_count": null,
      "id": "64tOMkAxqkQk",
      "metadata": {
        "id": "64tOMkAxqkQk"
      },
      "outputs": [
        {
          "data": {
            "text/html": [
              "<div>\n",
              "<style scoped>\n",
              "    .dataframe tbody tr th:only-of-type {\n",
              "        vertical-align: middle;\n",
              "    }\n",
              "\n",
              "    .dataframe tbody tr th {\n",
              "        vertical-align: top;\n",
              "    }\n",
              "\n",
              "    .dataframe thead th {\n",
              "        text-align: right;\n",
              "    }\n",
              "</style>\n",
              "<table border=\"1\" class=\"dataframe\">\n",
              "  <thead>\n",
              "    <tr style=\"text-align: right;\">\n",
              "      <th></th>\n",
              "      <th>Работодатель:</th>\n",
              "      <th>Количество вакансий:</th>\n",
              "    </tr>\n",
              "  </thead>\n",
              "  <tbody>\n",
              "    <tr>\n",
              "      <th>0</th>\n",
              "      <td>Яндекс</td>\n",
              "      <td>1933</td>\n",
              "    </tr>\n",
              "    <tr>\n",
              "      <th>1</th>\n",
              "      <td>Ростелеком</td>\n",
              "      <td>491</td>\n",
              "    </tr>\n",
              "    <tr>\n",
              "      <th>2</th>\n",
              "      <td>Тинькофф</td>\n",
              "      <td>444</td>\n",
              "    </tr>\n",
              "    <tr>\n",
              "      <th>3</th>\n",
              "      <td>СБЕР</td>\n",
              "      <td>428</td>\n",
              "    </tr>\n",
              "    <tr>\n",
              "      <th>4</th>\n",
              "      <td>Газпром нефть</td>\n",
              "      <td>331</td>\n",
              "    </tr>\n",
              "  </tbody>\n",
              "</table>\n",
              "</div>"
            ],
            "text/plain": [
              "   Работодатель:  Количество вакансий:\n",
              "0         Яндекс                  1933\n",
              "1     Ростелеком                   491\n",
              "2       Тинькофф                   444\n",
              "3           СБЕР                   428\n",
              "4  Газпром нефть                   331"
            ]
          },
          "execution_count": 181,
          "metadata": {},
          "output_type": "execute_result"
        }
      ],
      "source": [
        "# РЕЗУЛЬТАТ ЗАПРОСА:\n",
        "\n",
        "# Используем метод read_sql_query, чтобы получить\n",
        "# результаты запроса сразу в виде датафрейма:\n",
        "df = pd.read_sql_query(query_5_1, connection)\n",
        "df"
      ]
    },
    {
      "cell_type": "markdown",
      "id": "68377cfc-b378-43dc-ab7d-1195abf2c515",
      "metadata": {
        "id": "68377cfc-b378-43dc-ab7d-1195abf2c515"
      },
      "source": [
        "2. Напишите запрос, который для каждого региона выведет количество работодателей и вакансий в нём.\n",
        "Среди регионов, в которых нет вакансий, найдите тот, в котором наибольшее количество работодателей.\n"
      ]
    },
    {
      "cell_type": "code",
      "execution_count": null,
      "metadata": {},
      "outputs": [],
      "source": [
        "# ТЕКСТ ЗАПРОСА:\n",
        "\n",
        "query_5_2 = f'''select /*Выбор*/\n",
        "            /*Выбираем данные \"Регион:\"*/\n",
        "            a.name as \"Регион:\",\n",
        "            /*Подсчитываем количество работодателей в базе*/\n",
        "            count(distinct e.id) as \"Количество работодателей:\",\n",
        "            /*Подсчитываем количество вакансий в базе*/\n",
        "            count(distinct v.id) as \"Количество вакансий:\"\n",
        "            /*из таблицы AREAS, в которой\n",
        "            хранятся данные о регионах*/\n",
        "            from public.AREAS a            \n",
        "            /*оператор соединения left JOIN; таблица EMPLOYERS;\n",
        "            условие: e.area таблицы EMPLOYERS равен\n",
        "            a.id таблицы AREAS*/            \n",
        "            left join EMPLOYERS e on a.id = e.area\n",
        "            /*оператор соединения left JOIN; таблица VACANCIES;\n",
        "            условие: v.area_id таблицы VACANCIES равен\n",
        "            a.id таблицы AREAS*/\n",
        "            left join VACANCIES v on a.id = v.area_id            \n",
        "            /*при условии, что не заполнен \"Регион:\"*/\n",
        "            where v.area_id is Null            \n",
        "            /*Группируем по столбцу \"Регион:\"*/\n",
        "            group by 1\n",
        "            /*Сортируем по столбцу \"Количество\n",
        "            работодателей:\" в порядке убывания*/\n",
        "            order by 2 desc\n",
        "            /*Ограничение пятью значениями*/\n",
        "            limit 5'''"
      ]
    },
    {
      "cell_type": "code",
      "execution_count": null,
      "id": "x1ikWbydrbf6",
      "metadata": {
        "id": "x1ikWbydrbf6"
      },
      "outputs": [
        {
          "data": {
            "text/html": [
              "<div>\n",
              "<style scoped>\n",
              "    .dataframe tbody tr th:only-of-type {\n",
              "        vertical-align: middle;\n",
              "    }\n",
              "\n",
              "    .dataframe tbody tr th {\n",
              "        vertical-align: top;\n",
              "    }\n",
              "\n",
              "    .dataframe thead th {\n",
              "        text-align: right;\n",
              "    }\n",
              "</style>\n",
              "<table border=\"1\" class=\"dataframe\">\n",
              "  <thead>\n",
              "    <tr style=\"text-align: right;\">\n",
              "      <th></th>\n",
              "      <th>Регион:</th>\n",
              "      <th>Количество работодателей:</th>\n",
              "      <th>Количество вакансий:</th>\n",
              "    </tr>\n",
              "  </thead>\n",
              "  <tbody>\n",
              "    <tr>\n",
              "      <th>0</th>\n",
              "      <td>Россия</td>\n",
              "      <td>410</td>\n",
              "      <td>0</td>\n",
              "    </tr>\n",
              "    <tr>\n",
              "      <th>1</th>\n",
              "      <td>Казахстан</td>\n",
              "      <td>207</td>\n",
              "      <td>0</td>\n",
              "    </tr>\n",
              "    <tr>\n",
              "      <th>2</th>\n",
              "      <td>Московская область</td>\n",
              "      <td>75</td>\n",
              "      <td>0</td>\n",
              "    </tr>\n",
              "    <tr>\n",
              "      <th>3</th>\n",
              "      <td>Краснодарский край</td>\n",
              "      <td>19</td>\n",
              "      <td>0</td>\n",
              "    </tr>\n",
              "    <tr>\n",
              "      <th>4</th>\n",
              "      <td>Беларусь</td>\n",
              "      <td>18</td>\n",
              "      <td>0</td>\n",
              "    </tr>\n",
              "  </tbody>\n",
              "</table>\n",
              "</div>"
            ],
            "text/plain": [
              "              Регион:  Количество работодателей:  Количество вакансий:\n",
              "0              Россия                        410                     0\n",
              "1           Казахстан                        207                     0\n",
              "2  Московская область                         75                     0\n",
              "3  Краснодарский край                         19                     0\n",
              "4            Беларусь                         18                     0"
            ]
          },
          "execution_count": 183,
          "metadata": {},
          "output_type": "execute_result"
        }
      ],
      "source": [
        "# РЕЗУЛЬТАТ ЗАПРОСА:\n",
        "\n",
        "# Используем метод read_sql_query, чтобы получить\n",
        "# результаты запроса сразу в виде датафрейма:\n",
        "df = pd.read_sql_query(query_5_2, connection)\n",
        "df"
      ]
    },
    {
      "cell_type": "markdown",
      "id": "f2fe0acb-ab1a-4e15-9326-2560e22d73c1",
      "metadata": {
        "id": "f2fe0acb-ab1a-4e15-9326-2560e22d73c1"
      },
      "source": [
        "3. Для каждого работодателя посчитайте количество регионов, в которых он публикует свои вакансии. Отсортируйте результат по убыванию количества.\n"
      ]
    },
    {
      "cell_type": "code",
      "execution_count": null,
      "id": "6271f8ad-bd2e-4196-ae4a-5b39c4c1010e",
      "metadata": {
        "id": "6271f8ad-bd2e-4196-ae4a-5b39c4c1010e"
      },
      "outputs": [],
      "source": [
        "# ТЕКСТ ЗАПРОСА: left join VACANCIES v on v.employer_id = e.id\n",
        "\n",
        "query_5_3 = f'''select /*Выбор*/\n",
        "            /*Выбираем данные \"Работодатель:\"*/\n",
        "            e.name as \"Работодатель:\",\n",
        "            /*Подсчитываем количество регионов в базе*/\n",
        "            count(distinct v.area_id) as \"Количество регионов:\",\n",
        "            /*Подсчитываем количество вакансий в базе*/\n",
        "            count(distinct v.id) as \"Количество вакансий:\"            \n",
        "            /*из таблицы EMPLOYERS, в которой\n",
        "            хранятся данные о работодателях*/\n",
        "            from public.EMPLOYERS e\n",
        "            /*Оператор соединения таблиц; таблица  VACANCIES;\n",
        "            условие: v.employer_id таблицы VACANCIES\n",
        "            равен e.id таблицы EMPLOYERS*/                      \n",
        "            join VACANCIES v on v.employer_id = e.id            \n",
        "            /*Группируем по столбцу \"Работодатель:\"*/\n",
        "            group by 1\n",
        "            /*Сортируем по столбцу \"Количество вакансий:\"\n",
        "            в порядке убывания*/\n",
        "            order by 3 desc\n",
        "            /*Ограничение пятью значениями*/\n",
        "            limit 5'''"
      ]
    },
    {
      "cell_type": "code",
      "execution_count": null,
      "id": "1EIvX3HasH4F",
      "metadata": {
        "id": "1EIvX3HasH4F"
      },
      "outputs": [
        {
          "data": {
            "text/html": [
              "<div>\n",
              "<style scoped>\n",
              "    .dataframe tbody tr th:only-of-type {\n",
              "        vertical-align: middle;\n",
              "    }\n",
              "\n",
              "    .dataframe tbody tr th {\n",
              "        vertical-align: top;\n",
              "    }\n",
              "\n",
              "    .dataframe thead th {\n",
              "        text-align: right;\n",
              "    }\n",
              "</style>\n",
              "<table border=\"1\" class=\"dataframe\">\n",
              "  <thead>\n",
              "    <tr style=\"text-align: right;\">\n",
              "      <th></th>\n",
              "      <th>Работодатель:</th>\n",
              "      <th>Количество регионов:</th>\n",
              "      <th>Количество вакансий:</th>\n",
              "    </tr>\n",
              "  </thead>\n",
              "  <tbody>\n",
              "    <tr>\n",
              "      <th>0</th>\n",
              "      <td>Яндекс</td>\n",
              "      <td>181</td>\n",
              "      <td>1933</td>\n",
              "    </tr>\n",
              "    <tr>\n",
              "      <th>1</th>\n",
              "      <td>Ростелеком</td>\n",
              "      <td>152</td>\n",
              "      <td>491</td>\n",
              "    </tr>\n",
              "    <tr>\n",
              "      <th>2</th>\n",
              "      <td>Тинькофф</td>\n",
              "      <td>43</td>\n",
              "      <td>444</td>\n",
              "    </tr>\n",
              "    <tr>\n",
              "      <th>3</th>\n",
              "      <td>СБЕР</td>\n",
              "      <td>24</td>\n",
              "      <td>428</td>\n",
              "    </tr>\n",
              "    <tr>\n",
              "      <th>4</th>\n",
              "      <td>Газпром нефть</td>\n",
              "      <td>24</td>\n",
              "      <td>331</td>\n",
              "    </tr>\n",
              "  </tbody>\n",
              "</table>\n",
              "</div>"
            ],
            "text/plain": [
              "   Работодатель:  Количество регионов:  Количество вакансий:\n",
              "0         Яндекс                   181                  1933\n",
              "1     Ростелеком                   152                   491\n",
              "2       Тинькофф                    43                   444\n",
              "3           СБЕР                    24                   428\n",
              "4  Газпром нефть                    24                   331"
            ]
          },
          "execution_count": 185,
          "metadata": {},
          "output_type": "execute_result"
        }
      ],
      "source": [
        "# РЕЗУЛЬТАТ ЗАПРОСА:\n",
        "\n",
        "# Используем метод read_sql_query, чтобы получить\n",
        "# результаты запроса сразу в виде датафрейма:\n",
        "df = pd.read_sql_query(query_5_3, connection)\n",
        "df"
      ]
    },
    {
      "cell_type": "markdown",
      "id": "eab2206d-d95b-468b-8e5f-34381abf0ce7",
      "metadata": {
        "id": "eab2206d-d95b-468b-8e5f-34381abf0ce7"
      },
      "source": [
        "4. Напишите запрос для подсчёта количества работодателей, у которых не указана сфера деятельности. "
      ]
    },
    {
      "cell_type": "code",
      "execution_count": null,
      "id": "80defb23-bfb1-4a18-8be6-bf36aa7165d5",
      "metadata": {
        "id": "80defb23-bfb1-4a18-8be6-bf36aa7165d5"
      },
      "outputs": [],
      "source": [
        "# ТЕКСТ ЗАПРОСА:\n",
        "\n",
        "query_5_4 = f'''select /*Выбор*/\n",
        "            /*Подсчитываем количество работодателей в базе*/\n",
        "            count(id) as \"Количество работодателей:\"\n",
        "            /*из таблицы EMPLOYERS, в которой\n",
        "            хранятся данные о работодателях*/\n",
        "            from public.EMPLOYERS e\n",
        "            /*оператор соединения left JOIN;\n",
        "            таблица EMPLOYERS_INDUSTRIES; условие:\n",
        "            ei.employer_id таблицы EMPLOYERS_INDUSTRIES\n",
        "            равен e.id таблицы EMPLOYERS*/\n",
        "            left join EMPLOYERS_INDUSTRIES ei on\n",
        "            e.id = ei.employer_id\n",
        "            /*при условии, что не заполнена\n",
        "            \"Сфера деятельности\"*/\n",
        "            where ei.industry_id is Null'''"
      ]
    },
    {
      "cell_type": "code",
      "execution_count": null,
      "id": "Dp_yCx6ysQSu",
      "metadata": {
        "id": "Dp_yCx6ysQSu"
      },
      "outputs": [
        {
          "data": {
            "text/html": [
              "<div>\n",
              "<style scoped>\n",
              "    .dataframe tbody tr th:only-of-type {\n",
              "        vertical-align: middle;\n",
              "    }\n",
              "\n",
              "    .dataframe tbody tr th {\n",
              "        vertical-align: top;\n",
              "    }\n",
              "\n",
              "    .dataframe thead th {\n",
              "        text-align: right;\n",
              "    }\n",
              "</style>\n",
              "<table border=\"1\" class=\"dataframe\">\n",
              "  <thead>\n",
              "    <tr style=\"text-align: right;\">\n",
              "      <th></th>\n",
              "      <th>Количество работодателей:</th>\n",
              "    </tr>\n",
              "  </thead>\n",
              "  <tbody>\n",
              "    <tr>\n",
              "      <th>0</th>\n",
              "      <td>8419</td>\n",
              "    </tr>\n",
              "  </tbody>\n",
              "</table>\n",
              "</div>"
            ],
            "text/plain": [
              "   Количество работодателей:\n",
              "0                       8419"
            ]
          },
          "execution_count": 187,
          "metadata": {},
          "output_type": "execute_result"
        }
      ],
      "source": [
        "# РЕЗУЛЬТАТ ЗАПРОСА:\n",
        "\n",
        "# Используем метод read_sql_query, чтобы получить\n",
        "# результаты запроса сразу в виде датафрейма:\n",
        "df = pd.read_sql_query(query_5_4, connection)\n",
        "df"
      ]
    },
    {
      "cell_type": "markdown",
      "id": "0112af31-f6b0-4e3b-82ab-71296e752e5e",
      "metadata": {
        "id": "0112af31-f6b0-4e3b-82ab-71296e752e5e"
      },
      "source": [
        "5. Напишите запрос, чтобы узнать название компании, находящейся на третьем месте в алфавитном списке (по названию) компаний, у которых указано четыре сферы деятельности. "
      ]
    },
    {
      "cell_type": "code",
      "execution_count": null,
      "id": "973b0cfc-a972-470a-8b4a-68744ef220c4",
      "metadata": {
        "id": "973b0cfc-a972-470a-8b4a-68744ef220c4"
      },
      "outputs": [],
      "source": [
        "# ТЕКСТ ЗАПРОСА: \n",
        "\n",
        "query_5_5 = f'''select /*Выбор*/\n",
        "            /*Выбираем данные \"Работодатель:\"*/\n",
        "            e.name as \"Работодатель:\"\n",
        "            /*из таблицы EMPLOYERS, в которой\n",
        "            хранятся данные о работодателях*/\n",
        "            from public.EMPLOYERS e\n",
        "            /*оператор соединения left JOIN;\n",
        "            таблица EMPLOYERS_INDUSTRIES; условие:\n",
        "            ei.employer_id таблицы EMPLOYERS_INDUSTRIES\n",
        "            равен e.id таблицы EMPLOYERS*/\n",
        "            left join EMPLOYERS_INDUSTRIES\n",
        "            ei on e.id = ei.employer_id\n",
        "            /*Группируем по столбцу \"Работодатель:\"*/\n",
        "            group by 1\n",
        "            /*Оператор фильтрации сгруппированных данных:\n",
        "            выбираем компании, у которых указано\n",
        "            четыре сферы деятельности*/\n",
        "            having count(ei.industry_id) = 4\n",
        "            /*Сортируем по столбцу \"Работодатель:\"\n",
        "            в порядке возрастания*/\n",
        "            order by 1 asc\n",
        "            /*Ограничение значений*/\n",
        "            offset 2 limit 1'''"
      ]
    },
    {
      "cell_type": "code",
      "execution_count": null,
      "id": "xsPtpp8EsaED",
      "metadata": {
        "id": "xsPtpp8EsaED"
      },
      "outputs": [
        {
          "data": {
            "text/html": [
              "<div>\n",
              "<style scoped>\n",
              "    .dataframe tbody tr th:only-of-type {\n",
              "        vertical-align: middle;\n",
              "    }\n",
              "\n",
              "    .dataframe tbody tr th {\n",
              "        vertical-align: top;\n",
              "    }\n",
              "\n",
              "    .dataframe thead th {\n",
              "        text-align: right;\n",
              "    }\n",
              "</style>\n",
              "<table border=\"1\" class=\"dataframe\">\n",
              "  <thead>\n",
              "    <tr style=\"text-align: right;\">\n",
              "      <th></th>\n",
              "      <th>Работодатель:</th>\n",
              "    </tr>\n",
              "  </thead>\n",
              "  <tbody>\n",
              "    <tr>\n",
              "      <th>0</th>\n",
              "      <td>2ГИС</td>\n",
              "    </tr>\n",
              "  </tbody>\n",
              "</table>\n",
              "</div>"
            ],
            "text/plain": [
              "  Работодатель:\n",
              "0          2ГИС"
            ]
          },
          "execution_count": 189,
          "metadata": {},
          "output_type": "execute_result"
        }
      ],
      "source": [
        "# РЕЗУЛЬТАТ ЗАПРОСА:\n",
        "\n",
        "# Используем метод read_sql_query, чтобы получить\n",
        "# результаты запроса сразу в виде датафрейма:\n",
        "df = pd.read_sql_query(query_5_5, connection)\n",
        "df"
      ]
    },
    {
      "cell_type": "markdown",
      "id": "3bfcfdaf-755d-4d2b-8ed8-326201dc07ab",
      "metadata": {
        "id": "3bfcfdaf-755d-4d2b-8ed8-326201dc07ab"
      },
      "source": [
        "6. С помощью запроса выясните, у какого количества работодателей в качестве сферы деятельности указана Разработка программного обеспечения.\n"
      ]
    },
    {
      "cell_type": "code",
      "execution_count": null,
      "id": "ad3f270f-2991-47eb-929b-e8f88a55b0d1",
      "metadata": {
        "id": "ad3f270f-2991-47eb-929b-e8f88a55b0d1"
      },
      "outputs": [],
      "source": [
        "# ТЕКСТ ЗАПРОСА:\n",
        "\n",
        "query_5_6 = f'''select /*Выбор*/\n",
        "            /*Подсчитываем количество работодателей в базе*/\n",
        "            count(*) as \"Количество работодателей:\"\n",
        "            /*из таблицы EMPLOYERS, в которой\n",
        "            хранятся данные о работодателях*/\n",
        "            from public.EMPLOYERS e            \n",
        "            /*оператор соединения left JOIN;\n",
        "            таблица EMPLOYERS_INDUSTRIES; условие:\n",
        "            ei.employer_id таблицы EMPLOYERS_INDUSTRIES\n",
        "            равен e.id таблицы EMPLOYERS*/\n",
        "            left join EMPLOYERS_INDUSTRIES ei\n",
        "            on e.id = ei.employer_id            \n",
        "            /*оператор соединения left JOIN;\n",
        "            таблица INDUSTRIES; условие:\n",
        "            i.id таблицы INDUSTRIES равен\n",
        "            ei.industry_id таблицы EMPLOYERS_INDUSTRIES*/            \n",
        "            left join INDUSTRIES i on i.id = ei.industry_id\n",
        "            /*при условии, что в сфере деятельности\n",
        "            работодателя указана:\n",
        "            \"Разработка программного обеспечения\"*/\n",
        "            where i.name = 'Разработка программного обеспечения'\n",
        "            '''"
      ]
    },
    {
      "cell_type": "code",
      "execution_count": null,
      "id": "H72qxWM0shPR",
      "metadata": {
        "id": "H72qxWM0shPR"
      },
      "outputs": [
        {
          "data": {
            "text/html": [
              "<div>\n",
              "<style scoped>\n",
              "    .dataframe tbody tr th:only-of-type {\n",
              "        vertical-align: middle;\n",
              "    }\n",
              "\n",
              "    .dataframe tbody tr th {\n",
              "        vertical-align: top;\n",
              "    }\n",
              "\n",
              "    .dataframe thead th {\n",
              "        text-align: right;\n",
              "    }\n",
              "</style>\n",
              "<table border=\"1\" class=\"dataframe\">\n",
              "  <thead>\n",
              "    <tr style=\"text-align: right;\">\n",
              "      <th></th>\n",
              "      <th>Количество работодателей:</th>\n",
              "    </tr>\n",
              "  </thead>\n",
              "  <tbody>\n",
              "    <tr>\n",
              "      <th>0</th>\n",
              "      <td>3553</td>\n",
              "    </tr>\n",
              "  </tbody>\n",
              "</table>\n",
              "</div>"
            ],
            "text/plain": [
              "   Количество работодателей:\n",
              "0                       3553"
            ]
          },
          "execution_count": 191,
          "metadata": {},
          "output_type": "execute_result"
        }
      ],
      "source": [
        "# РЕЗУЛЬТАТ ЗАПРОСА:\n",
        "\n",
        "# Используем метод read_sql_query, чтобы получить\n",
        "# результаты запроса сразу в виде датафрейма:\n",
        "df = pd.read_sql_query(query_5_6, connection)\n",
        "df"
      ]
    },
    {
      "cell_type": "markdown",
      "id": "7b02bb86-0546-40fb-94a4-242f050a5c57",
      "metadata": {
        "id": "7b02bb86-0546-40fb-94a4-242f050a5c57"
      },
      "source": [
        "7. Для компании «Яндекс» выведите список регионов-миллионников, в которых представлены вакансии компании, вместе с количеством вакансий в этих регионах. Также добавьте строку Total с общим количеством вакансий компании. Результат отсортируйте по возрастанию количества.\n",
        "\n",
        "Список городов-милионников надо взять [отсюда](https://ru.wikipedia.org/wiki/%D0%93%D0%BE%D1%80%D0%BE%D0%B4%D0%B0-%D0%BC%D0%B8%D0%BB%D0%BB%D0%B8%D0%BE%D0%BD%D0%B5%D1%80%D1%8B_%D0%A0%D0%BE%D1%81%D1%81%D0%B8%D0%B8). \n",
        "\n",
        "Если возникнут трудности с этим задание посмотрите материалы модуля  PYTHON-17. Как получать данные из веб-источников и API. "
      ]
    },
    {
      "cell_type": "code",
      "execution_count": null,
      "metadata": {},
      "outputs": [
        {
          "name": "stdout",
          "output_type": "stream",
          "text": [
            "Города-миллионеры России — Википедия \n",
            "\n",
            "('Москва', 'Санкт-Петербург', 'Новосибирск', 'Екатеринбург', 'Казань', 'Красноярск', 'Нижний Новгород', 'Челябинск', 'Уфа', 'Самара', 'Ростов-на-Дону', 'Краснодар', 'Омск', 'Воронеж', 'Пермь', 'Волгоград')\n"
          ]
        }
      ],
      "source": [
        "# Код для получения списка городов-милионников:\n",
        "\n",
        "# Импортируем библиотеку requests:\n",
        "import requests\n",
        "\n",
        "# Импортируем библиотеку BeautifulSoup:\n",
        "from bs4 import BeautifulSoup\n",
        "\n",
        "# Определяем значение URL страницы для запроса:\n",
        "url = \"https://ru.wikipedia.org/wiki/Города-миллионеры_России\"\n",
        "# Делаем GET-запрос к ресурсу и результат ответа\n",
        "# сохраняем в переменной response:\n",
        "response = requests.get(url)\n",
        "\n",
        "# Создаём объект BeautifulSoup, указывая html-парсер:\n",
        "page = BeautifulSoup(response.text, \"html.parser\")\n",
        "# Выводим заголовок html-страницы:\n",
        "print(page.title.text, \"\\n\")\n",
        "tabl = page.find(\"table\", class_=\"standard\")\n",
        "# Создаем путой список городов-милионников:\n",
        "city = []\n",
        "# В таблице выбираем тело таблицы:\n",
        "tt = tabl.find(\"tbody\")\n",
        "# В теле таблицы выбираем все ряды:\n",
        "qq = tt.find_all(\"tr\")\n",
        "\n",
        "for ss in qq:\n",
        "    # В каждом ряде находим тег \"а\", преобразуем его в список:\n",
        "    qqq = list(ss.find(\"a\"))\n",
        "    # Добавляем содержимое к списку городов:\n",
        "    city.append(qqq[0])\n",
        "# В первом ряду кусок от названия, отсекаем его:\n",
        "city = tuple(city[1:])\n",
        "\n",
        "# Выводим на экран список городов-милионников:\n",
        "print(city)"
      ]
    },
    {
      "cell_type": "code",
      "execution_count": null,
      "id": "5a0e32a4-e68a-4365-8a39-2fe24c542c36",
      "metadata": {
        "id": "5a0e32a4-e68a-4365-8a39-2fe24c542c36"
      },
      "outputs": [],
      "source": [
        "# ТЕКСТ ЗАПРОСА:\n",
        "\n",
        "query_5_7 = f'''select /*Выбор*/\n",
        "            /*Выбираем данные о регионах*/\n",
        "            a.name as \"Регион:\",\n",
        "            /*Подсчитываем количество вакансий «Яндекс»*/\n",
        "            count(*) as \"Количество вакансий «Яндекс»:\"\n",
        "            /*из таблицы EMPLOYERS, в которой\n",
        "            хранятся данные о работодателях*/\n",
        "            from public.EMPLOYERS e            \n",
        "            /*Оператор соединения таблиц; таблица  VACANCIES;\n",
        "            условие: v.employer_id таблицы VACANCIES\n",
        "            равен e.id таблицы EMPLOYERS*/\n",
        "            join VACANCIES v on v.employer_id = e.id\n",
        "            /*Оператор соединения таблиц; таблица AREAS;\n",
        "            условие: a.id таблицы AREAS\n",
        "            равен v.area_id таблицы VACANCIES*/\n",
        "            join AREAS a on a.id = v.area_id\n",
        "            /*Условие - компания «Яндекс»,\n",
        "            список регионов-миллионников*/\n",
        "            where e.name = 'Яндекс' and a.name in {city}\n",
        "            /*Группируем по столбцу a.id*/\n",
        "            group by a.id            \n",
        "            /*Оператор присоединения*/\n",
        "            union all\n",
        "            /*Добавяем строку Total с общим количеством\n",
        "            вакансий компании 'Яндекс'*/\n",
        "            select 'Total',\n",
        "            sum(x.cnt)\n",
        "            from\n",
        "            (\n",
        "            select\n",
        "            count(*) as cnt\n",
        "            /*из таблицы VACANCIES, в которой\n",
        "            хранятся данные о вакансиях*/\n",
        "            from public.VACANCIES v\n",
        "            /*оператор соединения JOIN; таблица EMPLOYERS;\n",
        "            условие: e.id таблицы EMPLOYERS равен\n",
        "            v.employer_id таблицы VACANCIES*/\n",
        "            join EMPLOYERS e on v.employer_id = e.id\n",
        "            /*оператор соединения JOIN; таблица AREAS;\n",
        "            условие: a.id таблицы AREAS равен\n",
        "            v.area_id таблицы VACANCIES*/\n",
        "            join AREAS a on a.id = v.area_id\n",
        "            /*Группируем по столбцам:\n",
        "            e.id, v.area_id, a.name, e.name*/\n",
        "            group by e.id, v.area_id, a.name, e.name\n",
        "            /*Оператор фильтрации сгруппированных данных:\n",
        "            компания «Яндекс», список регионов-миллионников**/\n",
        "            having e.name = 'Яндекс' and a.name in {city}\n",
        "            ) as x\n",
        "            /*Сортируем по столбцу \"Количество вакансий:\"\n",
        "            в порядке возрастания*/\n",
        "            order by 2 asc'''"
      ]
    },
    {
      "cell_type": "code",
      "execution_count": null,
      "id": "ttPhiO1rsvPq",
      "metadata": {
        "id": "ttPhiO1rsvPq"
      },
      "outputs": [
        {
          "data": {
            "text/html": [
              "<div>\n",
              "<style scoped>\n",
              "    .dataframe tbody tr th:only-of-type {\n",
              "        vertical-align: middle;\n",
              "    }\n",
              "\n",
              "    .dataframe tbody tr th {\n",
              "        vertical-align: top;\n",
              "    }\n",
              "\n",
              "    .dataframe thead th {\n",
              "        text-align: right;\n",
              "    }\n",
              "</style>\n",
              "<table border=\"1\" class=\"dataframe\">\n",
              "  <thead>\n",
              "    <tr style=\"text-align: right;\">\n",
              "      <th></th>\n",
              "      <th>Регион:</th>\n",
              "      <th>Количество вакансий «Яндекс»:</th>\n",
              "    </tr>\n",
              "  </thead>\n",
              "  <tbody>\n",
              "    <tr>\n",
              "      <th>0</th>\n",
              "      <td>Омск</td>\n",
              "      <td>21.0</td>\n",
              "    </tr>\n",
              "    <tr>\n",
              "      <th>1</th>\n",
              "      <td>Челябинск</td>\n",
              "      <td>22.0</td>\n",
              "    </tr>\n",
              "    <tr>\n",
              "      <th>2</th>\n",
              "      <td>Красноярск</td>\n",
              "      <td>23.0</td>\n",
              "    </tr>\n",
              "    <tr>\n",
              "      <th>3</th>\n",
              "      <td>Волгоград</td>\n",
              "      <td>24.0</td>\n",
              "    </tr>\n",
              "    <tr>\n",
              "      <th>4</th>\n",
              "      <td>Ростов-на-Дону</td>\n",
              "      <td>25.0</td>\n",
              "    </tr>\n",
              "    <tr>\n",
              "      <th>5</th>\n",
              "      <td>Казань</td>\n",
              "      <td>25.0</td>\n",
              "    </tr>\n",
              "    <tr>\n",
              "      <th>6</th>\n",
              "      <td>Пермь</td>\n",
              "      <td>25.0</td>\n",
              "    </tr>\n",
              "    <tr>\n",
              "      <th>7</th>\n",
              "      <td>Уфа</td>\n",
              "      <td>26.0</td>\n",
              "    </tr>\n",
              "    <tr>\n",
              "      <th>8</th>\n",
              "      <td>Самара</td>\n",
              "      <td>26.0</td>\n",
              "    </tr>\n",
              "    <tr>\n",
              "      <th>9</th>\n",
              "      <td>Краснодар</td>\n",
              "      <td>30.0</td>\n",
              "    </tr>\n",
              "    <tr>\n",
              "      <th>10</th>\n",
              "      <td>Воронеж</td>\n",
              "      <td>32.0</td>\n",
              "    </tr>\n",
              "    <tr>\n",
              "      <th>11</th>\n",
              "      <td>Новосибирск</td>\n",
              "      <td>35.0</td>\n",
              "    </tr>\n",
              "    <tr>\n",
              "      <th>12</th>\n",
              "      <td>Нижний Новгород</td>\n",
              "      <td>36.0</td>\n",
              "    </tr>\n",
              "    <tr>\n",
              "      <th>13</th>\n",
              "      <td>Екатеринбург</td>\n",
              "      <td>39.0</td>\n",
              "    </tr>\n",
              "    <tr>\n",
              "      <th>14</th>\n",
              "      <td>Санкт-Петербург</td>\n",
              "      <td>42.0</td>\n",
              "    </tr>\n",
              "    <tr>\n",
              "      <th>15</th>\n",
              "      <td>Москва</td>\n",
              "      <td>54.0</td>\n",
              "    </tr>\n",
              "    <tr>\n",
              "      <th>16</th>\n",
              "      <td>Total</td>\n",
              "      <td>485.0</td>\n",
              "    </tr>\n",
              "  </tbody>\n",
              "</table>\n",
              "</div>"
            ],
            "text/plain": [
              "            Регион:  Количество вакансий «Яндекс»:\n",
              "0              Омск                           21.0\n",
              "1         Челябинск                           22.0\n",
              "2        Красноярск                           23.0\n",
              "3         Волгоград                           24.0\n",
              "4    Ростов-на-Дону                           25.0\n",
              "5            Казань                           25.0\n",
              "6             Пермь                           25.0\n",
              "7               Уфа                           26.0\n",
              "8            Самара                           26.0\n",
              "9         Краснодар                           30.0\n",
              "10          Воронеж                           32.0\n",
              "11      Новосибирск                           35.0\n",
              "12  Нижний Новгород                           36.0\n",
              "13     Екатеринбург                           39.0\n",
              "14  Санкт-Петербург                           42.0\n",
              "15           Москва                           54.0\n",
              "16            Total                          485.0"
            ]
          },
          "execution_count": 194,
          "metadata": {},
          "output_type": "execute_result"
        }
      ],
      "source": [
        "# РЕЗУЛЬТАТ ЗАПРОСА:\n",
        "\n",
        "# Используем метод read_sql_query, чтобы получить\n",
        "# результаты запроса сразу в виде датафрейма:\n",
        "df = pd.read_sql_query(query_5_7, connection)\n",
        "df"
      ]
    },
    {
      "cell_type": "markdown",
      "id": "04966e40-3bc3-4dc8-9ba2-e80580ce3abc",
      "metadata": {
        "id": "04966e40-3bc3-4dc8-9ba2-e80580ce3abc"
      },
      "source": [
        "***"
      ]
    },
    {
      "cell_type": "markdown",
      "metadata": {},
      "source": [
        "#### ***Выводы по анализу работодателей:***\n",
        "\n",
        "В результате проведенного детального анализа работодателей видно: \n",
        "\n",
        "- максимальное количество вакансий предлагает компания \"Яндекс\";  \n",
        "- компания \"Яндекс\" публикует свои вакансии в 181 регионе;  \n",
        "- количество вакансий компании «Яндекс» в городах-миллионниках составляет 485 ед.: Москва - 54 ед., Санкт-Петербург - 42 ед., Екатеринбург - 39 ед.;  \n",
        "- в России наибольшее количество работодателей у которых нет вакансий;  \n",
        "- количество работодателей, у которых не указана сфера деятельности составляет 8419 ед.  \n",
        "- 3553 работодателей в качестве сферы деятельности указали \"Разработка программного обеспечения\";  \n",
        "- компания \"2ГИС\" находится на третьем месте, у которой указано четыре сферы деятельности."
      ]
    },
    {
      "cell_type": "markdown",
      "id": "b1ef156a-efcb-49ce-bb23-90763e7f35b2",
      "metadata": {
        "id": "b1ef156a-efcb-49ce-bb23-90763e7f35b2",
        "tags": []
      },
      "source": [
        "# Юнит 6. Предметный анализ"
      ]
    },
    {
      "cell_type": "markdown",
      "id": "b9cd50a0-992d-4988-8463-2b2b1c4629b4",
      "metadata": {
        "id": "b9cd50a0-992d-4988-8463-2b2b1c4629b4"
      },
      "source": [
        "1. Сколько вакансий имеет отношение к данным?\n",
        "\n",
        "Считаем, что вакансия имеет отношение к данным, если в её названии содержатся слова 'data' или 'данн'.\n",
        "\n",
        "*Подсказка: Обратите внимание, что названия вакансий могут быть написаны в любом регистре.* \n"
      ]
    },
    {
      "cell_type": "code",
      "execution_count": null,
      "metadata": {},
      "outputs": [],
      "source": [
        "# ТЕКСТ ЗАПРОСА:\n",
        "\n",
        "query_6_1 = f'''select /*Выбор*/\n",
        "            /*Подсчитываем количество вакансий в базе*/\n",
        "            count(id) as \"Количество вакансий:\"\n",
        "            /*из таблицы VACANCIES, в которой\n",
        "            хранятся данные о вакансиях*/\n",
        "            from public.VACANCIES v\n",
        "            /*при условии, что вакансия имеет отношение к данным,\n",
        "            если в её названии содержатся слова 'data' или 'данн'*/\n",
        "            where v.name ILIKE '%data%' or v.name ILIKE '%данн%'\n",
        "            '''"
      ]
    },
    {
      "cell_type": "code",
      "execution_count": null,
      "id": "9F1meAqsuUjd",
      "metadata": {
        "id": "9F1meAqsuUjd"
      },
      "outputs": [
        {
          "data": {
            "text/html": [
              "<div>\n",
              "<style scoped>\n",
              "    .dataframe tbody tr th:only-of-type {\n",
              "        vertical-align: middle;\n",
              "    }\n",
              "\n",
              "    .dataframe tbody tr th {\n",
              "        vertical-align: top;\n",
              "    }\n",
              "\n",
              "    .dataframe thead th {\n",
              "        text-align: right;\n",
              "    }\n",
              "</style>\n",
              "<table border=\"1\" class=\"dataframe\">\n",
              "  <thead>\n",
              "    <tr style=\"text-align: right;\">\n",
              "      <th></th>\n",
              "      <th>Количество вакансий:</th>\n",
              "    </tr>\n",
              "  </thead>\n",
              "  <tbody>\n",
              "    <tr>\n",
              "      <th>0</th>\n",
              "      <td>1771</td>\n",
              "    </tr>\n",
              "  </tbody>\n",
              "</table>\n",
              "</div>"
            ],
            "text/plain": [
              "   Количество вакансий:\n",
              "0                  1771"
            ]
          },
          "execution_count": 196,
          "metadata": {},
          "output_type": "execute_result"
        }
      ],
      "source": [
        "# РЕЗУЛЬТАТ ЗАПРОСА:\n",
        "\n",
        "# Используем метод read_sql_query, чтобы получить\n",
        "# результаты запроса сразу в виде датафрейма:\n",
        "df = pd.read_sql_query(query_6_1, connection)\n",
        "df"
      ]
    },
    {
      "cell_type": "markdown",
      "id": "4dea20cb-a36b-474a-a0b9-e08e8e3857a5",
      "metadata": {
        "id": "4dea20cb-a36b-474a-a0b9-e08e8e3857a5"
      },
      "source": [
        "2. Сколько есть подходящих вакансий для начинающего дата-сайентиста? \n",
        "Будем считать вакансиями для дата-сайентистов такие, в названии которых есть хотя бы одно из следующих сочетаний:\n",
        "* 'data scientist'\n",
        "* 'data science'\n",
        "* 'исследователь данных'\n",
        "* 'ML' (здесь не нужно брать вакансии по HTML)\n",
        "* 'machine learning'\n",
        "* 'машинн%обучен%'\n",
        "\n",
        "** В следующих заданиях мы продолжим работать с вакансиями по этому условию.*\n",
        "\n",
        "Считаем вакансиями для специалистов уровня Junior следующие:\n",
        "* в названии есть слово 'junior' *или*\n",
        "* требуемый опыт — Нет опыта *или*\n",
        "* тип трудоустройства — Стажировка.\n",
        " "
      ]
    },
    {
      "cell_type": "code",
      "execution_count": null,
      "id": "9c61b3c0-bb66-46c9-ae1e-81d3f5752b4a",
      "metadata": {
        "id": "9c61b3c0-bb66-46c9-ae1e-81d3f5752b4a"
      },
      "outputs": [],
      "source": [
        "# ТЕКСТ ЗАПРОСА:\n",
        "\n",
        "query_6_2 = f'''select /*Выбор*/\n",
        "            /*Подсчитываем количество вакансий в базе*/\n",
        "            count(id) as \"Количество вакансий:\"\n",
        "            /*из таблицы VACANCIES, в которой\n",
        "            хранятся данные о вакансиях*/\n",
        "            from public.VACANCIES v\n",
        "            /*Условие выбора подходящих вакансий\n",
        "            для начинающего дата-сайентиста*/            \n",
        "            where (v.name ILIKE '%data scientist%' \n",
        "                or v.name ILIKE '%data science%' \n",
        "                or v.name ILIKE '%исследователь данных%' \n",
        "                or v.name LIKE '%ML%' and v.name NOT LIKE '%HTML%' \n",
        "                or v.name ILIKE '%machine learning%' \n",
        "                or v.name ILIKE '%машинн%обучен%') \n",
        "                and(v.name ILIKE '%junior%'\n",
        "                or lower(v.experience) = 'нет опыта'\n",
        "                or lower(v.employment) = 'стажировка')\n",
        "            '''"
      ]
    },
    {
      "cell_type": "code",
      "execution_count": null,
      "id": "ZNM-LLYuu1dj",
      "metadata": {
        "id": "ZNM-LLYuu1dj"
      },
      "outputs": [
        {
          "data": {
            "text/html": [
              "<div>\n",
              "<style scoped>\n",
              "    .dataframe tbody tr th:only-of-type {\n",
              "        vertical-align: middle;\n",
              "    }\n",
              "\n",
              "    .dataframe tbody tr th {\n",
              "        vertical-align: top;\n",
              "    }\n",
              "\n",
              "    .dataframe thead th {\n",
              "        text-align: right;\n",
              "    }\n",
              "</style>\n",
              "<table border=\"1\" class=\"dataframe\">\n",
              "  <thead>\n",
              "    <tr style=\"text-align: right;\">\n",
              "      <th></th>\n",
              "      <th>Количество вакансий:</th>\n",
              "    </tr>\n",
              "  </thead>\n",
              "  <tbody>\n",
              "    <tr>\n",
              "      <th>0</th>\n",
              "      <td>51</td>\n",
              "    </tr>\n",
              "  </tbody>\n",
              "</table>\n",
              "</div>"
            ],
            "text/plain": [
              "   Количество вакансий:\n",
              "0                    51"
            ]
          },
          "execution_count": 198,
          "metadata": {},
          "output_type": "execute_result"
        }
      ],
      "source": [
        "# РЕЗУЛЬТАТ ЗАПРОСА:\n",
        "\n",
        "# Используем метод read_sql_query, чтобы получить\n",
        "# результаты запроса сразу в виде датафрейма:\n",
        "df = pd.read_sql_query(query_6_2, connection)\n",
        "df"
      ]
    },
    {
      "cell_type": "markdown",
      "id": "eedceb80-c5ca-480e-b27a-278dfb8b4438",
      "metadata": {
        "id": "eedceb80-c5ca-480e-b27a-278dfb8b4438"
      },
      "source": [
        "3. Сколько есть вакансий для DS, в которых в качестве ключевого навыка указан SQL или postgres?\n",
        "\n",
        "** Критерии для отнесения вакансии к DS указаны в предыдущем задании.*"
      ]
    },
    {
      "cell_type": "code",
      "execution_count": null,
      "metadata": {},
      "outputs": [],
      "source": [
        "# ТЕКСТ ЗАПРОСА:\n",
        "\n",
        "query_6_3 = f'''select /*Выбор*/\n",
        "            /*Подсчитываем количество вакансий в базе*/\n",
        "            count(id) as \"Количество вакансий:\"\n",
        "            /*из таблицы VACANCIES, в которой\n",
        "            хранятся данные о вакансиях*/\n",
        "            from public.VACANCIES v\n",
        "            /*Условие выбора подходящих вакансий\n",
        "            для начинающего дата-сайентиста*/          \n",
        "            where (v.name ILIKE '%data scientist%' \n",
        "                or v.name ILIKE '%data science%' \n",
        "                or v.name ILIKE '%исследователь данных%' \n",
        "                or v.name ILIKE '%ML%' and v.name NOT LIKE '%HTML%'\n",
        "                and v.name NOT LIKE '%QML%' \n",
        "                or v.name ILIKE '%machine learning%' \n",
        "                or v.name ILIKE '%машинн%обучен%') \n",
        "                and (lower(v.key_skills) LIKE '%postgres%'\n",
        "                or lower(v.key_skills) LIKE '%sql%')\n",
        "            '''"
      ]
    },
    {
      "cell_type": "code",
      "execution_count": null,
      "id": "alA8WEAAvGdf",
      "metadata": {
        "id": "alA8WEAAvGdf"
      },
      "outputs": [
        {
          "data": {
            "text/html": [
              "<div>\n",
              "<style scoped>\n",
              "    .dataframe tbody tr th:only-of-type {\n",
              "        vertical-align: middle;\n",
              "    }\n",
              "\n",
              "    .dataframe tbody tr th {\n",
              "        vertical-align: top;\n",
              "    }\n",
              "\n",
              "    .dataframe thead th {\n",
              "        text-align: right;\n",
              "    }\n",
              "</style>\n",
              "<table border=\"1\" class=\"dataframe\">\n",
              "  <thead>\n",
              "    <tr style=\"text-align: right;\">\n",
              "      <th></th>\n",
              "      <th>Количество вакансий:</th>\n",
              "    </tr>\n",
              "  </thead>\n",
              "  <tbody>\n",
              "    <tr>\n",
              "      <th>0</th>\n",
              "      <td>229</td>\n",
              "    </tr>\n",
              "  </tbody>\n",
              "</table>\n",
              "</div>"
            ],
            "text/plain": [
              "   Количество вакансий:\n",
              "0                   229"
            ]
          },
          "execution_count": 200,
          "metadata": {},
          "output_type": "execute_result"
        }
      ],
      "source": [
        "# РЕЗУЛЬТАТ ЗАПРОСА:\n",
        "\n",
        "# Используем метод read_sql_query, чтобы получить\n",
        "# результаты запроса сразу в виде датафрейма:\n",
        "df = pd.read_sql_query(query_6_3, connection)\n",
        "df"
      ]
    },
    {
      "cell_type": "markdown",
      "id": "1be1e9c6-37cf-4a5f-bfeb-04cab799dc80",
      "metadata": {
        "id": "1be1e9c6-37cf-4a5f-bfeb-04cab799dc80"
      },
      "source": [
        "4. Проверьте, насколько популярен Python в требованиях работодателей к DS.Для этого вычислите количество вакансий, в которых в качестве ключевого навыка указан Python.\n",
        "\n",
        "** Это можно сделать помощью запроса, аналогичного предыдущему.*"
      ]
    },
    {
      "cell_type": "code",
      "execution_count": null,
      "id": "0036a355-9ccf-4564-8b01-73d8194297e7",
      "metadata": {
        "id": "0036a355-9ccf-4564-8b01-73d8194297e7"
      },
      "outputs": [],
      "source": [
        "# ТЕКСТ ЗАПРОСА:\n",
        "\n",
        "query_6_4 = f'''select /*Выбор*/\n",
        "            /*Подсчитываем количество вакансий в базе*/\n",
        "            count(id) as \"Количество вакансий:\"\n",
        "            /*из таблицы VACANCIES, в которой\n",
        "            хранятся данные о вакансиях*/\n",
        "            from public.VACANCIES v\n",
        "            /*Условие выбора подходящих вакансий\n",
        "            для начинающего дата-сайентиста*/            \n",
        "            where (v.name ILIKE '%data scientist%' \n",
        "                or v.name ILIKE '%data science%' \n",
        "                or v.name ILIKE '%исследователь данных%' \n",
        "                or v.name ILIKE '%ML%' and v.name NOT LIKE '%HTML%'\n",
        "                and v.name NOT LIKE '%QML%' \n",
        "                or v.name ILIKE '%machine learning%' \n",
        "                or v.name ILIKE '%машинн%обучен%') \n",
        "                and v.key_skills ILIKE '%Python%'\n",
        "            '''"
      ]
    },
    {
      "cell_type": "code",
      "execution_count": null,
      "id": "1i-5WyucvQ6v",
      "metadata": {
        "id": "1i-5WyucvQ6v"
      },
      "outputs": [
        {
          "data": {
            "text/html": [
              "<div>\n",
              "<style scoped>\n",
              "    .dataframe tbody tr th:only-of-type {\n",
              "        vertical-align: middle;\n",
              "    }\n",
              "\n",
              "    .dataframe tbody tr th {\n",
              "        vertical-align: top;\n",
              "    }\n",
              "\n",
              "    .dataframe thead th {\n",
              "        text-align: right;\n",
              "    }\n",
              "</style>\n",
              "<table border=\"1\" class=\"dataframe\">\n",
              "  <thead>\n",
              "    <tr style=\"text-align: right;\">\n",
              "      <th></th>\n",
              "      <th>Количество вакансий:</th>\n",
              "    </tr>\n",
              "  </thead>\n",
              "  <tbody>\n",
              "    <tr>\n",
              "      <th>0</th>\n",
              "      <td>357</td>\n",
              "    </tr>\n",
              "  </tbody>\n",
              "</table>\n",
              "</div>"
            ],
            "text/plain": [
              "   Количество вакансий:\n",
              "0                   357"
            ]
          },
          "execution_count": 202,
          "metadata": {},
          "output_type": "execute_result"
        }
      ],
      "source": [
        "# РЕЗУЛЬТАТ ЗАПРОСА:\n",
        "\n",
        "# Используем метод read_sql_query, чтобы получить\n",
        "# результаты запроса сразу в виде датафрейма:\n",
        "df = pd.read_sql_query(query_6_4, connection)\n",
        "df"
      ]
    },
    {
      "cell_type": "markdown",
      "id": "ec3c8db7-fa21-4a41-a994-1af63742a642",
      "metadata": {
        "id": "ec3c8db7-fa21-4a41-a994-1af63742a642"
      },
      "source": [
        "5. Сколько ключевых навыков в среднем указывают в вакансиях для DS?\n",
        "Ответ округлите до двух знаков после точки-разделителя."
      ]
    },
    {
      "cell_type": "code",
      "execution_count": null,
      "id": "949132bc-d5b6-4611-8218-0b9a504d74f4",
      "metadata": {
        "id": "949132bc-d5b6-4611-8218-0b9a504d74f4"
      },
      "outputs": [],
      "source": [
        "# ТЕКСТ ЗАПРОСА:\n",
        "\n",
        "query_6_5 = f'''select /*Выбор*/\n",
        "            /*Подсчитываем количество ключевых навыков*/            \n",
        "            round(avg(length(key_skills) -\n",
        "            length(replace(key_skills,CHR(9),''))+1),2)\n",
        "            as \"Среднее количество навыков:\"\n",
        "            /*из таблицы VACANCIES, в которой\n",
        "            хранятся данные о вакансиях*/\n",
        "            from public.VACANCIES v \n",
        "            /*Условие выбора подходящих вакансий\n",
        "            для начинающего дата-сайентиста*/           \n",
        "            where ((v.name ILIKE '%data scientist%')\n",
        "                OR (lower(v.name) ILIKE '%data science%')\n",
        "                OR (v.name ILIKE '%исследователь данных%')\n",
        "                OR (v.name  LIKE '%ML%' AND  (v.name NOT iLIKE '%html%'))\n",
        "                OR (v.name ILIKE '%machine learning%')\n",
        "                OR (v.name ILIKE '%машинн%обучен%')\n",
        "                AND (key_skills IS NOT NULL))'''"
      ]
    },
    {
      "cell_type": "code",
      "execution_count": null,
      "id": "a3V24Tvmviqk",
      "metadata": {
        "id": "a3V24Tvmviqk"
      },
      "outputs": [
        {
          "data": {
            "text/html": [
              "<div>\n",
              "<style scoped>\n",
              "    .dataframe tbody tr th:only-of-type {\n",
              "        vertical-align: middle;\n",
              "    }\n",
              "\n",
              "    .dataframe tbody tr th {\n",
              "        vertical-align: top;\n",
              "    }\n",
              "\n",
              "    .dataframe thead th {\n",
              "        text-align: right;\n",
              "    }\n",
              "</style>\n",
              "<table border=\"1\" class=\"dataframe\">\n",
              "  <thead>\n",
              "    <tr style=\"text-align: right;\">\n",
              "      <th></th>\n",
              "      <th>Среднее количество навыков:</th>\n",
              "    </tr>\n",
              "  </thead>\n",
              "  <tbody>\n",
              "    <tr>\n",
              "      <th>0</th>\n",
              "      <td>6.41</td>\n",
              "    </tr>\n",
              "  </tbody>\n",
              "</table>\n",
              "</div>"
            ],
            "text/plain": [
              "   Среднее количество навыков:\n",
              "0                         6.41"
            ]
          },
          "execution_count": 204,
          "metadata": {},
          "output_type": "execute_result"
        }
      ],
      "source": [
        "# РЕЗУЛЬТАТ ЗАПРОСА:\n",
        "\n",
        "# Используем метод read_sql_query, чтобы получить\n",
        "# результаты запроса сразу в виде датафрейма:\n",
        "df = pd.read_sql_query(query_6_5, connection)\n",
        "df"
      ]
    },
    {
      "cell_type": "markdown",
      "id": "1041c17a-ca8f-4543-a0ca-32778914fb00",
      "metadata": {
        "id": "1041c17a-ca8f-4543-a0ca-32778914fb00"
      },
      "source": [
        "6. Напишите запрос, позволяющий вычислить, какую зарплату для DS в **среднем** указывают для каждого типа требуемого опыта (уникальное значение из поля *experience*). \n",
        "\n",
        "При решении задачи примите во внимание следующее:\n",
        "1. Рассматриваем только вакансии, у которых заполнено хотя бы одно из двух полей с зарплатой.\n",
        "2. Если заполнены оба поля с зарплатой, то считаем зарплату по каждой вакансии как сумму двух полей, делённую на 2. Если заполнено только одно из полей, то его и считаем зарплатой по вакансии.\n",
        "3. Если в расчётах участвует null, в результате он тоже даст null (посмотрите, что возвращает запрос select 1 + null). Чтобы избежать этой ситуацию, мы воспользуемся функцией [coalesce](https://postgrespro.ru/docs/postgresql/9.5/functions-conditional#functions-coalesce-nvl-ifnull), которая заменит null на значение, которое мы передадим. Например, посмотрите, что возвращает запрос `select 1 + coalesce(null, 0)`\n",
        "\n",
        "Выясните, на какую зарплату в среднем может рассчитывать дата-сайентист с опытом работы от 3 до 6 лет. Результат округлите до целого числа. "
      ]
    },
    {
      "cell_type": "code",
      "execution_count": null,
      "metadata": {},
      "outputs": [],
      "source": [
        "# ТЕКСТ ЗАПРОСА:\n",
        "\n",
        "query_6_6 = f'''select /*Выбор*/\n",
        "            /*Выбираем данные \"Тип требуемого опыта\"*/\n",
        "            v.experience as \"Тип требуемого опыта:\",\n",
        "            /*Расчитываем среднюю З/П для дата-сайентиста*/           \n",
        "            ROUND(AVG(coalesce((v.salary_from + v.salary_to) / 2,            \n",
        "            v.salary_from, v.salary_to)), 0) as \"Средняя З/П:\"\n",
        "            /*из таблицы VACANCIES, в которой\n",
        "            хранятся данные о вакансиях*/\n",
        "            from public.VACANCIES v\n",
        "            /*Условие выбора вакансий для\n",
        "            дата-сайентиста и расчета средней З/П*/\n",
        "            where\n",
        "            ((salary_from is not null or salary_to is not null)\n",
        "                and ((v.name ILIKE '%data scientist%')\n",
        "                OR (lower(v.name) ILIKE '%data science%')\n",
        "                OR (v.name ILIKE '%исследователь данных%')\n",
        "                OR (v.name  LIKE '%ML%' AND  (v.name NOT iLIKE '%html%'))\n",
        "                OR (v.name ILIKE '%machine learning%')\n",
        "                OR (v.name ILIKE '%машинн%обучен%'))\n",
        "            )\n",
        "            /*Группируем по столбцу \"Тип требуемого опыта:\"*/\n",
        "            group by 1\n",
        "            /*Сортируем по столбцу \"Средняя З/П:\"\n",
        "            в порядке убывания*/\n",
        "            order by 2 desc'''"
      ]
    },
    {
      "cell_type": "code",
      "execution_count": null,
      "id": "aRIJ0mZEwU1_",
      "metadata": {
        "id": "aRIJ0mZEwU1_"
      },
      "outputs": [
        {
          "data": {
            "text/html": [
              "<div>\n",
              "<style scoped>\n",
              "    .dataframe tbody tr th:only-of-type {\n",
              "        vertical-align: middle;\n",
              "    }\n",
              "\n",
              "    .dataframe tbody tr th {\n",
              "        vertical-align: top;\n",
              "    }\n",
              "\n",
              "    .dataframe thead th {\n",
              "        text-align: right;\n",
              "    }\n",
              "</style>\n",
              "<table border=\"1\" class=\"dataframe\">\n",
              "  <thead>\n",
              "    <tr style=\"text-align: right;\">\n",
              "      <th></th>\n",
              "      <th>Тип требуемого опыта:</th>\n",
              "      <th>Средняя З/П:</th>\n",
              "    </tr>\n",
              "  </thead>\n",
              "  <tbody>\n",
              "    <tr>\n",
              "      <th>0</th>\n",
              "      <td>От 3 до 6 лет</td>\n",
              "      <td>243115.0</td>\n",
              "    </tr>\n",
              "    <tr>\n",
              "      <th>1</th>\n",
              "      <td>От 1 года до 3 лет</td>\n",
              "      <td>139675.0</td>\n",
              "    </tr>\n",
              "    <tr>\n",
              "      <th>2</th>\n",
              "      <td>Нет опыта</td>\n",
              "      <td>74643.0</td>\n",
              "    </tr>\n",
              "  </tbody>\n",
              "</table>\n",
              "</div>"
            ],
            "text/plain": [
              "  Тип требуемого опыта:  Средняя З/П:\n",
              "0         От 3 до 6 лет      243115.0\n",
              "1    От 1 года до 3 лет      139675.0\n",
              "2             Нет опыта       74643.0"
            ]
          },
          "execution_count": 206,
          "metadata": {},
          "output_type": "execute_result"
        }
      ],
      "source": [
        "# РЕЗУЛЬТАТ ЗАПРОСА:\n",
        "\n",
        "# Используем метод read_sql_query, чтобы получить\n",
        "# результаты запроса сразу в виде датафрейма:\n",
        "df = pd.read_sql_query(query_6_6, connection)\n",
        "df"
      ]
    },
    {
      "cell_type": "markdown",
      "id": "6a7892b4-4113-4746-adce-18aa2844f18e",
      "metadata": {
        "id": "6a7892b4-4113-4746-adce-18aa2844f18e"
      },
      "source": [
        "***"
      ]
    },
    {
      "cell_type": "markdown",
      "metadata": {},
      "source": [
        "#### ***Выводы по предметному анализу данных:***\n",
        "\n",
        "В результате проведенного предметного анализа данных видно: \n",
        "\n",
        "- количество вакансий, которые имеют отношение к данным составляет 1771 ед.; \n",
        "- количество вакансий для начинающего дата-сайентиста составляет 51 ед.;\n",
        "- количество вакансий в которых в качестве ключевого навыка указан SQL или postgres составляет 229 ед.;\n",
        "- количество вакансий, в которых в качестве ключевого навыка указан Python составляет 357 ед.; \n",
        "- в среднем  в вакансиях для дата-сайентиста указывают 6 ключевых навыков;\n",
        "- максимальная средняя З/П для вакансий с опытом работы \"От 3 до 6 лет\" составляет 243,0 тыс. рублей. \"От 1 года до 3 лет\" составляет 140,0 тыс. рублей, \"Без опыта работы\" составляет 75,0 тыс. рублей."
      ]
    },
    {
      "cell_type": "markdown",
      "id": "c0ED6fh7wiBT",
      "metadata": {
        "id": "c0ED6fh7wiBT"
      },
      "source": [
        "# **Общий вывод по проекту:**"
      ]
    },
    {
      "cell_type": "markdown",
      "metadata": {},
      "source": [
        "Проведенный анализ данных показал возможность с использованием данной базы данных определять количественные и качественные фарактеристики по различным типам данных, относящихся к вакансиям, работодателям, регионам и отраслям, определять различные взаимосвязи между разными разделами данных. На примере данных по вакансиям и работодателям показана возможность определения свойственных им закономерностям и тенденциям, а так же на примере вакансий относящихся к дата-сайентист, продемострирована возможность выявления данных по узким и специфическим выборкам."
      ]
    }
  ],
  "metadata": {
    "colab": {
      "collapsed_sections": [
        "8d62a9f3-f64e-4fe7-bdac-c4dffa16155e"
      ],
      "provenance": []
    },
    "kernelspec": {
      "display_name": "Python 3 (ipykernel)",
      "language": "python",
      "name": "python3"
    },
    "language_info": {
      "codemirror_mode": {
        "name": "ipython",
        "version": 3
      },
      "file_extension": ".py",
      "mimetype": "text/x-python",
      "name": "python",
      "nbconvert_exporter": "python",
      "pygments_lexer": "ipython3",
      "version": "3.9.10"
    }
  },
  "nbformat": 4,
  "nbformat_minor": 5
}
