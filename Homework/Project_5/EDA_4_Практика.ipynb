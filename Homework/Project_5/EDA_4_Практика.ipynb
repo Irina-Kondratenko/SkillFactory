{
  "cells": [
    {
      "cell_type": "markdown",
      "metadata": {
        "id": "yMG_XPwziMUN"
      },
      "source": [
        "# <center> Практика. Статистические тесты в контексте EDA"
      ]
    },
    {
      "cell_type": "markdown",
      "metadata": {
        "id": "EMd2vwh8ihnl"
      },
      "source": [
        "### **1. Постановка задачи:**\n",
        "\n",
        "**ИССЛЕДОВАНИЕ ДАННЫХ HR-АГЕНТСТВА**\n",
        "\n",
        "HR-агентство изучает тренды на рынке труда в IT. Компания хочет провести исследование на основе данных о зарплатах в сфере Data Science за 2020–2022 годы и получить некоторые выводы.\n",
        "\n",
        "В процессе анализа необходимо исследовать данные и выяснить, какие факторы влияют на зарплату специалиста Data Scientist.\n",
        "\n",
        "А также ответить на ключевые вопросы HR-агентства:\n",
        "- Наблюдается ли ежегодный рост зарплат у специалистов Data Scientist?\n",
        "- Как соотносятся зарплаты Data Scientist и Data Engineer в 2022 году?\n",
        "- Как соотносятся зарплаты специалистов Data Scientist в компаниях различных размеров?\n",
        "- Есть ли связь между наличием должностей Data Scientist и Data Engineer и размером компании?\n",
        "\n",
        "***ДАННЫЕ HR-АГЕНТСТВА:***\n",
        "\n",
        "Наименование столбца:  | Описание столбца:\n",
        "------- | --------\n",
        "***work_year***   | Год, в котором была выплачена зарплата.\n",
        "***experience_level***   | Опыт работы на этой должности в течение года со следующими возможными значениями: <br> - ***EN*** — Entry-level/Junior; <br>- ***MI*** — Mid-level/Intermediate; <br> - ***SE*** — Senior-level/Expert; <br>- ***EX*** — Executive-level/Director.\n",
        "***employment_type***   | Тип трудоустройства для этой роли: <br> - ***PT*** — неполный рабочий день; <br> - ***FT*** — полный рабочий день; <br> - ***CT*** — контракт; <br> - ***FL*** — фриланс.\n",
        "***job_title***   | Роль, в которой соискатель работал в течение года.\n",
        "***salary***   | Общая выплаченная валовая сумма заработной платы.\n",
        "***salary_currency***   | Валюта выплачиваемой заработной платы в виде кода валюты ISO 4217.\n",
        "***salary_in_usd***   | Зарплата в долларах США (валютный курс, делённый на среднее значение курса доллара США за соответствующий год через fxdata.foorilla.com).\n",
        "***employee_residence***   | Основная страна проживания сотрудника в течение рабочего года в виде кода страны ISO 3166.\n",
        "***remote_ratio***   | Общий объём работы, выполняемой удалённо. <br> Возможные значения: <br> ***0*** — удалённой работы нет (менее 20 %); <br> ***50*** — частично удалённая работа; <br> ***100*** — полностью удалённая работа (более 80 %).\n",
        "***company_location***   | Страна главного офиса работодателя или филиала по контракту в виде кода страны ISO 3166.\n",
        "***company_size***   | Среднее количество людей, работавших в компании в течение года: <br>  - ***S*** - менее 50 сотрудников (небольшая компания); <br> - ***M*** - от 50 до 250 сотрудников (средняя компания); <br> - ***L*** - более 250 сотрудников (крупная компания)."
      ]
    },
    {
      "cell_type": "markdown",
      "metadata": {
        "id": "_XMyOg3cgcN1"
      },
      "source": [
        "## **1. Загрузка и обработка данных:**"
      ]
    },
    {
      "cell_type": "code",
      "execution_count": 1,
      "metadata": {
        "id": "2JjaPf35gyCK"
      },
      "outputs": [],
      "source": [
        "# Загружаем необходимые библиотеки:\n",
        "import pandas as pd\n",
        "import numpy as np\n",
        "\n",
        "from scipy import stats\n",
        "import statsmodels.api as sm\n",
        "from statsmodels import stats as sms\n",
        "\n",
        "import matplotlib.pyplot as plt\n",
        "import seaborn as sns\n",
        "\n",
        "import warnings\n",
        "warnings.filterwarnings(\"ignore\")\n",
        "\n",
        "# Делаем визуальную настройку графиков:\n",
        "sns.set_theme(\"notebook\") \n",
        "sns.set_palette(\"Set2\")"
      ]
    },
    {
      "cell_type": "code",
      "execution_count": 2,
      "metadata": {
        "colab": {
          "base_uri": "https://localhost:8080/",
          "height": 206
        },
        "id": "ZPiI902dv11F",
        "outputId": "eccef1b9-a3cc-4144-a9df-a2a020abf30c"
      },
      "outputs": [
        {
          "data": {
            "text/html": [
              "<div>\n",
              "<style scoped>\n",
              "    .dataframe tbody tr th:only-of-type {\n",
              "        vertical-align: middle;\n",
              "    }\n",
              "\n",
              "    .dataframe tbody tr th {\n",
              "        vertical-align: top;\n",
              "    }\n",
              "\n",
              "    .dataframe thead th {\n",
              "        text-align: right;\n",
              "    }\n",
              "</style>\n",
              "<table border=\"1\" class=\"dataframe\">\n",
              "  <thead>\n",
              "    <tr style=\"text-align: right;\">\n",
              "      <th></th>\n",
              "      <th>Unnamed: 0</th>\n",
              "      <th>work_year</th>\n",
              "      <th>experience_level</th>\n",
              "      <th>employment_type</th>\n",
              "      <th>job_title</th>\n",
              "      <th>salary</th>\n",
              "      <th>salary_currency</th>\n",
              "      <th>salary_in_usd</th>\n",
              "      <th>employee_residence</th>\n",
              "      <th>remote_ratio</th>\n",
              "      <th>company_location</th>\n",
              "      <th>company_size</th>\n",
              "    </tr>\n",
              "  </thead>\n",
              "  <tbody>\n",
              "    <tr>\n",
              "      <th>0</th>\n",
              "      <td>0</td>\n",
              "      <td>2020</td>\n",
              "      <td>MI</td>\n",
              "      <td>FT</td>\n",
              "      <td>Data Scientist</td>\n",
              "      <td>70000</td>\n",
              "      <td>EUR</td>\n",
              "      <td>79833</td>\n",
              "      <td>DE</td>\n",
              "      <td>0</td>\n",
              "      <td>DE</td>\n",
              "      <td>L</td>\n",
              "    </tr>\n",
              "    <tr>\n",
              "      <th>1</th>\n",
              "      <td>1</td>\n",
              "      <td>2020</td>\n",
              "      <td>SE</td>\n",
              "      <td>FT</td>\n",
              "      <td>Machine Learning Scientist</td>\n",
              "      <td>260000</td>\n",
              "      <td>USD</td>\n",
              "      <td>260000</td>\n",
              "      <td>JP</td>\n",
              "      <td>0</td>\n",
              "      <td>JP</td>\n",
              "      <td>S</td>\n",
              "    </tr>\n",
              "    <tr>\n",
              "      <th>2</th>\n",
              "      <td>2</td>\n",
              "      <td>2020</td>\n",
              "      <td>SE</td>\n",
              "      <td>FT</td>\n",
              "      <td>Big Data Engineer</td>\n",
              "      <td>85000</td>\n",
              "      <td>GBP</td>\n",
              "      <td>109024</td>\n",
              "      <td>GB</td>\n",
              "      <td>50</td>\n",
              "      <td>GB</td>\n",
              "      <td>M</td>\n",
              "    </tr>\n",
              "    <tr>\n",
              "      <th>3</th>\n",
              "      <td>3</td>\n",
              "      <td>2020</td>\n",
              "      <td>MI</td>\n",
              "      <td>FT</td>\n",
              "      <td>Product Data Analyst</td>\n",
              "      <td>20000</td>\n",
              "      <td>USD</td>\n",
              "      <td>20000</td>\n",
              "      <td>HN</td>\n",
              "      <td>0</td>\n",
              "      <td>HN</td>\n",
              "      <td>S</td>\n",
              "    </tr>\n",
              "    <tr>\n",
              "      <th>4</th>\n",
              "      <td>4</td>\n",
              "      <td>2020</td>\n",
              "      <td>SE</td>\n",
              "      <td>FT</td>\n",
              "      <td>Machine Learning Engineer</td>\n",
              "      <td>150000</td>\n",
              "      <td>USD</td>\n",
              "      <td>150000</td>\n",
              "      <td>US</td>\n",
              "      <td>50</td>\n",
              "      <td>US</td>\n",
              "      <td>L</td>\n",
              "    </tr>\n",
              "  </tbody>\n",
              "</table>\n",
              "</div>"
            ],
            "text/plain": [
              "   Unnamed: 0  work_year experience_level employment_type  \\\n",
              "0           0       2020               MI              FT   \n",
              "1           1       2020               SE              FT   \n",
              "2           2       2020               SE              FT   \n",
              "3           3       2020               MI              FT   \n",
              "4           4       2020               SE              FT   \n",
              "\n",
              "                    job_title  salary salary_currency  salary_in_usd  \\\n",
              "0              Data Scientist   70000             EUR          79833   \n",
              "1  Machine Learning Scientist  260000             USD         260000   \n",
              "2           Big Data Engineer   85000             GBP         109024   \n",
              "3        Product Data Analyst   20000             USD          20000   \n",
              "4   Machine Learning Engineer  150000             USD         150000   \n",
              "\n",
              "  employee_residence  remote_ratio company_location company_size  \n",
              "0                 DE             0               DE            L  \n",
              "1                 JP             0               JP            S  \n",
              "2                 GB            50               GB            M  \n",
              "3                 HN             0               HN            S  \n",
              "4                 US            50               US            L  "
            ]
          },
          "execution_count": 2,
          "metadata": {},
          "output_type": "execute_result"
        }
      ],
      "source": [
        "# Загружаем датасет:\n",
        "data = pd.read_csv('ds_salaries.csv')\n",
        "data.head(5)"
      ]
    },
    {
      "cell_type": "code",
      "execution_count": 3,
      "metadata": {
        "colab": {
          "base_uri": "https://localhost:8080/"
        },
        "id": "uLEEV6aLomOU",
        "outputId": "23314b21-aa3f-4537-94cb-be776d9427ae"
      },
      "outputs": [
        {
          "name": "stdout",
          "output_type": "stream",
          "text": [
            "Уровень значимости alpha = 0.05\n"
          ]
        }
      ],
      "source": [
        "# Задаём уровень значимости:\n",
        "alpha = 0.05 \n",
        "print(\"Уровень значимости alpha = {:.2f}\".format(alpha))"
      ]
    },
    {
      "cell_type": "markdown",
      "metadata": {
        "id": "c9QRWWOVfV13"
      },
      "source": [
        "1.1. Посмотрим сводную информацию методом info():"
      ]
    },
    {
      "cell_type": "code",
      "execution_count": 4,
      "metadata": {
        "colab": {
          "base_uri": "https://localhost:8080/"
        },
        "id": "zkiOmlAy2XQU",
        "outputId": "88adbac3-0fd7-460c-a368-c40baff97200"
      },
      "outputs": [
        {
          "name": "stdout",
          "output_type": "stream",
          "text": [
            "<class 'pandas.core.frame.DataFrame'>\n",
            "RangeIndex: 607 entries, 0 to 606\n",
            "Data columns (total 12 columns):\n",
            " #   Column              Non-Null Count  Dtype \n",
            "---  ------              --------------  ----- \n",
            " 0   Unnamed: 0          607 non-null    int64 \n",
            " 1   work_year           607 non-null    int64 \n",
            " 2   experience_level    607 non-null    object\n",
            " 3   employment_type     607 non-null    object\n",
            " 4   job_title           607 non-null    object\n",
            " 5   salary              607 non-null    int64 \n",
            " 6   salary_currency     607 non-null    object\n",
            " 7   salary_in_usd       607 non-null    int64 \n",
            " 8   employee_residence  607 non-null    object\n",
            " 9   remote_ratio        607 non-null    int64 \n",
            " 10  company_location    607 non-null    object\n",
            " 11  company_size        607 non-null    object\n",
            "dtypes: int64(5), object(7)\n",
            "memory usage: 57.0+ KB\n"
          ]
        }
      ],
      "source": [
        "data.info()"
      ]
    },
    {
      "cell_type": "markdown",
      "metadata": {
        "id": "2DSvnZuul7Za"
      },
      "source": [
        "**Вывод:** в датасете 607 записей (без пропущенных значений)."
      ]
    },
    {
      "cell_type": "markdown",
      "metadata": {},
      "source": [
        "1.2. Проверим данные на наличие дубликатов и удалим найденные дубликаты:"
      ]
    },
    {
      "cell_type": "code",
      "execution_count": 5,
      "metadata": {
        "colab": {
          "base_uri": "https://localhost:8080/"
        },
        "id": "As_X7I6jl7Za",
        "outputId": "3d3795b3-ab7c-4cc6-ab3d-23a4796a7b5c"
      },
      "outputs": [
        {
          "name": "stdout",
          "output_type": "stream",
          "text": [
            "Количество дубликатов: 0\n",
            "Размер таблицы после удаления дубликатов: (607, 12)\n"
          ]
        }
      ],
      "source": [
        "# Проверяем наличие дубликатов:\n",
        "print('Количество дубликатов: {}'.format(data[data.duplicated()].shape[0]))\n",
        "\n",
        "# Удаляем дубликаты:\n",
        "data = data.drop_duplicates()\n",
        "print('Размер таблицы после удаления дубликатов: {}'.format(data.shape))"
      ]
    },
    {
      "cell_type": "markdown",
      "metadata": {},
      "source": [
        "**Вывод:** представленные данные не содержат полных дубликатов."
      ]
    },
    {
      "cell_type": "markdown",
      "metadata": {},
      "source": [
        "\n",
        "1.3. Определим в данных неинформативные признаки, которые не будут участвовать в исследовании:"
      ]
    },
    {
      "cell_type": "code",
      "execution_count": 6,
      "metadata": {},
      "outputs": [
        {
          "name": "stdout",
          "output_type": "stream",
          "text": [
            "<class 'pandas.core.frame.DataFrame'>\n",
            "RangeIndex: 607 entries, 0 to 606\n",
            "Data columns (total 10 columns):\n",
            " #   Column              Non-Null Count  Dtype \n",
            "---  ------              --------------  ----- \n",
            " 0   Unnamed: 0          607 non-null    int64 \n",
            " 1   work_year           607 non-null    int64 \n",
            " 2   experience_level    607 non-null    object\n",
            " 3   employment_type     607 non-null    object\n",
            " 4   job_title           607 non-null    object\n",
            " 5   salary_in_usd       607 non-null    int64 \n",
            " 6   employee_residence  607 non-null    object\n",
            " 7   remote_ratio        607 non-null    int64 \n",
            " 8   company_location    607 non-null    object\n",
            " 9   company_size        607 non-null    object\n",
            "dtypes: int64(4), object(6)\n",
            "memory usage: 47.5+ KB\n"
          ]
        }
      ],
      "source": [
        "# Удаляем столбцы \"salary\" и \"salary_currency\" из DataFrame:\n",
        "data = data.drop(columns=['salary', 'salary_currency'])\n",
        "data.info()"
      ]
    },
    {
      "cell_type": "markdown",
      "metadata": {},
      "source": [
        "**Вывод:** удалим из данных признаки:\n",
        "\n",
        "- **salary** аналогичный более универсальному признаку **salary_in_usd**;\n",
        "- **salary_currency** так как мы будем оперировать зарплатой уже переведенной в доллары США."
      ]
    },
    {
      "cell_type": "markdown",
      "metadata": {},
      "source": [
        "1.4. Классифицируем все признаки на числовые и категориальные:\n",
        "\n",
        "Классификация признаков датасета: | Признак:\n",
        "------- | --------\n",
        "***Категориальные признаки:*** |experience_level; <br> employment_type; <br> job_title; <br> employee_residence; <br> remote_ratio; <br> company_location; <br> company_location\n",
        "***Числовые признаки:*** |work_year; <br> salary_in_usd"
      ]
    },
    {
      "cell_type": "markdown",
      "metadata": {},
      "source": [
        "1.5. Определим основные статистические характеристики для каждого из признаков:"
      ]
    },
    {
      "cell_type": "code",
      "execution_count": 7,
      "metadata": {},
      "outputs": [
        {
          "data": {
            "text/html": [
              "<div>\n",
              "<style scoped>\n",
              "    .dataframe tbody tr th:only-of-type {\n",
              "        vertical-align: middle;\n",
              "    }\n",
              "\n",
              "    .dataframe tbody tr th {\n",
              "        vertical-align: top;\n",
              "    }\n",
              "\n",
              "    .dataframe thead th {\n",
              "        text-align: right;\n",
              "    }\n",
              "</style>\n",
              "<table border=\"1\" class=\"dataframe\">\n",
              "  <thead>\n",
              "    <tr style=\"text-align: right;\">\n",
              "      <th></th>\n",
              "      <th>Unnamed: 0</th>\n",
              "      <th>work_year</th>\n",
              "      <th>experience_level</th>\n",
              "      <th>employment_type</th>\n",
              "      <th>job_title</th>\n",
              "      <th>salary_in_usd</th>\n",
              "      <th>employee_residence</th>\n",
              "      <th>remote_ratio</th>\n",
              "      <th>company_location</th>\n",
              "      <th>company_size</th>\n",
              "    </tr>\n",
              "  </thead>\n",
              "  <tbody>\n",
              "    <tr>\n",
              "      <th>count</th>\n",
              "      <td>607.000000</td>\n",
              "      <td>607.000000</td>\n",
              "      <td>607</td>\n",
              "      <td>607</td>\n",
              "      <td>607</td>\n",
              "      <td>607.000000</td>\n",
              "      <td>607</td>\n",
              "      <td>607.00000</td>\n",
              "      <td>607</td>\n",
              "      <td>607</td>\n",
              "    </tr>\n",
              "    <tr>\n",
              "      <th>unique</th>\n",
              "      <td>NaN</td>\n",
              "      <td>NaN</td>\n",
              "      <td>4</td>\n",
              "      <td>4</td>\n",
              "      <td>50</td>\n",
              "      <td>NaN</td>\n",
              "      <td>57</td>\n",
              "      <td>NaN</td>\n",
              "      <td>50</td>\n",
              "      <td>3</td>\n",
              "    </tr>\n",
              "    <tr>\n",
              "      <th>top</th>\n",
              "      <td>NaN</td>\n",
              "      <td>NaN</td>\n",
              "      <td>SE</td>\n",
              "      <td>FT</td>\n",
              "      <td>Data Scientist</td>\n",
              "      <td>NaN</td>\n",
              "      <td>US</td>\n",
              "      <td>NaN</td>\n",
              "      <td>US</td>\n",
              "      <td>M</td>\n",
              "    </tr>\n",
              "    <tr>\n",
              "      <th>freq</th>\n",
              "      <td>NaN</td>\n",
              "      <td>NaN</td>\n",
              "      <td>280</td>\n",
              "      <td>588</td>\n",
              "      <td>143</td>\n",
              "      <td>NaN</td>\n",
              "      <td>332</td>\n",
              "      <td>NaN</td>\n",
              "      <td>355</td>\n",
              "      <td>326</td>\n",
              "    </tr>\n",
              "    <tr>\n",
              "      <th>mean</th>\n",
              "      <td>303.000000</td>\n",
              "      <td>2021.405272</td>\n",
              "      <td>NaN</td>\n",
              "      <td>NaN</td>\n",
              "      <td>NaN</td>\n",
              "      <td>112297.869852</td>\n",
              "      <td>NaN</td>\n",
              "      <td>70.92257</td>\n",
              "      <td>NaN</td>\n",
              "      <td>NaN</td>\n",
              "    </tr>\n",
              "    <tr>\n",
              "      <th>std</th>\n",
              "      <td>175.370085</td>\n",
              "      <td>0.692133</td>\n",
              "      <td>NaN</td>\n",
              "      <td>NaN</td>\n",
              "      <td>NaN</td>\n",
              "      <td>70957.259411</td>\n",
              "      <td>NaN</td>\n",
              "      <td>40.70913</td>\n",
              "      <td>NaN</td>\n",
              "      <td>NaN</td>\n",
              "    </tr>\n",
              "    <tr>\n",
              "      <th>min</th>\n",
              "      <td>0.000000</td>\n",
              "      <td>2020.000000</td>\n",
              "      <td>NaN</td>\n",
              "      <td>NaN</td>\n",
              "      <td>NaN</td>\n",
              "      <td>2859.000000</td>\n",
              "      <td>NaN</td>\n",
              "      <td>0.00000</td>\n",
              "      <td>NaN</td>\n",
              "      <td>NaN</td>\n",
              "    </tr>\n",
              "    <tr>\n",
              "      <th>25%</th>\n",
              "      <td>151.500000</td>\n",
              "      <td>2021.000000</td>\n",
              "      <td>NaN</td>\n",
              "      <td>NaN</td>\n",
              "      <td>NaN</td>\n",
              "      <td>62726.000000</td>\n",
              "      <td>NaN</td>\n",
              "      <td>50.00000</td>\n",
              "      <td>NaN</td>\n",
              "      <td>NaN</td>\n",
              "    </tr>\n",
              "    <tr>\n",
              "      <th>50%</th>\n",
              "      <td>303.000000</td>\n",
              "      <td>2022.000000</td>\n",
              "      <td>NaN</td>\n",
              "      <td>NaN</td>\n",
              "      <td>NaN</td>\n",
              "      <td>101570.000000</td>\n",
              "      <td>NaN</td>\n",
              "      <td>100.00000</td>\n",
              "      <td>NaN</td>\n",
              "      <td>NaN</td>\n",
              "    </tr>\n",
              "    <tr>\n",
              "      <th>75%</th>\n",
              "      <td>454.500000</td>\n",
              "      <td>2022.000000</td>\n",
              "      <td>NaN</td>\n",
              "      <td>NaN</td>\n",
              "      <td>NaN</td>\n",
              "      <td>150000.000000</td>\n",
              "      <td>NaN</td>\n",
              "      <td>100.00000</td>\n",
              "      <td>NaN</td>\n",
              "      <td>NaN</td>\n",
              "    </tr>\n",
              "    <tr>\n",
              "      <th>max</th>\n",
              "      <td>606.000000</td>\n",
              "      <td>2022.000000</td>\n",
              "      <td>NaN</td>\n",
              "      <td>NaN</td>\n",
              "      <td>NaN</td>\n",
              "      <td>600000.000000</td>\n",
              "      <td>NaN</td>\n",
              "      <td>100.00000</td>\n",
              "      <td>NaN</td>\n",
              "      <td>NaN</td>\n",
              "    </tr>\n",
              "  </tbody>\n",
              "</table>\n",
              "</div>"
            ],
            "text/plain": [
              "        Unnamed: 0    work_year experience_level employment_type  \\\n",
              "count   607.000000   607.000000              607             607   \n",
              "unique         NaN          NaN                4               4   \n",
              "top            NaN          NaN               SE              FT   \n",
              "freq           NaN          NaN              280             588   \n",
              "mean    303.000000  2021.405272              NaN             NaN   \n",
              "std     175.370085     0.692133              NaN             NaN   \n",
              "min       0.000000  2020.000000              NaN             NaN   \n",
              "25%     151.500000  2021.000000              NaN             NaN   \n",
              "50%     303.000000  2022.000000              NaN             NaN   \n",
              "75%     454.500000  2022.000000              NaN             NaN   \n",
              "max     606.000000  2022.000000              NaN             NaN   \n",
              "\n",
              "             job_title  salary_in_usd employee_residence  remote_ratio  \\\n",
              "count              607     607.000000                607     607.00000   \n",
              "unique              50            NaN                 57           NaN   \n",
              "top     Data Scientist            NaN                 US           NaN   \n",
              "freq               143            NaN                332           NaN   \n",
              "mean               NaN  112297.869852                NaN      70.92257   \n",
              "std                NaN   70957.259411                NaN      40.70913   \n",
              "min                NaN    2859.000000                NaN       0.00000   \n",
              "25%                NaN   62726.000000                NaN      50.00000   \n",
              "50%                NaN  101570.000000                NaN     100.00000   \n",
              "75%                NaN  150000.000000                NaN     100.00000   \n",
              "max                NaN  600000.000000                NaN     100.00000   \n",
              "\n",
              "       company_location company_size  \n",
              "count               607          607  \n",
              "unique               50            3  \n",
              "top                  US            M  \n",
              "freq                355          326  \n",
              "mean                NaN          NaN  \n",
              "std                 NaN          NaN  \n",
              "min                 NaN          NaN  \n",
              "25%                 NaN          NaN  \n",
              "50%                 NaN          NaN  \n",
              "75%                 NaN          NaN  \n",
              "max                 NaN          NaN  "
            ]
          },
          "execution_count": 7,
          "metadata": {},
          "output_type": "execute_result"
        }
      ],
      "source": [
        "data.describe(include='all')"
      ]
    },
    {
      "cell_type": "markdown",
      "metadata": {},
      "source": [
        "**Вывод:** с помощью метода describe() определили основные статистические характеристики для каждого из признаков."
      ]
    },
    {
      "cell_type": "markdown",
      "metadata": {},
      "source": [
        "## **2. Разведывательный анализ данных:**\n",
        "\n",
        "2.1. Визуальный анализ данных:"
      ]
    },
    {
      "cell_type": "markdown",
      "metadata": {
        "id": "6uAbyderTaNx"
      },
      "source": [
        "Распределение заработной платы:"
      ]
    },
    {
      "cell_type": "code",
      "execution_count": 66,
      "metadata": {
        "colab": {
          "base_uri": "https://localhost:8080/",
          "height": 496
        },
        "id": "KX6k6B2NWJ8t",
        "outputId": "523d571d-679e-4926-fe74-dc130c6a1b53"
      },
      "outputs": [
        {
          "data": {
            "image/png": "[encoded data removed]",
            "text/plain": [
              "<Figure size 1500x500 with 2 Axes>"
            ]
          },
          "metadata": {},
          "output_type": "display_data"
        }
      ],
      "source": [
        "# Построим диаграмму:\n",
        "\n",
        "fig, axes = plt.subplots(1, 2, figsize = (15, 5))\n",
        "\n",
        "sns.histplot(data['salary_in_usd'], kde = True, ax = axes[0])\n",
        "# Присваиваем заголовки осей координат:\n",
        "axes[0].set(xlabel = 'Размер заработной платы', ylabel = 'Частота')\n",
        "# Заголовок графика:\n",
        "axes[0].set_title('Распределение заработной платы')\n",
        "# Вертикальная линия:\n",
        "axes[0].axvline(data['salary_in_usd'].mean(),\n",
        "                color = 'red', linestyle = '--', linewidth = 0.8)\n",
        "\n",
        "# Отфильтруем данные для Data Scientist:\n",
        "filtered_data = data[data['job_title'] == 'Data Scientist']\n",
        "sns.boxplot(filtered_data['salary_in_usd'], ax=axes[1],\n",
        "            # Горизонтальная ориентация диаграммы:\n",
        "            orient='h',\n",
        "            # Медиана:\n",
        "            medianprops = {\"color\": \"red\", \"linestyle\": '--'})\n",
        "# Присваиваем заголовки осей координат:\n",
        "axes[1].set(xlabel = 'Размер заработной платы')\n",
        "# Заголовок графика:\n",
        "axes[1].set_title('Распределение заработной платы Data Scientist')\n",
        "# Выводим результат на экран:\n",
        "plt.show()"
      ]
    },
    {
      "cell_type": "code",
      "execution_count": 20,
      "metadata": {
        "colab": {
          "base_uri": "https://localhost:8080/",
          "height": 300
        },
        "id": "h4rqfECm4umv",
        "outputId": "3edbc181-1016-488d-ef8c-6dfc5dbbfee1"
      },
      "outputs": [
        {
          "data": {
            "text/html": [
              "<div>\n",
              "<style scoped>\n",
              "    .dataframe tbody tr th:only-of-type {\n",
              "        vertical-align: middle;\n",
              "    }\n",
              "\n",
              "    .dataframe tbody tr th {\n",
              "        vertical-align: top;\n",
              "    }\n",
              "\n",
              "    .dataframe thead th {\n",
              "        text-align: right;\n",
              "    }\n",
              "</style>\n",
              "<table border=\"1\" class=\"dataframe\">\n",
              "  <thead>\n",
              "    <tr style=\"text-align: right;\">\n",
              "      <th></th>\n",
              "      <th>Размер заработной платы</th>\n",
              "    </tr>\n",
              "  </thead>\n",
              "  <tbody>\n",
              "    <tr>\n",
              "      <th>count</th>\n",
              "      <td>607.00</td>\n",
              "    </tr>\n",
              "    <tr>\n",
              "      <th>mean</th>\n",
              "      <td>112297.87</td>\n",
              "    </tr>\n",
              "    <tr>\n",
              "      <th>std</th>\n",
              "      <td>70957.26</td>\n",
              "    </tr>\n",
              "    <tr>\n",
              "      <th>min</th>\n",
              "      <td>2859.00</td>\n",
              "    </tr>\n",
              "    <tr>\n",
              "      <th>25%</th>\n",
              "      <td>62726.00</td>\n",
              "    </tr>\n",
              "    <tr>\n",
              "      <th>50%</th>\n",
              "      <td>101570.00</td>\n",
              "    </tr>\n",
              "    <tr>\n",
              "      <th>75%</th>\n",
              "      <td>150000.00</td>\n",
              "    </tr>\n",
              "    <tr>\n",
              "      <th>max</th>\n",
              "      <td>600000.00</td>\n",
              "    </tr>\n",
              "  </tbody>\n",
              "</table>\n",
              "</div>"
            ],
            "text/plain": [
              "       Размер заработной платы\n",
              "count                   607.00\n",
              "mean                 112297.87\n",
              "std                   70957.26\n",
              "min                    2859.00\n",
              "25%                   62726.00\n",
              "50%                  101570.00\n",
              "75%                  150000.00\n",
              "max                  600000.00"
            ]
          },
          "execution_count": 20,
          "metadata": {},
          "output_type": "execute_result"
        }
      ],
      "source": [
        "data_agg = data['salary_in_usd'].describe().round(2).to_frame()\n",
        "data_agg.columns = ['Размер заработной платы']\n",
        "data_agg"
      ]
    },
    {
      "cell_type": "markdown",
      "metadata": {
        "id": "fHrGH7w56m5c"
      },
      "source": [
        "**Вывод:** распределение заработной платы отлично от нормального, имеются выбросы."
      ]
    },
    {
      "cell_type": "markdown",
      "metadata": {
        "id": "cFABAmBjTkCo"
      },
      "source": [
        "Распределение заработной платы по годам:"
      ]
    },
    {
      "cell_type": "code",
      "execution_count": 67,
      "metadata": {},
      "outputs": [
        {
          "data": {
            "image/png": "[encoded data removed]",
            "text/plain": [
              "<Figure size 1500x500 with 2 Axes>"
            ]
          },
          "metadata": {},
          "output_type": "display_data"
        }
      ],
      "source": [
        "# Построим диаграмму:\n",
        "\n",
        "fig, axes = plt.subplots(1, 2, figsize = (15, 5))\n",
        "sns.boxplot(data,\n",
        "            # Признак, который будет отложен по оси абсцисс:            \n",
        "            # Год, в котором была выплачена заработная плата\n",
        "            x = 'work_year',\n",
        "            # Признак, который будет отложен по оси ординат:\n",
        "            # Заработная плата\n",
        "            y = 'salary_in_usd',\n",
        "            ax = axes[0],\n",
        "            # Вертикальная ориентация диаграммы:\n",
        "            orient = 'v',\n",
        "            # Цвет графика:\n",
        "            color = 'lightgreen',\n",
        "            # Медиана:\n",
        "            medianprops = {\"color\": \"red\", \"linestyle\": '--'})\n",
        "# Присваиваем заголовки осей координат:\n",
        "axes[0].set(xlabel = 'Год:')\n",
        "axes[0].set(ylabel = 'Размер заработной платы:')\n",
        "# Заголовок графика:\n",
        "axes[0].set_title('Распределение заработной платы по годам:')\n",
        "\n",
        "# Отфильтруем данные для Data Scientist:\n",
        "filtered_data = data[data['job_title'] == 'Data Scientist']\n",
        "sns.boxplot(filtered_data,\n",
        "            # Признак, который будет отложен по оси абсцисс:            \n",
        "            # Год, в котором была выплачена заработная плата\n",
        "            x = 'work_year',\n",
        "            # Признак, который будет отложен по оси ординат:\n",
        "            # Заработная плата\n",
        "            y = 'salary_in_usd',\n",
        "            ax=axes[1],\n",
        "            # Вертикальная ориентация диаграммы:\n",
        "            orient='v',\n",
        "            # Цвет графика:\n",
        "            color = 'lightgreen',\n",
        "            # Медиана:\n",
        "            medianprops = {\"color\": \"red\", \"linestyle\": '--'})\n",
        "# Присваиваем заголовки осей координат:\n",
        "axes[1].set(xlabel = 'Год:')\n",
        "axes[1].set(ylabel = 'Размер заработной платы:')\n",
        "# Заголовок графика:\n",
        "axes[1].set_title('Распределение заработной платы Data Scientist по годам:')\n",
        "# Выводим результат на экран:\n",
        "plt.show()"
      ]
    },
    {
      "cell_type": "code",
      "execution_count": 68,
      "metadata": {
        "colab": {
          "base_uri": "https://localhost:8080/",
          "height": 161
        },
        "id": "yXC_rLMn_fFV",
        "outputId": "f54838b2-b0db-4562-b281-fab9ee61eb59"
      },
      "outputs": [
        {
          "name": "stdout",
          "output_type": "stream",
          "text": [
            "Распределение заработной платы по годам:\n"
          ]
        },
        {
          "data": {
            "text/html": [
              "<div>\n",
              "<style scoped>\n",
              "    .dataframe tbody tr th:only-of-type {\n",
              "        vertical-align: middle;\n",
              "    }\n",
              "\n",
              "    .dataframe tbody tr th {\n",
              "        vertical-align: top;\n",
              "    }\n",
              "\n",
              "    .dataframe thead th {\n",
              "        text-align: right;\n",
              "    }\n",
              "</style>\n",
              "<table border=\"1\" class=\"dataframe\">\n",
              "  <thead>\n",
              "    <tr style=\"text-align: right;\">\n",
              "      <th></th>\n",
              "      <th>count</th>\n",
              "      <th>mean</th>\n",
              "      <th>std</th>\n",
              "      <th>min</th>\n",
              "      <th>25%</th>\n",
              "      <th>50%</th>\n",
              "      <th>75%</th>\n",
              "      <th>max</th>\n",
              "    </tr>\n",
              "    <tr>\n",
              "      <th>work_year</th>\n",
              "      <th></th>\n",
              "      <th></th>\n",
              "      <th></th>\n",
              "      <th></th>\n",
              "      <th></th>\n",
              "      <th></th>\n",
              "      <th></th>\n",
              "      <th></th>\n",
              "    </tr>\n",
              "  </thead>\n",
              "  <tbody>\n",
              "    <tr>\n",
              "      <th>2020</th>\n",
              "      <td>72.0</td>\n",
              "      <td>95813.00</td>\n",
              "      <td>82831.80</td>\n",
              "      <td>5707.0</td>\n",
              "      <td>45724.5</td>\n",
              "      <td>75544.0</td>\n",
              "      <td>115526.0</td>\n",
              "      <td>450000.0</td>\n",
              "    </tr>\n",
              "    <tr>\n",
              "      <th>2021</th>\n",
              "      <td>217.0</td>\n",
              "      <td>99853.79</td>\n",
              "      <td>80225.11</td>\n",
              "      <td>2859.0</td>\n",
              "      <td>50000.0</td>\n",
              "      <td>82528.0</td>\n",
              "      <td>135000.0</td>\n",
              "      <td>600000.0</td>\n",
              "    </tr>\n",
              "    <tr>\n",
              "      <th>2022</th>\n",
              "      <td>318.0</td>\n",
              "      <td>124522.01</td>\n",
              "      <td>58183.65</td>\n",
              "      <td>10000.0</td>\n",
              "      <td>81666.0</td>\n",
              "      <td>120000.0</td>\n",
              "      <td>160000.0</td>\n",
              "      <td>405000.0</td>\n",
              "    </tr>\n",
              "  </tbody>\n",
              "</table>\n",
              "</div>"
            ],
            "text/plain": [
              "           count       mean       std      min      25%       50%       75%  \\\n",
              "work_year                                                                     \n",
              "2020        72.0   95813.00  82831.80   5707.0  45724.5   75544.0  115526.0   \n",
              "2021       217.0   99853.79  80225.11   2859.0  50000.0   82528.0  135000.0   \n",
              "2022       318.0  124522.01  58183.65  10000.0  81666.0  120000.0  160000.0   \n",
              "\n",
              "                max  \n",
              "work_year            \n",
              "2020       450000.0  \n",
              "2021       600000.0  \n",
              "2022       405000.0  "
            ]
          },
          "execution_count": 68,
          "metadata": {},
          "output_type": "execute_result"
        }
      ],
      "source": [
        "data_agg = data.groupby('work_year')['salary_in_usd'].describe().round(2)\n",
        "print('Распределение заработной платы по годам:')\n",
        "data_agg"
      ]
    },
    {
      "cell_type": "markdown",
      "metadata": {
        "id": "QnoG6XTK_fOH"
      },
      "source": [
        "На первый взгляд распределения страховых выплат для разных полов различны. Чтобы определить, являются ли эти различия статистически значимыми, в следующем разделе мы проведём статистическое тестирование."
      ]
    },
    {
      "cell_type": "markdown",
      "metadata": {
        "id": "crI7PFP0TpDI"
      },
      "source": [
        "### Страховые выплаты в зависимости от того, курит ли клиент."
      ]
    },
    {
      "cell_type": "code",
      "execution_count": null,
      "metadata": {
        "colab": {
          "base_uri": "https://localhost:8080/",
          "height": 480
        },
        "id": "SkPmlfj7S9BL",
        "outputId": "00283144-aa01-43c9-9ee4-b0a38efc3f84"
      },
      "outputs": [
        {
          "data": {
            "image/png": "[encoded data removed]",
            "text/plain": [
              "<Figure size 640x480 with 1 Axes>"
            ]
          },
          "metadata": {},
          "output_type": "display_data"
        }
      ],
      "source": [
        "ax = sns.boxplot(data, x='charges', y='smoker', orient='h', medianprops={\"color\": \"red\", \"linestyle\": '--'})\n",
        "ax.set(xlabel='Размер страховых выплат', ylabel='Курение')\n",
        "plt.title('Распределение страховых выплат по курению')\n",
        "plt.show()"
      ]
    },
    {
      "cell_type": "code",
      "execution_count": null,
      "metadata": {
        "colab": {
          "base_uri": "https://localhost:8080/",
          "height": 161
        },
        "id": "yeXQdZzQS9BL",
        "outputId": "452b6af6-f003-4332-8d79-cffcaa4f8fb8"
      },
      "outputs": [
        {
          "name": "stdout",
          "output_type": "stream",
          "text": [
            "Страховые выплаты в зависимости от курения\n"
          ]
        },
        {
          "data": {
            "text/html": [
              "\n",
              "  <div id=\"df-4f8c3e35-5a00-4253-a8bd-e97f6196f110\">\n",
              "    <div class=\"colab-df-container\">\n",
              "      <div>\n",
              "<style scoped>\n",
              "    .dataframe tbody tr th:only-of-type {\n",
              "        vertical-align: middle;\n",
              "    }\n",
              "\n",
              "    .dataframe tbody tr th {\n",
              "        vertical-align: top;\n",
              "    }\n",
              "\n",
              "    .dataframe thead th {\n",
              "        text-align: right;\n",
              "    }\n",
              "</style>\n",
              "<table border=\"1\" class=\"dataframe\">\n",
              "  <thead>\n",
              "    <tr style=\"text-align: right;\">\n",
              "      <th></th>\n",
              "      <th>count</th>\n",
              "      <th>mean</th>\n",
              "      <th>std</th>\n",
              "      <th>min</th>\n",
              "      <th>25%</th>\n",
              "      <th>50%</th>\n",
              "      <th>75%</th>\n",
              "      <th>max</th>\n",
              "    </tr>\n",
              "    <tr>\n",
              "      <th>smoker</th>\n",
              "      <th></th>\n",
              "      <th></th>\n",
              "      <th></th>\n",
              "      <th></th>\n",
              "      <th></th>\n",
              "      <th></th>\n",
              "      <th></th>\n",
              "      <th></th>\n",
              "    </tr>\n",
              "  </thead>\n",
              "  <tbody>\n",
              "    <tr>\n",
              "      <th>no</th>\n",
              "      <td>1063.0</td>\n",
              "      <td>8440.66</td>\n",
              "      <td>5992.97</td>\n",
              "      <td>1121.87</td>\n",
              "      <td>3988.88</td>\n",
              "      <td>7345.73</td>\n",
              "      <td>11363.02</td>\n",
              "      <td>36910.61</td>\n",
              "    </tr>\n",
              "    <tr>\n",
              "      <th>yes</th>\n",
              "      <td>274.0</td>\n",
              "      <td>32050.23</td>\n",
              "      <td>11541.55</td>\n",
              "      <td>12829.46</td>\n",
              "      <td>20826.24</td>\n",
              "      <td>34456.35</td>\n",
              "      <td>41019.21</td>\n",
              "      <td>63770.43</td>\n",
              "    </tr>\n",
              "  </tbody>\n",
              "</table>\n",
              "</div>\n",
              "      <button class=\"colab-df-convert\" onclick=\"convertToInteractive('df-4f8c3e35-5a00-4253-a8bd-e97f6196f110')\"\n",
              "              title=\"Convert this dataframe to an interactive table.\"\n",
              "              style=\"display:none;\">\n",
              "        \n",
              "  <svg xmlns=\"http://www.w3.org/2000/svg\" height=\"24px\"viewBox=\"0 0 24 24\"\n",
              "       width=\"24px\">\n",
              "    <path d=\"M0 0h24v24H0V0z\" fill=\"none\"/>\n",
              "    <path d=\"M18.56 5.44l.94 2.06.94-2.06 2.06-.94-2.06-.94-.94-2.06-.94 2.06-2.06.94zm-11 1L8.5 8.5l.94-2.06 2.06-.94-2.06-.94L8.5 2.5l-.94 2.06-2.06.94zm10 10l.94 2.06.94-2.06 2.06-.94-2.06-.94-.94-2.06-.94 2.06-2.06.94z\"/><path d=\"M17.41 7.96l-1.37-1.37c-.4-.4-.92-.59-1.43-.59-.52 0-1.04.2-1.43.59L10.3 9.45l-7.72 7.72c-.78.78-.78 2.05 0 2.83L4 21.41c.39.39.9.59 1.41.59.51 0 1.02-.2 1.41-.59l7.78-7.78 2.81-2.81c.8-.78.8-2.07 0-2.86zM5.41 20L4 18.59l7.72-7.72 1.47 1.35L5.41 20z\"/>\n",
              "  </svg>\n",
              "      </button>\n",
              "      \n",
              "  <style>\n",
              "    .colab-df-container {\n",
              "      display:flex;\n",
              "      flex-wrap:wrap;\n",
              "      gap: 12px;\n",
              "    }\n",
              "\n",
              "    .colab-df-convert {\n",
              "      background-color: #E8F0FE;\n",
              "      border: none;\n",
              "      border-radius: 50%;\n",
              "      cursor: pointer;\n",
              "      display: none;\n",
              "      fill: #1967D2;\n",
              "      height: 32px;\n",
              "      padding: 0 0 0 0;\n",
              "      width: 32px;\n",
              "    }\n",
              "\n",
              "    .colab-df-convert:hover {\n",
              "      background-color: #E2EBFA;\n",
              "      box-shadow: 0px 1px 2px rgba(60, 64, 67, 0.3), 0px 1px 3px 1px rgba(60, 64, 67, 0.15);\n",
              "      fill: #174EA6;\n",
              "    }\n",
              "\n",
              "    [theme=dark] .colab-df-convert {\n",
              "      background-color: #3B4455;\n",
              "      fill: #D2E3FC;\n",
              "    }\n",
              "\n",
              "    [theme=dark] .colab-df-convert:hover {\n",
              "      background-color: #434B5C;\n",
              "      box-shadow: 0px 1px 3px 1px rgba(0, 0, 0, 0.15);\n",
              "      filter: drop-shadow(0px 1px 2px rgba(0, 0, 0, 0.3));\n",
              "      fill: #FFFFFF;\n",
              "    }\n",
              "  </style>\n",
              "\n",
              "      <script>\n",
              "        const buttonEl =\n",
              "          document.querySelector('#df-4f8c3e35-5a00-4253-a8bd-e97f6196f110 button.colab-df-convert');\n",
              "        buttonEl.style.display =\n",
              "          google.colab.kernel.accessAllowed ? 'block' : 'none';\n",
              "\n",
              "        async function convertToInteractive(key) {\n",
              "          const element = document.querySelector('#df-4f8c3e35-5a00-4253-a8bd-e97f6196f110');\n",
              "          const dataTable =\n",
              "            await google.colab.kernel.invokeFunction('convertToInteractive',\n",
              "                                                     [key], {});\n",
              "          if (!dataTable) return;\n",
              "\n",
              "          const docLinkHtml = 'Like what you see? Visit the ' +\n",
              "            '<a target=\"_blank\" href=https://colab.research.google.com/notebooks/data_table.ipynb>data table notebook</a>'\n",
              "            + ' to learn more about interactive tables.';\n",
              "          element.innerHTML = '';\n",
              "          dataTable['output_type'] = 'display_data';\n",
              "          await google.colab.output.renderOutput(dataTable, element);\n",
              "          const docLink = document.createElement('div');\n",
              "          docLink.innerHTML = docLinkHtml;\n",
              "          element.appendChild(docLink);\n",
              "        }\n",
              "      </script>\n",
              "    </div>\n",
              "  </div>\n",
              "  "
            ],
            "text/plain": [
              "         count      mean       std       min       25%       50%       75%  \\\n",
              "smoker                                                                       \n",
              "no      1063.0   8440.66   5992.97   1121.87   3988.88   7345.73  11363.02   \n",
              "yes      274.0  32050.23  11541.55  12829.46  20826.24  34456.35  41019.21   \n",
              "\n",
              "             max  \n",
              "smoker            \n",
              "no      36910.61  \n",
              "yes     63770.43  "
            ]
          },
          "execution_count": 24,
          "metadata": {},
          "output_type": "execute_result"
        }
      ],
      "source": [
        "data_agg = data.groupby('smoker')['charges'].describe().round(2)\n",
        "print('Страховые выплаты в зависимости от курения')\n",
        "data_agg"
      ]
    },
    {
      "cell_type": "markdown",
      "metadata": {
        "id": "zK_jL2gjS9BL"
      },
      "source": [
        "Распределения страховых выплат различны в зависимости от того, курит ли клиент. Чтобы определить, являются ли эти различия статистически значимыми, в следующем разделе мы проведём статистические тесты."
      ]
    },
    {
      "cell_type": "markdown",
      "metadata": {
        "id": "y5MHyfPTTshb"
      },
      "source": [
        "### Страховые выплаты в зависимости от региона"
      ]
    },
    {
      "cell_type": "code",
      "execution_count": null,
      "metadata": {
        "colab": {
          "base_uri": "https://localhost:8080/",
          "height": 480
        },
        "id": "denXZIElwzvO",
        "outputId": "5101be0d-2e82-4126-ab69-ffc179b1626b"
      },
      "outputs": [
        {
          "data": {
            "image/png": "[encoded data removed]",
            "text/plain": [
              "<Figure size 640x480 with 1 Axes>"
            ]
          },
          "metadata": {},
          "output_type": "display_data"
        }
      ],
      "source": [
        "ax = sns.boxplot(data, x='charges', y='region', orient='h', medianprops={\"color\": \"red\", \"linestyle\": '--'})\n",
        "ax.set(xlabel='Размер страховых выплат', ylabel='Регион')\n",
        "plt.title('Распределение страховых выплат по региону')\n",
        "plt.show()"
      ]
    },
    {
      "cell_type": "code",
      "execution_count": null,
      "metadata": {
        "colab": {
          "base_uri": "https://localhost:8080/",
          "height": 223
        },
        "id": "xfI208tHwz6T",
        "outputId": "af1e6d3f-7417-4633-814a-353507e9104f"
      },
      "outputs": [
        {
          "name": "stdout",
          "output_type": "stream",
          "text": [
            "Страховые выплаты в зависимости от региона\n"
          ]
        },
        {
          "data": {
            "text/html": [
              "\n",
              "  <div id=\"df-a8594f2d-c5ff-4da5-9608-3903e04c3ac6\">\n",
              "    <div class=\"colab-df-container\">\n",
              "      <div>\n",
              "<style scoped>\n",
              "    .dataframe tbody tr th:only-of-type {\n",
              "        vertical-align: middle;\n",
              "    }\n",
              "\n",
              "    .dataframe tbody tr th {\n",
              "        vertical-align: top;\n",
              "    }\n",
              "\n",
              "    .dataframe thead th {\n",
              "        text-align: right;\n",
              "    }\n",
              "</style>\n",
              "<table border=\"1\" class=\"dataframe\">\n",
              "  <thead>\n",
              "    <tr style=\"text-align: right;\">\n",
              "      <th></th>\n",
              "      <th>count</th>\n",
              "      <th>mean</th>\n",
              "      <th>std</th>\n",
              "      <th>min</th>\n",
              "      <th>25%</th>\n",
              "      <th>50%</th>\n",
              "      <th>75%</th>\n",
              "      <th>max</th>\n",
              "    </tr>\n",
              "    <tr>\n",
              "      <th>region</th>\n",
              "      <th></th>\n",
              "      <th></th>\n",
              "      <th></th>\n",
              "      <th></th>\n",
              "      <th></th>\n",
              "      <th></th>\n",
              "      <th></th>\n",
              "      <th></th>\n",
              "    </tr>\n",
              "  </thead>\n",
              "  <tbody>\n",
              "    <tr>\n",
              "      <th>northeast</th>\n",
              "      <td>324.0</td>\n",
              "      <td>13406.38</td>\n",
              "      <td>11255.80</td>\n",
              "      <td>1694.80</td>\n",
              "      <td>5194.32</td>\n",
              "      <td>10057.65</td>\n",
              "      <td>16687.36</td>\n",
              "      <td>58571.07</td>\n",
              "    </tr>\n",
              "    <tr>\n",
              "      <th>northwest</th>\n",
              "      <td>324.0</td>\n",
              "      <td>12450.84</td>\n",
              "      <td>11073.13</td>\n",
              "      <td>1621.34</td>\n",
              "      <td>4733.64</td>\n",
              "      <td>8976.98</td>\n",
              "      <td>14788.75</td>\n",
              "      <td>60021.40</td>\n",
              "    </tr>\n",
              "    <tr>\n",
              "      <th>southeast</th>\n",
              "      <td>364.0</td>\n",
              "      <td>14735.41</td>\n",
              "      <td>13971.10</td>\n",
              "      <td>1121.87</td>\n",
              "      <td>4440.89</td>\n",
              "      <td>9294.13</td>\n",
              "      <td>19526.29</td>\n",
              "      <td>63770.43</td>\n",
              "    </tr>\n",
              "    <tr>\n",
              "      <th>southwest</th>\n",
              "      <td>325.0</td>\n",
              "      <td>12346.94</td>\n",
              "      <td>11557.18</td>\n",
              "      <td>1241.56</td>\n",
              "      <td>4751.07</td>\n",
              "      <td>8798.59</td>\n",
              "      <td>13462.52</td>\n",
              "      <td>52590.83</td>\n",
              "    </tr>\n",
              "  </tbody>\n",
              "</table>\n",
              "</div>\n",
              "      <button class=\"colab-df-convert\" onclick=\"convertToInteractive('df-a8594f2d-c5ff-4da5-9608-3903e04c3ac6')\"\n",
              "              title=\"Convert this dataframe to an interactive table.\"\n",
              "              style=\"display:none;\">\n",
              "        \n",
              "  <svg xmlns=\"http://www.w3.org/2000/svg\" height=\"24px\"viewBox=\"0 0 24 24\"\n",
              "       width=\"24px\">\n",
              "    <path d=\"M0 0h24v24H0V0z\" fill=\"none\"/>\n",
              "    <path d=\"M18.56 5.44l.94 2.06.94-2.06 2.06-.94-2.06-.94-.94-2.06-.94 2.06-2.06.94zm-11 1L8.5 8.5l.94-2.06 2.06-.94-2.06-.94L8.5 2.5l-.94 2.06-2.06.94zm10 10l.94 2.06.94-2.06 2.06-.94-2.06-.94-.94-2.06-.94 2.06-2.06.94z\"/><path d=\"M17.41 7.96l-1.37-1.37c-.4-.4-.92-.59-1.43-.59-.52 0-1.04.2-1.43.59L10.3 9.45l-7.72 7.72c-.78.78-.78 2.05 0 2.83L4 21.41c.39.39.9.59 1.41.59.51 0 1.02-.2 1.41-.59l7.78-7.78 2.81-2.81c.8-.78.8-2.07 0-2.86zM5.41 20L4 18.59l7.72-7.72 1.47 1.35L5.41 20z\"/>\n",
              "  </svg>\n",
              "      </button>\n",
              "      \n",
              "  <style>\n",
              "    .colab-df-container {\n",
              "      display:flex;\n",
              "      flex-wrap:wrap;\n",
              "      gap: 12px;\n",
              "    }\n",
              "\n",
              "    .colab-df-convert {\n",
              "      background-color: #E8F0FE;\n",
              "      border: none;\n",
              "      border-radius: 50%;\n",
              "      cursor: pointer;\n",
              "      display: none;\n",
              "      fill: #1967D2;\n",
              "      height: 32px;\n",
              "      padding: 0 0 0 0;\n",
              "      width: 32px;\n",
              "    }\n",
              "\n",
              "    .colab-df-convert:hover {\n",
              "      background-color: #E2EBFA;\n",
              "      box-shadow: 0px 1px 2px rgba(60, 64, 67, 0.3), 0px 1px 3px 1px rgba(60, 64, 67, 0.15);\n",
              "      fill: #174EA6;\n",
              "    }\n",
              "\n",
              "    [theme=dark] .colab-df-convert {\n",
              "      background-color: #3B4455;\n",
              "      fill: #D2E3FC;\n",
              "    }\n",
              "\n",
              "    [theme=dark] .colab-df-convert:hover {\n",
              "      background-color: #434B5C;\n",
              "      box-shadow: 0px 1px 3px 1px rgba(0, 0, 0, 0.15);\n",
              "      filter: drop-shadow(0px 1px 2px rgba(0, 0, 0, 0.3));\n",
              "      fill: #FFFFFF;\n",
              "    }\n",
              "  </style>\n",
              "\n",
              "      <script>\n",
              "        const buttonEl =\n",
              "          document.querySelector('#df-a8594f2d-c5ff-4da5-9608-3903e04c3ac6 button.colab-df-convert');\n",
              "        buttonEl.style.display =\n",
              "          google.colab.kernel.accessAllowed ? 'block' : 'none';\n",
              "\n",
              "        async function convertToInteractive(key) {\n",
              "          const element = document.querySelector('#df-a8594f2d-c5ff-4da5-9608-3903e04c3ac6');\n",
              "          const dataTable =\n",
              "            await google.colab.kernel.invokeFunction('convertToInteractive',\n",
              "                                                     [key], {});\n",
              "          if (!dataTable) return;\n",
              "\n",
              "          const docLinkHtml = 'Like what you see? Visit the ' +\n",
              "            '<a target=\"_blank\" href=https://colab.research.google.com/notebooks/data_table.ipynb>data table notebook</a>'\n",
              "            + ' to learn more about interactive tables.';\n",
              "          element.innerHTML = '';\n",
              "          dataTable['output_type'] = 'display_data';\n",
              "          await google.colab.output.renderOutput(dataTable, element);\n",
              "          const docLink = document.createElement('div');\n",
              "          docLink.innerHTML = docLinkHtml;\n",
              "          element.appendChild(docLink);\n",
              "        }\n",
              "      </script>\n",
              "    </div>\n",
              "  </div>\n",
              "  "
            ],
            "text/plain": [
              "           count      mean       std      min      25%       50%       75%  \\\n",
              "region                                                                       \n",
              "northeast  324.0  13406.38  11255.80  1694.80  5194.32  10057.65  16687.36   \n",
              "northwest  324.0  12450.84  11073.13  1621.34  4733.64   8976.98  14788.75   \n",
              "southeast  364.0  14735.41  13971.10  1121.87  4440.89   9294.13  19526.29   \n",
              "southwest  325.0  12346.94  11557.18  1241.56  4751.07   8798.59  13462.52   \n",
              "\n",
              "                max  \n",
              "region               \n",
              "northeast  58571.07  \n",
              "northwest  60021.40  \n",
              "southeast  63770.43  \n",
              "southwest  52590.83  "
            ]
          },
          "execution_count": 26,
          "metadata": {},
          "output_type": "execute_result"
        }
      ],
      "source": [
        "data_agg = data.groupby('region')['charges'].describe().round(2)\n",
        "print('Страховые выплаты в зависимости от региона')\n",
        "data_agg"
      ]
    },
    {
      "cell_type": "markdown",
      "metadata": {
        "id": "y_SC_018yS76"
      },
      "source": [
        "Распределения страховых выплат различны для разных регионов. Чтобы определить, являются ли эти различия статистически значимыми, в следующем разделе мы проведём статистические тесты."
      ]
    },
    {
      "cell_type": "markdown",
      "metadata": {
        "id": "GlJ2fclcl7Zd"
      },
      "source": [
        "### Соотношение курящих среди мужчин и женщин"
      ]
    },
    {
      "cell_type": "code",
      "execution_count": null,
      "metadata": {
        "id": "Uk8459-8l7Zd",
        "outputId": "ec251979-47d0-4b80-8c0a-d4416583b95c"
      },
      "outputs": [
        {
          "data": {
            "image/png": "[encoded data removed]",
            "text/plain": [
              "<Figure size 640x480 with 1 Axes>"
            ]
          },
          "metadata": {},
          "output_type": "display_data"
        }
      ],
      "source": [
        "ax = sns.countplot(data=data, x=data['sex'], hue='smoker')\n",
        "ax.set(xlabel='Пол', ylabel='Количество')\n",
        "plt.title('Соотношение курящих и некурящих по полу')\n",
        "plt.show()"
      ]
    },
    {
      "cell_type": "code",
      "execution_count": null,
      "metadata": {
        "colab": {
          "base_uri": "https://localhost:8080/",
          "height": 480
        },
        "id": "81kAFODPl7Zd",
        "outputId": "3a36537f-39d6-4e12-a1c6-ec986ebdd15f"
      },
      "outputs": [
        {
          "data": {
            "image/png": "[encoded data removed]",
            "text/plain": [
              "<Figure size 640x480 with 2 Axes>"
            ]
          },
          "metadata": {},
          "output_type": "display_data"
        }
      ],
      "source": [
        "cross_tab = pd.crosstab(index=data['sex'], columns=data['smoker'])\n",
        "ax = sns.heatmap(cross_tab, annot=True, linewidth=.5, fmt='.0f', cmap=\"coolwarm\")\n",
        "ax.set(xlabel='Пол', ylabel='Возраст')\n",
        "plt.title('Таблица сопряженности')\n",
        "plt.show()"
      ]
    },
    {
      "cell_type": "markdown",
      "metadata": {
        "id": "Z0rsfkQql7Ze"
      },
      "source": [
        "Согласно данным, среди курящих мужчин больше, чем женщин. Чтобы определить, являются ли эти различия статистически значимыми, в следующем разделе мы проведём статистические тесты."
      ]
    },
    {
      "cell_type": "markdown",
      "metadata": {
        "id": "-UcttLBPfd8-"
      },
      "source": [
        "## Статистический анализ данных\n",
        "\n"
      ]
    },
    {
      "cell_type": "code",
      "execution_count": null,
      "metadata": {
        "id": "sn3PGE23l7Ze"
      },
      "outputs": [],
      "source": [
        "# функция для принятия решения о нормальности\n",
        "def decision_normality(p):\n",
        "    print('p-value = {:.3f}'.format(p))\n",
        "    if p <= alpha:\n",
        "        print('p-значение меньше, чем заданный уровень значимости {:.2f}. Распределение отлично от нормального'.format(alpha))\n",
        "    else:\n",
        "        print('p-значение больше, чем заданный уровень значимости {:.2f}. Распределение является нормальным'.format(alpha))\n",
        "\n",
        "\n",
        "# функция для принятия решения об отклонении нулевой гипотезы\n",
        "def decision_hypothesis(p):\n",
        "    print('p-value = {:.3f}'.format(p))\n",
        "    if p <= alpha:\n",
        "        print('p-значение меньше, чем заданный уровень значимости {:.2f}. Отвергаем нулевую гипотезу в пользу альтернативной.'.format(alpha))\n",
        "    else:\n",
        "        print('p-значение больше, чем заданный уровень значимости {:.2f}. У нас нет оснований отвергнуть нулевую гипотезу.'.format(alpha))\n",
        "      "
      ]
    },
    {
      "cell_type": "markdown",
      "metadata": {
        "id": "zxbl3BYLGKIW"
      },
      "source": [
        "### Размер страховых выплат для клиентов-мужчин больше, чем для клиентов-женщин?\n",
        "\n",
        "**Сформулируем нулевую и альтернативные гипотезы**\n",
        "\n",
        "*Нулевая гипотеза* ($H_0$): размер страховых выплат клиентов-мужчин ($μ_1$) статистически меньше либо равен размеру страховых выплат клиентов-женщин ($μ_2$).\n",
        "\n",
        "$$ H_0 : μ_1 <= μ_2$$\n",
        "\n",
        "*Альтернативная гипотеза* ($H_1$): размер страховых выплат клиентов-мужчин ($μ_1$) статистически больше, чем размер страховых выплат клиентов-женщин ($μ_2$).\n",
        "\n",
        "$$ H_1 : μ_1 > μ_2$$"
      ]
    },
    {
      "cell_type": "markdown",
      "metadata": {
        "id": "Yi8l7ZWSl7Ze"
      },
      "source": [
        "**Проверка на нормальность**\n",
        "\n",
        "С помощью теста Шапиро-Уилка проверим, распределён ли признак нормально. Напомним гипотезы теста Шапиро-Уилка:\n",
        "\n",
        "*Нулевая гипотеза* ($H_0$): распределение данные является нормальным.\n",
        "\n",
        "*Альтернативная гипотеза* ($H_1$): распределение данных отлично от нормального."
      ]
    },
    {
      "cell_type": "code",
      "execution_count": null,
      "metadata": {
        "colab": {
          "base_uri": "https://localhost:8080/"
        },
        "id": "bCxAGItPTHRe",
        "outputId": "334716f4-96c7-4a21-ca5f-c7d352adde2b"
      },
      "outputs": [
        {
          "name": "stdout",
          "output_type": "stream",
          "text": [
            "Для мужчин:\n",
            "p-value = 0.000\n",
            "p-значение меньше, чем заданный уровень значимости 0.05. Распределение отлично от нормального\n",
            "Для женщин:\n",
            "p-value = 0.000\n",
            "p-значение меньше, чем заданный уровень значимости 0.05. Распределение отлично от нормального\n"
          ]
        }
      ],
      "source": [
        "# значения страховых выплат\n",
        "charges_male = data.loc[data['sex']=='male', 'charges']\n",
        "charges_female = data.loc[data['sex']=='female', 'charges']\n",
        "\n",
        "# проводим тест Шапиро-Уилка\n",
        "print('Для мужчин:')\n",
        "result = stats.shapiro(charges_male)\n",
        "decision_normality(result[1])\n",
        "\n",
        "print('Для женщин:')\n",
        "result = stats.shapiro(charges_female)\n",
        "decision_normality(result[1])"
      ]
    },
    {
      "cell_type": "markdown",
      "metadata": {
        "id": "IBOYMwmfTHRu"
      },
      "source": [
        "**Выберем подходящий статистический тест**\n",
        "\n",
        "Для выбора нужного теста воспользуемся алгоритмом выбора теста. Для этого ответим на следующие вопросы:\n",
        "* Какой тип у признака «Размер страховых выплат»? — Количественный.\n",
        "* Сколько сравниваемых групп? — Две.\n",
        "* Группы зависимы? — Нет.\n",
        "* Признак распределён по нормальному закону? — Нет.\n",
        "\n",
        "Чтобы проверить нашу гипотезу, можно использовать U-критерий Манна — Уитни для сравнения распределений на основе рангов.\n",
        "\n",
        "**Проведём тест**"
      ]
    },
    {
      "cell_type": "code",
      "execution_count": null,
      "metadata": {
        "colab": {
          "base_uri": "https://localhost:8080/"
        },
        "id": "xaQuaMV8THRu",
        "outputId": "0e37fc3b-bd2e-4166-8d52-f373fd82c672"
      },
      "outputs": [
        {
          "name": "stdout",
          "output_type": "stream",
          "text": [
            "p-value = 0.694\n",
            "p-значение больше, чем заданный уровень значимости 0.05. У нас нет оснований отвергнуть нулевую гипотезу.\n"
          ]
        }
      ],
      "source": [
        "# проводим тест\n",
        "_, p = stats.mannwhitneyu(charges_male, charges_female, alternative='greater')\n",
        "decision_hypothesis(p)"
      ]
    },
    {
      "cell_type": "markdown",
      "metadata": {
        "id": "aZEt9hu-Q995"
      },
      "source": [
        "**Вывод**\n",
        "\n",
        "Нет оснований утверждать, что размер страховых выплат для клиентов-мужчин больше, чем для клиентов-женщин."
      ]
    },
    {
      "cell_type": "markdown",
      "metadata": {
        "id": "JW47VJo3Q99s"
      },
      "source": [
        "### Размер страховых выплат для некурящих клиентов меньше, чем для курящих?\n",
        "\n",
        "\n",
        "**Сформулируем нулевую и альтернативные гипотезы**\n",
        "\n",
        "*Нулевая гипотеза* ($H_0$): размер страховых выплат для некурящих клиентов ($μ_1$) статистически больше либо равен размеру страховых выплат для курящих клиентов ($μ_2$).\n",
        "\n",
        "$$ H_0 : μ_1 >= μ_2$$\n",
        "\n",
        "*Альтернативная гипотеза* ($H_1$): размер страховых выплат для некурящих клиентов ($μ_1$) статистически меньше, чем размер страховых выплат для курящих клиентов ($μ_2$).\n",
        "$$ H_1 : μ_1 < μ_2$$\n",
        "\n",
        "\n"
      ]
    },
    {
      "cell_type": "markdown",
      "metadata": {
        "id": "kMk6Q5sRl7Zf"
      },
      "source": [
        "**Проверка на нормальность**\n",
        "\n",
        "С помощью теста Шапиро-Уилка проверим, распределён ли признак нормально."
      ]
    },
    {
      "cell_type": "code",
      "execution_count": null,
      "metadata": {
        "colab": {
          "base_uri": "https://localhost:8080/"
        },
        "id": "JxXzC7-_RNDj",
        "outputId": "6e4c2c71-7d7d-4510-883c-8a52b5f64149"
      },
      "outputs": [
        {
          "name": "stdout",
          "output_type": "stream",
          "text": [
            "Для некурящих клиентов:\n",
            "p-value = 0.000\n",
            "p-значение меньше, чем заданный уровень значимости 0.05. Распределение отлично от нормального\n",
            "Для курящих клиентов:\n",
            "p-value = 0.000\n",
            "p-значение меньше, чем заданный уровень значимости 0.05. Распределение отлично от нормального\n"
          ]
        }
      ],
      "source": [
        "# значения страховых выплат\n",
        "charges_no_smoker = data.loc[data['smoker']=='no', 'charges']\n",
        "charges_smoker = data.loc[data['smoker']=='yes', 'charges']\n",
        "\n",
        "# проводим тест Шапиро-Уилка\n",
        "print('Для некурящих клиентов:')\n",
        "result = stats.shapiro(charges_no_smoker)\n",
        "decision_normality(result[1])\n",
        "\n",
        "print('Для курящих клиентов:')\n",
        "result = stats.shapiro(charges_smoker)\n",
        "decision_normality(result[1])"
      ]
    },
    {
      "cell_type": "markdown",
      "metadata": {
        "id": "gKIiBvTMRNDk"
      },
      "source": [
        "**Выберем подходящий статистический тест**\n",
        "\n",
        "Для выбора нужного теста воспользуемся алгоритмом выбора теста. Для этого ответим на следующие вопросы:\n",
        "* Какой тип у признака «Размер страховых выплат»? — Количественный.\n",
        "* Сколько сравниваемых групп? — Две.\n",
        "* Группы зависимы? — Нет.\n",
        "* Признак распределён по нормальному закону? — Нет.\n",
        "\n",
        "Для проверки нашей гипотезы можно использовать U-критерий Манна — Уитни.\n",
        "\n",
        "**Проведём тест**\n"
      ]
    },
    {
      "cell_type": "code",
      "execution_count": null,
      "metadata": {
        "colab": {
          "base_uri": "https://localhost:8080/"
        },
        "id": "93N51wSsRNDk",
        "outputId": "0df1775e-94ad-41b1-d7fc-4d91335fc590"
      },
      "outputs": [
        {
          "name": "stdout",
          "output_type": "stream",
          "text": [
            "p-value = 0.000\n",
            "p-значение меньше, чем заданный уровень значимости 0.05. Отвергаем нулевую гипотезу в пользу альтернативной.\n"
          ]
        }
      ],
      "source": [
        "# проводим тест\n",
        "_, p = stats.mannwhitneyu(charges_no_smoker, charges_smoker, alternative='less')\n",
        "decision_hypothesis(p)"
      ]
    },
    {
      "cell_type": "markdown",
      "metadata": {
        "id": "yZogeviaRNDk"
      },
      "source": [
        "**Вывод**\n",
        "\n",
        "Размер страховых выплат для некурящих клиентов меньше, чем для курящих."
      ]
    },
    {
      "cell_type": "markdown",
      "metadata": {
        "id": "ByITCYyXGKb4"
      },
      "source": [
        "### Влияет ли регион проживания на размер выплат?\n",
        "\n",
        "**Сформулируем нулевую и альтернативные гипотезы**\n",
        "\n",
        "*Нулевая гипотеза*: размер страховых выплат не отличается в разных регионах: северо-восток ($μ_1$), юго-восток ($μ_2$), юго-запад ($μ_3$), северо-запад ($μ_4$).\n",
        "\n",
        "$$ H_0 : μ_1 = μ_2 = μ_3 = μ_4$$\n",
        "\n",
        "*Альтернативная гипотеза*: размер страховых выплат отличается в разных регионах: северо-восток ($μ_1$), юго-восток ($μ_2$), юго-запад ($μ_3$), северо-запад ($μ_4$).\n",
        "\n",
        "$$ H_1 : μ_1 \\neq μ_2 \\neq μ_3 \\neq μ_4$$\n",
        "\n"
      ]
    },
    {
      "cell_type": "markdown",
      "metadata": {
        "id": "dPXLUo31l7Zg"
      },
      "source": [
        "**Проверка на нормальность**\n",
        "\n",
        "С помощью теста Шапиро-Уилка проверим, распределён ли признак нормально."
      ]
    },
    {
      "cell_type": "code",
      "execution_count": null,
      "metadata": {
        "colab": {
          "base_uri": "https://localhost:8080/"
        },
        "id": "0g8PmvdlGKmP",
        "outputId": "48892466-4da7-4a58-c414-d3af794b053d"
      },
      "outputs": [
        {
          "name": "stdout",
          "output_type": "stream",
          "text": [
            "Для северо-востока:\n",
            "p-value = 0.000\n",
            "p-значение меньше, чем заданный уровень значимости 0.05. Распределение отлично от нормального\n",
            "Для юго-востока:\n",
            "p-value = 0.000\n",
            "p-значение меньше, чем заданный уровень значимости 0.05. Распределение отлично от нормального\n",
            "Для северо-запада:\n",
            "p-value = 0.000\n",
            "p-значение меньше, чем заданный уровень значимости 0.05. Распределение отлично от нормального\n",
            "Для юго-запада:\n",
            "p-value = 0.000\n",
            "p-значение меньше, чем заданный уровень значимости 0.05. Распределение отлично от нормального\n"
          ]
        }
      ],
      "source": [
        "# значения страховых выплат\n",
        "charges_northeast = data.loc[data['region']=='northeast', 'charges']\n",
        "charges_southeast = data.loc[data['region']=='southeast', 'charges']\n",
        "charges_northwest = data.loc[data['region']=='northwest', 'charges']\n",
        "charges_southwest = data.loc[data['region']=='southwest', 'charges']\n",
        "\n",
        "# проводим тест Шапиро-Уилка\n",
        "print('Для северо-востока:')\n",
        "result = stats.shapiro(charges_northeast)\n",
        "decision_normality(result[1])\n",
        "\n",
        "print('Для юго-востока:')\n",
        "result = stats.shapiro(charges_southeast)\n",
        "decision_normality(result[1])\n",
        "\n",
        "print('Для северо-запада:')\n",
        "result = stats.shapiro(charges_northwest)\n",
        "decision_normality(result[1])\n",
        "\n",
        "print('Для юго-запада:')\n",
        "result = stats.shapiro(charges_southwest)\n",
        "decision_normality(result[1])\n"
      ]
    },
    {
      "cell_type": "markdown",
      "metadata": {
        "id": "FPq2KNq4dbWj"
      },
      "source": [
        "**Выберем подходящий статистический тест**\n",
        "\n",
        "Для выбора нужного теста воспользуемся алгоритмом выбора теста. Для этого ответим на следующие вопросы:\n",
        "* Какой тип у признака «Регион проживания в США»? — Количественный.\n",
        "* Сколько сравниваемых групп? — Четыре.\n",
        "* Группы зависимы? — Нет.\n",
        "* Признак распределён по нормальному закону? — Нет. \n",
        "\n",
        "Для проверки нашей гипотезы можно использовать критерий Краскела — Уоллиса.\n",
        "\n",
        "**Проведём тест**"
      ]
    },
    {
      "cell_type": "code",
      "execution_count": null,
      "metadata": {
        "colab": {
          "base_uri": "https://localhost:8080/"
        },
        "id": "ZIJjzAQxfnsp",
        "outputId": "11a9cf62-98d8-4de3-9cec-1c040577ac51"
      },
      "outputs": [
        {
          "name": "stdout",
          "output_type": "stream",
          "text": [
            "p-value = 0.202\n",
            "p-значение больше, чем заданный уровень значимости 0.05. У нас нет оснований отвергнуть нулевую гипотезу.\n"
          ]
        }
      ],
      "source": [
        "# проводим тест\n",
        "_, p = stats.kruskal(charges_northeast, charges_southeast, charges_southwest, charges_northwest)\n",
        "decision_hypothesis(p)"
      ]
    },
    {
      "cell_type": "markdown",
      "metadata": {
        "id": "TESdSdapPblj"
      },
      "source": [
        "**Вывод**\n",
        "\n",
        "Нет оснований утверждать, что есть разница в размере страховых выплат в разных регионах."
      ]
    },
    {
      "cell_type": "markdown",
      "metadata": {
        "id": "C_BzXnR7l7Zh"
      },
      "source": [
        "### Есть ли взаимосвязь между курением и полом?"
      ]
    },
    {
      "cell_type": "markdown",
      "metadata": {
        "id": "nTL6_EGyl7Zh"
      },
      "source": [
        "**Сформулируем нулевую и альтернативные гипотезы**\n",
        "\n",
        "*Нулевая гипотеза*: между тем, курит человек или нет, и его полом нет взаимосвязи (признаки независимы).\n",
        "\n",
        "*Альтернативная гипотеза*: между тем, курит человек или нет, и его полом есть взаимосвязь (признаки зависимы).\n"
      ]
    },
    {
      "cell_type": "markdown",
      "metadata": {
        "id": "JBDWUoufl7Zh"
      },
      "source": [
        "**Выберем подходящий статистический тест**\n",
        "\n",
        "Для выбора нужного теста воспользуемся алгоритмом выбора теста. Для этого ответим на следующие вопросы:\n",
        "* Какой тип у признака «Пол»? — Категориальный.\n",
        "* Сколько сравниваемых групп? — Две.\n",
        "* Проверяется независимость групп? — Да.\n",
        "\n",
        "Для проверки нашей гипотезы можно использовать критерий ${\\chi}^2$ (хи-квадрат).\n",
        "\n",
        "**Проведём тест**"
      ]
    },
    {
      "cell_type": "code",
      "execution_count": null,
      "metadata": {
        "colab": {
          "base_uri": "https://localhost:8080/",
          "height": 143
        },
        "id": "Hs4I-87_l7Zh",
        "outputId": "3c863879-9c55-497e-de9e-16dff9c07675"
      },
      "outputs": [
        {
          "data": {
            "text/html": [
              "\n",
              "  <div id=\"df-7e0dcc95-7d8f-4ad4-8455-b5684ee452e3\">\n",
              "    <div class=\"colab-df-container\">\n",
              "      <div>\n",
              "<style scoped>\n",
              "    .dataframe tbody tr th:only-of-type {\n",
              "        vertical-align: middle;\n",
              "    }\n",
              "\n",
              "    .dataframe tbody tr th {\n",
              "        vertical-align: top;\n",
              "    }\n",
              "\n",
              "    .dataframe thead th {\n",
              "        text-align: right;\n",
              "    }\n",
              "</style>\n",
              "<table border=\"1\" class=\"dataframe\">\n",
              "  <thead>\n",
              "    <tr style=\"text-align: right;\">\n",
              "      <th>smoker</th>\n",
              "      <th>no</th>\n",
              "      <th>yes</th>\n",
              "    </tr>\n",
              "    <tr>\n",
              "      <th>sex</th>\n",
              "      <th></th>\n",
              "      <th></th>\n",
              "    </tr>\n",
              "  </thead>\n",
              "  <tbody>\n",
              "    <tr>\n",
              "      <th>female</th>\n",
              "      <td>547</td>\n",
              "      <td>115</td>\n",
              "    </tr>\n",
              "    <tr>\n",
              "      <th>male</th>\n",
              "      <td>516</td>\n",
              "      <td>159</td>\n",
              "    </tr>\n",
              "  </tbody>\n",
              "</table>\n",
              "</div>\n",
              "      <button class=\"colab-df-convert\" onclick=\"convertToInteractive('df-7e0dcc95-7d8f-4ad4-8455-b5684ee452e3')\"\n",
              "              title=\"Convert this dataframe to an interactive table.\"\n",
              "              style=\"display:none;\">\n",
              "        \n",
              "  <svg xmlns=\"http://www.w3.org/2000/svg\" height=\"24px\"viewBox=\"0 0 24 24\"\n",
              "       width=\"24px\">\n",
              "    <path d=\"M0 0h24v24H0V0z\" fill=\"none\"/>\n",
              "    <path d=\"M18.56 5.44l.94 2.06.94-2.06 2.06-.94-2.06-.94-.94-2.06-.94 2.06-2.06.94zm-11 1L8.5 8.5l.94-2.06 2.06-.94-2.06-.94L8.5 2.5l-.94 2.06-2.06.94zm10 10l.94 2.06.94-2.06 2.06-.94-2.06-.94-.94-2.06-.94 2.06-2.06.94z\"/><path d=\"M17.41 7.96l-1.37-1.37c-.4-.4-.92-.59-1.43-.59-.52 0-1.04.2-1.43.59L10.3 9.45l-7.72 7.72c-.78.78-.78 2.05 0 2.83L4 21.41c.39.39.9.59 1.41.59.51 0 1.02-.2 1.41-.59l7.78-7.78 2.81-2.81c.8-.78.8-2.07 0-2.86zM5.41 20L4 18.59l7.72-7.72 1.47 1.35L5.41 20z\"/>\n",
              "  </svg>\n",
              "      </button>\n",
              "      \n",
              "  <style>\n",
              "    .colab-df-container {\n",
              "      display:flex;\n",
              "      flex-wrap:wrap;\n",
              "      gap: 12px;\n",
              "    }\n",
              "\n",
              "    .colab-df-convert {\n",
              "      background-color: #E8F0FE;\n",
              "      border: none;\n",
              "      border-radius: 50%;\n",
              "      cursor: pointer;\n",
              "      display: none;\n",
              "      fill: #1967D2;\n",
              "      height: 32px;\n",
              "      padding: 0 0 0 0;\n",
              "      width: 32px;\n",
              "    }\n",
              "\n",
              "    .colab-df-convert:hover {\n",
              "      background-color: #E2EBFA;\n",
              "      box-shadow: 0px 1px 2px rgba(60, 64, 67, 0.3), 0px 1px 3px 1px rgba(60, 64, 67, 0.15);\n",
              "      fill: #174EA6;\n",
              "    }\n",
              "\n",
              "    [theme=dark] .colab-df-convert {\n",
              "      background-color: #3B4455;\n",
              "      fill: #D2E3FC;\n",
              "    }\n",
              "\n",
              "    [theme=dark] .colab-df-convert:hover {\n",
              "      background-color: #434B5C;\n",
              "      box-shadow: 0px 1px 3px 1px rgba(0, 0, 0, 0.15);\n",
              "      filter: drop-shadow(0px 1px 2px rgba(0, 0, 0, 0.3));\n",
              "      fill: #FFFFFF;\n",
              "    }\n",
              "  </style>\n",
              "\n",
              "      <script>\n",
              "        const buttonEl =\n",
              "          document.querySelector('#df-7e0dcc95-7d8f-4ad4-8455-b5684ee452e3 button.colab-df-convert');\n",
              "        buttonEl.style.display =\n",
              "          google.colab.kernel.accessAllowed ? 'block' : 'none';\n",
              "\n",
              "        async function convertToInteractive(key) {\n",
              "          const element = document.querySelector('#df-7e0dcc95-7d8f-4ad4-8455-b5684ee452e3');\n",
              "          const dataTable =\n",
              "            await google.colab.kernel.invokeFunction('convertToInteractive',\n",
              "                                                     [key], {});\n",
              "          if (!dataTable) return;\n",
              "\n",
              "          const docLinkHtml = 'Like what you see? Visit the ' +\n",
              "            '<a target=\"_blank\" href=https://colab.research.google.com/notebooks/data_table.ipynb>data table notebook</a>'\n",
              "            + ' to learn more about interactive tables.';\n",
              "          element.innerHTML = '';\n",
              "          dataTable['output_type'] = 'display_data';\n",
              "          await google.colab.output.renderOutput(dataTable, element);\n",
              "          const docLink = document.createElement('div');\n",
              "          docLink.innerHTML = docLinkHtml;\n",
              "          element.appendChild(docLink);\n",
              "        }\n",
              "      </script>\n",
              "    </div>\n",
              "  </div>\n",
              "  "
            ],
            "text/plain": [
              "smoker   no  yes\n",
              "sex             \n",
              "female  547  115\n",
              "male    516  159"
            ]
          },
          "execution_count": 38,
          "metadata": {},
          "output_type": "execute_result"
        }
      ],
      "source": [
        "# составляем таблицу сопряжённости\n",
        "cross_table = pd.crosstab(data['sex'], data['smoker'])\n",
        "\n",
        "cross_table"
      ]
    },
    {
      "cell_type": "code",
      "execution_count": null,
      "metadata": {
        "colab": {
          "base_uri": "https://localhost:8080/"
        },
        "id": "QluLlU6Kl7Zh",
        "outputId": "93379b4f-594d-45a6-8283-733c181331fd"
      },
      "outputs": [
        {
          "name": "stdout",
          "output_type": "stream",
          "text": [
            "p-value = 0.006\n",
            "p-значение меньше, чем заданный уровень значимости 0.05. Отвергаем нулевую гипотезу в пользу альтернативной.\n"
          ]
        }
      ],
      "source": [
        "# проводим тест\n",
        "_, p, _, _ = stats.chi2_contingency(cross_table)\n",
        "decision_hypothesis(p)"
      ]
    },
    {
      "cell_type": "markdown",
      "metadata": {
        "id": "iX8a9h8Dl7Zh"
      },
      "source": [
        "**Вывод**\n",
        "\n",
        "Существует статистически значимая взаимосвязь между полом и курением."
      ]
    },
    {
      "cell_type": "markdown",
      "metadata": {
        "id": "weubXekLfsQX"
      },
      "source": [
        "## Итоговые результаты исследования\n",
        "\n",
        "*   Нет оснований утверждать, что есть разница в размере страховых выплат для клиентов-мужчин и клиентов-женщин.\n",
        "*   Размер страховых выплат для некурящих клиентов меньше, чем для курящих.\n",
        "*   Нет оснований утверждать, что есть разница в размере страховых выплат для разных регионов.\n",
        "*   Существует взаимосвязь между полом и курением."
      ]
    }
  ],
  "metadata": {
    "colab": {
      "provenance": []
    },
    "kernelspec": {
      "display_name": "Python 3.10.8 ('base')",
      "language": "python",
      "name": "python3"
    },
    "language_info": {
      "codemirror_mode": {
        "name": "ipython",
        "version": 3
      },
      "file_extension": ".py",
      "mimetype": "text/x-python",
      "name": "python",
      "nbconvert_exporter": "python",
      "pygments_lexer": "ipython3",
      "version": "3.9.10"
    },
    "vscode": {
      "interpreter": {
        "hash": "86c56a74836ad344b00594bf6f38fa6a676a207ceefe20d101fbc465800ccb8d"
      }
    }
  },
  "nbformat": 4,
  "nbformat_minor": 0
}
